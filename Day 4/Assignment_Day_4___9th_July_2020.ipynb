{
  "nbformat": 4,
  "nbformat_minor": 0,
  "metadata": {
    "colab": {
      "name": "Assignment Day 4 | 9th July 2020.ipynb",
      "provenance": [],
      "collapsed_sections": []
    },
    "kernelspec": {
      "name": "python3",
      "display_name": "Python 3"
    }
  },
  "cells": [
    {
      "cell_type": "markdown",
      "metadata": {
        "id": "7GRj0ClCvsUt",
        "colab_type": "text"
      },
      "source": [
        "Question 1 :\n",
        "Research on whether addition, subtraction, multiplication, division, floor division and modulo\n",
        "operations be performed on complex numbers. Based on your study, implement a Python\n",
        "program to demonstrate these operations.\n"
      ]
    },
    {
      "cell_type": "code",
      "metadata": {
        "id": "Hm8p8jgbvp6N",
        "colab_type": "code",
        "colab": {
          "base_uri": "https://localhost:8080/",
          "height": 85
        },
        "outputId": "2ce49008-347b-4475-c674-0d5e5dd1390f"
      },
      "source": [
        "num1 = 5+7j\n",
        "num2 = 2+2j\n",
        "\n",
        "add = num1+num2\n",
        "sub = num1-num2\n",
        "mul = num1*num2\n",
        "div = num1/num2\n",
        "# floor_div = num1//num2\n",
        "# mod = num1%num2\n",
        "\n",
        "print (add)\n",
        "print (sub)\n",
        "print (mul)\n",
        "print (div)\n",
        "# print (floor_div)\n",
        "# print (mod)\n",
        "\n",
        "\"\"\"Floor division and modulo operation is\n",
        "not possible using complex numbers.\n",
        "These operations will return an error\"\"\""
      ],
      "execution_count": null,
      "outputs": [
        {
          "output_type": "stream",
          "text": [
            "(7+9j)\n",
            "(3+5j)\n",
            "(-4+24j)\n",
            "(3+0.5j)\n"
          ],
          "name": "stdout"
        }
      ]
    },
    {
      "cell_type": "markdown",
      "metadata": {
        "id": "cpbOhTLp00zS",
        "colab_type": "text"
      },
      "source": [
        "**Question 2 :\n",
        "Research on range() functions and its parameters. Create a markdown cell and write in your own\n",
        "words (no copy-paste from google please) what you understand about it. Implement a small\n",
        "program of your choice on the same.**\n"
      ]
    },
    {
      "cell_type": "markdown",
      "metadata": {
        "id": "rKxjrgWVbKqS",
        "colab_type": "text"
      },
      "source": [
        "range () function will give us a sequence of numbers based on the parameters passed to the function.\n",
        "\n",
        "It has three parameters, namely start, stop and step.\n",
        "\n",
        "***Start*** parameter will determine the starting values of the returned sequence. It's 0 by default.\n",
        "\n",
        "***Stop*** parameter will determine the ending value of the sequence (will be excluded in the sequence). This value must be given by the user.\n",
        "\n",
        "***Step*** parameter will give the increment value of the sequence. This is optional. "
      ]
    },
    {
      "cell_type": "code",
      "metadata": {
        "id": "H4hV9qkWwWj1",
        "colab_type": "code",
        "colab": {
          "base_uri": "https://localhost:8080/",
          "height": 833
        },
        "outputId": "df619d4e-552d-4fd1-ab40-231c33ccd00e"
      },
      "source": [
        "a = range (10) #Start value is 0 by default, Stop value is given as 10\n",
        "\n",
        "b = range (10,20) #Start value is given as 10, Stop value is given as 20\n",
        "\n",
        "c = range (50,100,2) #Start value is given as 50, Stop value is given as 100, and Step is given as 2\n",
        "\n",
        "print('Values in a')\n",
        "for n in a:\n",
        "  print (n)\n",
        "\n",
        "print('Values in b')\n",
        "for n in b:\n",
        "  print (n)\n",
        "\n",
        "print('Values in c')\n",
        "for n in c:\n",
        "  print (n)"
      ],
      "execution_count": null,
      "outputs": [
        {
          "output_type": "stream",
          "text": [
            "Values in a\n",
            "0\n",
            "1\n",
            "2\n",
            "3\n",
            "4\n",
            "5\n",
            "6\n",
            "7\n",
            "8\n",
            "9\n",
            "Values in b\n",
            "10\n",
            "11\n",
            "12\n",
            "13\n",
            "14\n",
            "15\n",
            "16\n",
            "17\n",
            "18\n",
            "19\n",
            "Values in c\n",
            "50\n",
            "52\n",
            "54\n",
            "56\n",
            "58\n",
            "60\n",
            "62\n",
            "64\n",
            "66\n",
            "68\n",
            "70\n",
            "72\n",
            "74\n",
            "76\n",
            "78\n",
            "80\n",
            "82\n",
            "84\n",
            "86\n",
            "88\n",
            "90\n",
            "92\n",
            "94\n",
            "96\n",
            "98\n"
          ],
          "name": "stdout"
        }
      ]
    },
    {
      "cell_type": "markdown",
      "metadata": {
        "id": "Yuop-CYdeghu",
        "colab_type": "text"
      },
      "source": [
        "Question 3:\n",
        " Consider two numbers. Perform their subtraction and if the result of subtraction is greater than\n",
        "25, print their multiplication result else print their division result.\n"
      ]
    },
    {
      "cell_type": "code",
      "metadata": {
        "id": "zMWC9bnldljE",
        "colab_type": "code",
        "colab": {
          "base_uri": "https://localhost:8080/",
          "height": 34
        },
        "outputId": "dc4198f7-5f88-48d4-b8f3-9b635a5dc6d0"
      },
      "source": [
        "num1 = 100\n",
        "num2 = 70\n",
        "\n",
        "sub=num1-num2\n",
        "\n",
        "if sub>25:\n",
        "  print(num1*num2)\n",
        "else:\n",
        "  print(num1/num2)"
      ],
      "execution_count": null,
      "outputs": [
        {
          "output_type": "stream",
          "text": [
            "7000\n"
          ],
          "name": "stdout"
        }
      ]
    },
    {
      "cell_type": "markdown",
      "metadata": {
        "id": "55k1P78VfVwl",
        "colab_type": "text"
      },
      "source": [
        "Question 4:\n",
        "Consider a list of 10 elements of integer values. If the number in the list is divisible by 2, print the\n",
        "result as \"square of that number minus 2\"."
      ]
    },
    {
      "cell_type": "code",
      "metadata": {
        "id": "Kho6J3_LfJhn",
        "colab_type": "code",
        "colab": {
          "base_uri": "https://localhost:8080/",
          "height": 102
        },
        "outputId": "87f9b5f2-83c3-4e66-b499-c76566e47d20"
      },
      "source": [
        "values = [23,34,52,37,74,56,81,59,26,45]\n",
        "\n",
        "for value in values:\n",
        "  if value%2 == 0:\n",
        "    print(value**2-2)"
      ],
      "execution_count": null,
      "outputs": [
        {
          "output_type": "stream",
          "text": [
            "1154\n",
            "2702\n",
            "5474\n",
            "3134\n",
            "674\n"
          ],
          "name": "stdout"
        }
      ]
    },
    {
      "cell_type": "markdown",
      "metadata": {
        "id": "9OcIlOtQGtu2",
        "colab_type": "text"
      },
      "source": [
        "Question 5:\n",
        "Consider a list of 10 elements. Print all the elements in the list which are greater than 7 when that\n",
        "number is divided 2."
      ]
    },
    {
      "cell_type": "code",
      "metadata": {
        "id": "ZkJXjSxdf1eC",
        "colab_type": "code",
        "colab": {
          "base_uri": "https://localhost:8080/",
          "height": 136
        },
        "outputId": "bd076ef0-54a6-48c7-e0cc-bd1d50ffada4"
      },
      "source": [
        "numbers = [5,54,3,879,45,368,27,13,29,90]\n",
        "for num in numbers:\n",
        "  if num/2 > 7:\n",
        "    print (num)"
      ],
      "execution_count": null,
      "outputs": [
        {
          "output_type": "stream",
          "text": [
            "54\n",
            "879\n",
            "45\n",
            "368\n",
            "27\n",
            "29\n",
            "90\n"
          ],
          "name": "stdout"
        }
      ]
    },
    {
      "cell_type": "code",
      "metadata": {
        "id": "2XmqFSdTJOOK",
        "colab_type": "code",
        "colab": {}
      },
      "source": [
        ""
      ],
      "execution_count": null,
      "outputs": []
    }
  ]
}