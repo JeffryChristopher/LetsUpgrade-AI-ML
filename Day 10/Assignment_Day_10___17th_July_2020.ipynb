{
  "nbformat": 4,
  "nbformat_minor": 0,
  "metadata": {
    "colab": {
      "name": "Assignment Day 10 | 17th July 2020.ipynb",
      "provenance": []
    },
    "kernelspec": {
      "name": "python3",
      "display_name": "Python 3"
    }
  },
  "cells": [
    {
      "cell_type": "markdown",
      "metadata": {
        "id": "FUS9x_E7GQSi",
        "colab_type": "text"
      },
      "source": [
        "### Hypothesis 1\n",
        "Employees staying more that 20 km from the office are more likely to leave the company. "
      ]
    },
    {
      "cell_type": "markdown",
      "metadata": {
        "id": "6RMTFQoxJ4jo",
        "colab_type": "text"
      },
      "source": [
        "### Hypothesis 2\n",
        "Employees with Bachelors degree are more likely to leave the company."
      ]
    },
    {
      "cell_type": "markdown",
      "metadata": {
        "id": "BYOkUK6_KA5_",
        "colab_type": "text"
      },
      "source": [
        "### Hypothesis 3\n",
        "An employee from Life Sciences background is more likely to leave the company."
      ]
    },
    {
      "cell_type": "markdown",
      "metadata": {
        "id": "FQ3CbLK5MEcS",
        "colab_type": "text"
      },
      "source": [
        "### Hypothesis 4\n",
        "Male employees are more likely to leave the company"
      ]
    },
    {
      "cell_type": "markdown",
      "metadata": {
        "id": "57yBHgaiMbxK",
        "colab_type": "text"
      },
      "source": [
        "### Hypothesis 5\n",
        "Employees from level 1 and 2 are more likely to leave the company. "
      ]
    },
    {
      "cell_type": "markdown",
      "metadata": {
        "id": "6aX5Tc2GMgtd",
        "colab_type": "text"
      },
      "source": [
        "### Hypothesis 6\n",
        "Sales executives are more likely to leave the company."
      ]
    },
    {
      "cell_type": "markdown",
      "metadata": {
        "id": "gSMeoeYiNOFw",
        "colab_type": "text"
      },
      "source": [
        "### Hypothesis 7\n",
        "Single employess are more likely to leave the company. "
      ]
    },
    {
      "cell_type": "markdown",
      "metadata": {
        "id": "C26H0ueJXw2H",
        "colab_type": "text"
      },
      "source": [
        "### Hypothesis 8\n",
        "Employess with salary less than 50000 rupess are more likely to leave the company."
      ]
    },
    {
      "cell_type": "markdown",
      "metadata": {
        "id": "eh_kt6KkYcI3",
        "colab_type": "text"
      },
      "source": [
        "### Hypothesis 9\n",
        "Employess with less than 15% salary hike are more likely to leave the company."
      ]
    },
    {
      "cell_type": "markdown",
      "metadata": {
        "id": "Hvqe_ZADY6N6",
        "colab_type": "text"
      },
      "source": [
        "### Hypothesis 10\n",
        "Employees with 1 or no stock option level are more likely to leave the company."
      ]
    },
    {
      "cell_type": "code",
      "metadata": {
        "id": "My8hI0mKMcx5",
        "colab_type": "code",
        "colab": {}
      },
      "source": [
        ""
      ],
      "execution_count": null,
      "outputs": []
    }
  ]
}