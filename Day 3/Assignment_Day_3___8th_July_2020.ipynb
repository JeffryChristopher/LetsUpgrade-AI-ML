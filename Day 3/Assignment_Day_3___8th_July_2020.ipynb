{
  "nbformat": 4,
  "nbformat_minor": 0,
  "metadata": {
    "colab": {
      "name": "Assignment Day 3 | 8th July 2020.ipynb",
      "provenance": [],
      "collapsed_sections": []
    },
    "kernelspec": {
      "name": "python3",
      "display_name": "Python 3"
    }
  },
  "cells": [
    {
      "cell_type": "markdown",
      "metadata": {
        "id": "wsbY9z7629bx",
        "colab_type": "text"
      },
      "source": [
        "Question 1 :\n",
        "Write a program to subtract two complex numbers in Python.\n"
      ]
    },
    {
      "cell_type": "code",
      "metadata": {
        "id": "359z81Z42yeS",
        "colab_type": "code",
        "colab": {
          "base_uri": "https://localhost:8080/",
          "height": 34
        },
        "outputId": "2009e792-9650-4d20-b954-0af430afcc51"
      },
      "source": [
        "num_1 = 3 + 5j\n",
        "num_2 = 2 + 1j\n",
        "num_1-num_2"
      ],
      "execution_count": null,
      "outputs": [
        {
          "output_type": "execute_result",
          "data": {
            "text/plain": [
              "(1+4j)"
            ]
          },
          "metadata": {
            "tags": []
          },
          "execution_count": 1
        }
      ]
    },
    {
      "cell_type": "markdown",
      "metadata": {
        "id": "IZqwUJMk3Ydh",
        "colab_type": "text"
      },
      "source": [
        "Question 2 :\n",
        "Write a program to find the fourth root of a number."
      ]
    },
    {
      "cell_type": "code",
      "metadata": {
        "id": "tH45WziX22Lm",
        "colab_type": "code",
        "colab": {
          "base_uri": "https://localhost:8080/",
          "height": 34
        },
        "outputId": "3880be00-4ec7-4636-ccef-b4a8e0bcd183"
      },
      "source": [
        "power = 1/4\n",
        "num = 16\n",
        "fourth_root = num ** power\n",
        "fourth_root"
      ],
      "execution_count": null,
      "outputs": [
        {
          "output_type": "execute_result",
          "data": {
            "text/plain": [
              "2.0"
            ]
          },
          "metadata": {
            "tags": []
          },
          "execution_count": 8
        }
      ]
    },
    {
      "cell_type": "markdown",
      "metadata": {
        "id": "HVotuQWYcJ83",
        "colab_type": "text"
      },
      "source": [
        "Question 3:\n",
        "Write a program to swap two numbers in Python with the help of a temporary variable."
      ]
    },
    {
      "cell_type": "code",
      "metadata": {
        "id": "lFMBXUZhbHRr",
        "colab_type": "code",
        "colab": {
          "base_uri": "https://localhost:8080/",
          "height": 34
        },
        "outputId": "d9a2ff5c-2192-4d35-c62a-3f2b431e28f3"
      },
      "source": [
        "a = 3\n",
        "b = 4\n",
        "\n",
        "temp = a\n",
        "a = b\n",
        "b = temp\n",
        "\n",
        "print (a,b)"
      ],
      "execution_count": null,
      "outputs": [
        {
          "output_type": "stream",
          "text": [
            "4 3\n"
          ],
          "name": "stdout"
        }
      ]
    },
    {
      "cell_type": "markdown",
      "metadata": {
        "id": "UILZHpJWdD8K",
        "colab_type": "text"
      },
      "source": [
        "Question 4:\n",
        "Write a program to swap two numbers in Python without using a temporary variable.\n"
      ]
    },
    {
      "cell_type": "code",
      "metadata": {
        "id": "Cda3vT-hdElc",
        "colab_type": "code",
        "colab": {
          "base_uri": "https://localhost:8080/",
          "height": 34
        },
        "outputId": "e6addd28-3e4e-4a61-9c40-d5e9af185245"
      },
      "source": [
        "a = 400\n",
        "b = 600\n",
        "\n",
        "a= a+b\n",
        "b = a-b\n",
        "a = a-b\n",
        "\n",
        "print (a,b)\n"
      ],
      "execution_count": null,
      "outputs": [
        {
          "output_type": "stream",
          "text": [
            "600 400\n"
          ],
          "name": "stdout"
        }
      ]
    },
    {
      "cell_type": "markdown",
      "metadata": {
        "id": "FHzNW79jei2m",
        "colab_type": "text"
      },
      "source": [
        "Question 5:\n",
        "Write a program to convert fahrenheit to kelvin and celsius both.\n"
      ]
    },
    {
      "cell_type": "code",
      "metadata": {
        "id": "3UmQ78cYd97W",
        "colab_type": "code",
        "colab": {
          "base_uri": "https://localhost:8080/",
          "height": 51
        },
        "outputId": "7de584ee-f5ca-41b2-ca95-831ca5a3e14e"
      },
      "source": [
        "temp_fah = 50.3\n",
        "\n",
        "temp_cel = (temp_fah-32)*5/9\n",
        "temp_kel = (temp_fah-32)*(5/9) + 273.15\n",
        "\n",
        "print (temp_cel)\n",
        "print (temp_kel)"
      ],
      "execution_count": null,
      "outputs": [
        {
          "output_type": "stream",
          "text": [
            "10.166666666666664\n",
            "283.31666666666666\n"
          ],
          "name": "stdout"
        }
      ]
    },
    {
      "cell_type": "markdown",
      "metadata": {
        "id": "zGsdacuFfQUE",
        "colab_type": "text"
      },
      "source": [
        "Question 6:\n",
        "Write a program to demonstrate all the available data types in Python. Hint: Use type() function.\n"
      ]
    },
    {
      "cell_type": "code",
      "metadata": {
        "id": "IM2RucwRfGaR",
        "colab_type": "code",
        "colab": {
          "base_uri": "https://localhost:8080/",
          "height": 85
        },
        "outputId": "22dd2381-b92a-4bec-b012-af42f81934ff"
      },
      "source": [
        "a = 45\n",
        "print ('a is an',type(a))\n",
        "\n",
        "b = 67.87\n",
        "print ('b is a',type(b))\n",
        "\n",
        "c = 5+7j\n",
        "print ('c is a',type(c))\n",
        "\n",
        "d = 'Hi, sir'\n",
        "print ('d is a',type(d))"
      ],
      "execution_count": null,
      "outputs": [
        {
          "output_type": "stream",
          "text": [
            "a is an <class 'int'>\n",
            "b is a <class 'float'>\n",
            "c is a <class 'complex'>\n",
            "d is a <class 'str'>\n"
          ],
          "name": "stdout"
        }
      ]
    },
    {
      "cell_type": "markdown",
      "metadata": {
        "id": "ddaRNkERgNzx",
        "colab_type": "text"
      },
      "source": [
        "Question 7:\n",
        "Create a Markdown cell in jupyter and list the steps discussed in the session by Dr. Darshan\n",
        "Ingle sir to create Github profile and upload Githubs Assignment link"
      ]
    },
    {
      "cell_type": "markdown",
      "metadata": {
        "id": "Bop8U6sLgiSw",
        "colab_type": "text"
      },
      "source": [
        "\n",
        "\n",
        "1.   Sign in to my github account\n",
        "2.   Create a New repository\n",
        "3.   Name it as 'LetsUpgrade AI-ML'\n",
        "4.   Type 'Assignments' into description and click 'Create repository'\n",
        "5.   Click 'upload an existing file' and drag and drop the file to be uploaded from the local folder\n",
        "6.   Click on 'Commit changes'\n",
        "7.   Copy the URL of the uploaded Python notebook and paste it in the Google Form provided by LU team and submit it. \n",
        "\n"
      ]
    },
    {
      "cell_type": "code",
      "metadata": {
        "id": "6AlxiWK9fchF",
        "colab_type": "code",
        "colab": {}
      },
      "source": [
        ""
      ],
      "execution_count": null,
      "outputs": []
    }
  ]
}