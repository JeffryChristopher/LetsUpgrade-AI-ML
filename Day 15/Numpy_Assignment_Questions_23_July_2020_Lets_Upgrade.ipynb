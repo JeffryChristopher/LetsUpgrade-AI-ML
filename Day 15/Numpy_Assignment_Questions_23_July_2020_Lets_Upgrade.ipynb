{
  "nbformat": 4,
  "nbformat_minor": 0,
  "metadata": {
    "kernelspec": {
      "display_name": "Python 3",
      "language": "python",
      "name": "python3"
    },
    "language_info": {
      "codemirror_mode": {
        "name": "ipython",
        "version": 3
      },
      "file_extension": ".py",
      "mimetype": "text/x-python",
      "name": "python",
      "nbconvert_exporter": "python",
      "pygments_lexer": "ipython3",
      "version": "3.7.4"
    },
    "colab": {
      "name": "Numpy Assignment Questions 23 July 2020- Lets Upgrade.ipynb",
      "provenance": [],
      "collapsed_sections": []
    }
  },
  "cells": [
    {
      "cell_type": "code",
      "metadata": {
        "id": "evcT8cVBaDAn",
        "colab_type": "code",
        "colab": {}
      },
      "source": [
        "import numpy as np"
      ],
      "execution_count": 1,
      "outputs": []
    },
    {
      "cell_type": "markdown",
      "metadata": {
        "id": "Fi4zPnYKUHD7",
        "colab_type": "text"
      },
      "source": [
        "# 1. Create a 3x3x3 array with random values "
      ]
    },
    {
      "cell_type": "code",
      "metadata": {
        "id": "9CfEZrWEUHD_",
        "colab_type": "code",
        "colab": {
          "base_uri": "https://localhost:8080/",
          "height": 204
        },
        "outputId": "6799b900-b278-4aa0-b9f8-fe1c101e0a60"
      },
      "source": [
        "a = np.random.random((3,3,3))\n",
        "print (a)"
      ],
      "execution_count": 37,
      "outputs": [
        {
          "output_type": "stream",
          "text": [
            "[[[0.24177814 0.8546347  0.04659965]\n",
            "  [0.54609769 0.84421542 0.89836355]\n",
            "  [0.77328933 0.68594524 0.72240755]]\n",
            "\n",
            " [[0.5118464  0.13964287 0.47614956]\n",
            "  [0.39195425 0.74247768 0.91413087]\n",
            "  [0.87462717 0.60567423 0.07740829]]\n",
            "\n",
            " [[0.23984278 0.25763595 0.22300321]\n",
            "  [0.06596196 0.20283177 0.00357034]\n",
            "  [0.83799863 0.08155022 0.84593257]]]\n"
          ],
          "name": "stdout"
        }
      ]
    },
    {
      "cell_type": "markdown",
      "metadata": {
        "id": "FkxG2hPvUHEM",
        "colab_type": "text"
      },
      "source": [
        "# 2.Create a 5x5 matrix with values 1,2,3,4 just below the diagonal"
      ]
    },
    {
      "cell_type": "code",
      "metadata": {
        "id": "DhQUOGMcUHEP",
        "colab_type": "code",
        "colab": {
          "base_uri": "https://localhost:8080/",
          "height": 102
        },
        "outputId": "d94bb8ca-b47f-4e0c-cab4-a4a52126084b"
      },
      "source": [
        "# k indicates the position of the diagonal\n",
        "\n",
        "b = np.diag(1+np.arange(4),k=-1)\n",
        "\n",
        "print(b)"
      ],
      "execution_count": 35,
      "outputs": [
        {
          "output_type": "stream",
          "text": [
            "[[0 0 0 0 0]\n",
            " [1 0 0 0 0]\n",
            " [0 2 0 0 0]\n",
            " [0 0 3 0 0]\n",
            " [0 0 0 4 0]]\n"
          ],
          "name": "stdout"
        }
      ]
    },
    {
      "cell_type": "markdown",
      "metadata": {
        "id": "VXtAw88rUHEa",
        "colab_type": "text"
      },
      "source": [
        "# 3.Create a 8x8 matrix and fill it with a checkerboard pattern"
      ]
    },
    {
      "cell_type": "code",
      "metadata": {
        "id": "FnmyQq4gUHEc",
        "colab_type": "code",
        "colab": {
          "base_uri": "https://localhost:8080/",
          "height": 153
        },
        "outputId": "22d6d35a-6977-4498-eaf5-9839c56683d5"
      },
      "source": [
        "c = np.zeros((8,8),dtype=int)\n",
        "\n",
        "c[1::2,::2] = 1 # Slice from 1st index row till 1+2+2… and fill all columns with 1 starting from 0th to 0+2+2...\n",
        "\n",
        "c[::2,1::2] = 1 # Slice from 0th row till 0+2+2… and fill all columns with 1 starting from 1 to 1+2+2...\n",
        "\n",
        "print (c)"
      ],
      "execution_count": 34,
      "outputs": [
        {
          "output_type": "stream",
          "text": [
            "[[0 1 0 1 0 1 0 1]\n",
            " [1 0 1 0 1 0 1 0]\n",
            " [0 1 0 1 0 1 0 1]\n",
            " [1 0 1 0 1 0 1 0]\n",
            " [0 1 0 1 0 1 0 1]\n",
            " [1 0 1 0 1 0 1 0]\n",
            " [0 1 0 1 0 1 0 1]\n",
            " [1 0 1 0 1 0 1 0]]\n"
          ],
          "name": "stdout"
        }
      ]
    },
    {
      "cell_type": "markdown",
      "metadata": {
        "id": "c3NFb5wAUHEn",
        "colab_type": "text"
      },
      "source": [
        "# 4. Normalize a 5x5 random matrix"
      ]
    },
    {
      "cell_type": "code",
      "metadata": {
        "id": "_5y9vtSZUHEq",
        "colab_type": "code",
        "colab": {
          "base_uri": "https://localhost:8080/",
          "height": 272
        },
        "outputId": "8f27fcfd-c691-44a5-8a29-e341fb41c600"
      },
      "source": [
        "d = np.random.random((5,5))\n",
        "print ('Before Normalizing\\n')\n",
        "print (d,'\\n')\n",
        "\n",
        "max, min = d.max(), d.min()\n",
        "\n",
        "d_normal = (d - min)/(max - min)\n",
        "\n",
        "print ('After Normalizing\\n')\n",
        "print(d_normal)"
      ],
      "execution_count": 33,
      "outputs": [
        {
          "output_type": "stream",
          "text": [
            "Before Normalizing\n",
            "\n",
            "[[0.32247656 0.25836045 0.44450366 0.29465986 0.09012967]\n",
            " [0.21620305 0.6470634  0.26648589 0.7519751  0.29903216]\n",
            " [0.99933295 0.13681733 0.31977607 0.21740342 0.41414847]\n",
            " [0.23118259 0.64973432 0.56435025 0.05124107 0.22905345]\n",
            " [0.53294874 0.47733557 0.9690709  0.58282746 0.5268203 ]] \n",
            "\n",
            "After Normalizing\n",
            "\n",
            "[[0.28608566 0.21845918 0.41479375 0.25674599 0.04101776]\n",
            " [0.17399366 0.62844366 0.22702949 0.73909929 0.26135768]\n",
            " [1.         0.09026157 0.28323732 0.17525976 0.38277661]\n",
            " [0.18979333 0.63126082 0.54120196 0.         0.18754763]\n",
            " [0.50808122 0.44942321 0.9680811  0.5606908  0.50161724]]\n"
          ],
          "name": "stdout"
        }
      ]
    },
    {
      "cell_type": "markdown",
      "metadata": {
        "id": "O0_ALeAjUHE0",
        "colab_type": "text"
      },
      "source": [
        "# 5.  How to find common values between two arrays?"
      ]
    },
    {
      "cell_type": "code",
      "metadata": {
        "id": "HjWsy4FiUHE2",
        "colab_type": "code",
        "colab": {
          "base_uri": "https://localhost:8080/",
          "height": 68
        },
        "outputId": "f402cbfb-995e-4da2-d426-c1ea2fc65615"
      },
      "source": [
        "e1 = np.random.randint(0,50,10)\n",
        "e2 = np.random.randint(0,50,10)\n",
        "\n",
        "print (e1)\n",
        "print (e2)\n",
        "print(np.intersect1d(e1,e2))"
      ],
      "execution_count": 32,
      "outputs": [
        {
          "output_type": "stream",
          "text": [
            "[43 49 39 24  5 18  9  8  0  2]\n",
            "[ 4  6 42  9 18 38 18 46 36 34]\n",
            "[ 9 18]\n"
          ],
          "name": "stdout"
        }
      ]
    },
    {
      "cell_type": "markdown",
      "metadata": {
        "id": "Xi8iGwmaUHFC",
        "colab_type": "text"
      },
      "source": [
        "# 6.How to get the dates of yesterday, today and tomorrow?"
      ]
    },
    {
      "cell_type": "code",
      "metadata": {
        "id": "wVI5UhXAUHFE",
        "colab_type": "code",
        "colab": {
          "base_uri": "https://localhost:8080/",
          "height": 85
        },
        "outputId": "35b36b8a-12af-4bb6-939f-05bf89806664"
      },
      "source": [
        "yest = np.datetime64('today', 'D') - np.timedelta64(1, 'D')\n",
        "\n",
        "today = np.datetime64('today', 'D')\n",
        "\n",
        "tom = np.datetime64('today', 'D') + np.timedelta64(1, 'D')\n",
        "\n",
        "print (yest,'\\n',today,'\\n',tom,'\\n')"
      ],
      "execution_count": 28,
      "outputs": [
        {
          "output_type": "stream",
          "text": [
            "2020-07-27 \n",
            " 2020-07-28 \n",
            " 2020-07-29 \n",
            "\n"
          ],
          "name": "stdout"
        }
      ]
    },
    {
      "cell_type": "markdown",
      "metadata": {
        "id": "NCks_yTQUHFQ",
        "colab_type": "text"
      },
      "source": [
        "# 7. Consider two random array A and B, check if they are equal"
      ]
    },
    {
      "cell_type": "code",
      "metadata": {
        "id": "afuPwcfvUHFS",
        "colab_type": "code",
        "colab": {
          "base_uri": "https://localhost:8080/",
          "height": 68
        },
        "outputId": "cfc57d79-d35c-4453-fbf7-33dae5b3cca3"
      },
      "source": [
        "f1 = np.random.randint(0,2,5)\n",
        "\n",
        "f2 = np.random.randint(0,2,5)\n",
        "\n",
        "print (f1)\n",
        "print (f2)\n",
        "\n",
        "equal = np.array_equal(f1,f2)\n",
        "\n",
        "print(equal)"
      ],
      "execution_count": 8,
      "outputs": [
        {
          "output_type": "stream",
          "text": [
            "[0 0 1 1 1]\n",
            "[1 1 1 1 1]\n",
            "False\n"
          ],
          "name": "stdout"
        }
      ]
    },
    {
      "cell_type": "markdown",
      "metadata": {
        "id": "zi4uuVmXUHFd",
        "colab_type": "text"
      },
      "source": [
        "# 8.Create random vector of size 10 and replace the maximum value by 0 "
      ]
    },
    {
      "cell_type": "code",
      "metadata": {
        "id": "TfIaJJBEUHFf",
        "colab_type": "code",
        "colab": {
          "base_uri": "https://localhost:8080/",
          "height": 85
        },
        "outputId": "fd3e4604-61b2-437e-9cb7-ce34bc571daa"
      },
      "source": [
        "g = np.random.random(10)\n",
        "\n",
        "print (g)\n",
        "\n",
        "g[g.argmax()] = 0\n",
        "\n",
        "print(g)"
      ],
      "execution_count": 9,
      "outputs": [
        {
          "output_type": "stream",
          "text": [
            "[0.75138721 0.78240045 0.60176154 0.40676673 0.23175847 0.12082019\n",
            " 0.73610083 0.0553151  0.20027838 0.59900811]\n",
            "[0.75138721 0.         0.60176154 0.40676673 0.23175847 0.12082019\n",
            " 0.73610083 0.0553151  0.20027838 0.59900811]\n"
          ],
          "name": "stdout"
        }
      ]
    },
    {
      "cell_type": "markdown",
      "metadata": {
        "id": "aMG9Yv5LUHFp",
        "colab_type": "text"
      },
      "source": [
        "# 9. How to print all the values of an array?"
      ]
    },
    {
      "cell_type": "code",
      "metadata": {
        "id": "sxkyEIRCUHFr",
        "colab_type": "code",
        "colab": {
          "base_uri": "https://localhost:8080/",
          "height": 68
        },
        "outputId": "c02507a9-c2ac-4b40-bac0-66365f85bbe9"
      },
      "source": [
        "h = np.random.random((3,5))\n",
        "print (h)\n"
      ],
      "execution_count": 10,
      "outputs": [
        {
          "output_type": "stream",
          "text": [
            "[[0.16722977 0.49984525 0.17503037 0.12731401 0.20807835]\n",
            " [0.81382198 0.31191533 0.80035599 0.42217377 0.15236193]\n",
            " [0.64587143 0.58745692 0.76289449 0.99088572 0.28576445]]\n"
          ],
          "name": "stdout"
        }
      ]
    },
    {
      "cell_type": "markdown",
      "metadata": {
        "id": "50x598VYUHF1",
        "colab_type": "text"
      },
      "source": [
        "# 10.Subtract the mean of each row of a matrix"
      ]
    },
    {
      "cell_type": "code",
      "metadata": {
        "id": "CTgxCyUzUHF3",
        "colab_type": "code",
        "colab": {
          "base_uri": "https://localhost:8080/",
          "height": 51
        },
        "outputId": "5e6060c7-8dc1-4d89-e8d3-56d428c792a1"
      },
      "source": [
        "i = np.random.rand(2, 5)\n",
        "\n",
        "i_new = i - i.mean(axis=1, keepdims=True)\n",
        "\n",
        "print (i_new)"
      ],
      "execution_count": 25,
      "outputs": [
        {
          "output_type": "stream",
          "text": [
            "[[ 0.35474551 -0.33918133  0.04809573 -0.2018865   0.13822659]\n",
            " [-0.26338303  0.21884581 -0.3130697   0.57475991 -0.21715299]]\n"
          ],
          "name": "stdout"
        }
      ]
    },
    {
      "cell_type": "markdown",
      "metadata": {
        "id": "UmtewuKuUHGD",
        "colab_type": "text"
      },
      "source": [
        "# 11.Consider a given vector, how to add 1 to each element indexed by a second vector (be careful with repeated indices)? "
      ]
    },
    {
      "cell_type": "code",
      "metadata": {
        "id": "HsFuvOzoUHGE",
        "colab_type": "code",
        "colab": {
          "base_uri": "https://localhost:8080/",
          "height": 34
        },
        "outputId": "ddf96026-1275-4a59-e130-40d35f3c30f0"
      },
      "source": [
        "j = np.ones(10)\n",
        "\n",
        "j_2nd = np.random.randint(0,len(j),15)\n",
        "\n",
        "j += np.bincount(j_2nd, minlength=len(j))\n",
        "\n",
        "print(j)"
      ],
      "execution_count": 12,
      "outputs": [
        {
          "output_type": "stream",
          "text": [
            "[3. 3. 2. 4. 1. 3. 2. 2. 2. 3.]\n"
          ],
          "name": "stdout"
        }
      ]
    },
    {
      "cell_type": "markdown",
      "metadata": {
        "id": "2QHadjYzUHGX",
        "colab_type": "text"
      },
      "source": [
        "# 12.How to get the diagonal of a dot product?"
      ]
    },
    {
      "cell_type": "code",
      "metadata": {
        "id": "PhT_tYL2UHGZ",
        "colab_type": "code",
        "colab": {
          "base_uri": "https://localhost:8080/",
          "height": 34
        },
        "outputId": "6423637e-fb1b-40e9-f84e-7eb6a8f33073"
      },
      "source": [
        "k1 = np.random.randint(0,10,(5,5))\n",
        "\n",
        "k2 = np.random.randint(0,10,(5,5))\n",
        "\n",
        "k_diag = np.diag(np.dot(k1, k2))\n",
        "\n",
        "k_diag"
      ],
      "execution_count": 24,
      "outputs": [
        {
          "output_type": "execute_result",
          "data": {
            "text/plain": [
              "array([195,  99,  67, 167, 129])"
            ]
          },
          "metadata": {
            "tags": []
          },
          "execution_count": 24
        }
      ]
    },
    {
      "cell_type": "markdown",
      "metadata": {
        "id": "dmSnPlRwUHGj",
        "colab_type": "text"
      },
      "source": [
        "# 13.How to find the most frequent value in an array?"
      ]
    },
    {
      "cell_type": "code",
      "metadata": {
        "id": "riy5C9VqUHGl",
        "colab_type": "code",
        "colab": {
          "base_uri": "https://localhost:8080/",
          "height": 51
        },
        "outputId": "a9bd8d87-d2a7-47f8-c32b-3f6cabab7e62"
      },
      "source": [
        "l = np.random.randint(0,10,20)\n",
        "print (l)\n",
        "print(np.bincount(l).argmax())"
      ],
      "execution_count": 23,
      "outputs": [
        {
          "output_type": "stream",
          "text": [
            "[3 6 3 0 5 7 6 0 1 8 9 3 4 2 9 5 3 7 6 6]\n",
            "3\n"
          ],
          "name": "stdout"
        }
      ]
    },
    {
      "cell_type": "markdown",
      "metadata": {
        "id": "nVnLOwZ1UHGu",
        "colab_type": "text"
      },
      "source": [
        "# 14.How to get the n largest values of an array"
      ]
    },
    {
      "cell_type": "code",
      "metadata": {
        "id": "ZUiak56CUHGw",
        "colab_type": "code",
        "colab": {}
      },
      "source": [
        "# Not sure. Please guide."
      ],
      "execution_count": 15,
      "outputs": []
    },
    {
      "cell_type": "markdown",
      "metadata": {
        "id": "uUTEPvSWUHG-",
        "colab_type": "text"
      },
      "source": [
        "# 15.How to create a record array from a regular array?"
      ]
    },
    {
      "cell_type": "code",
      "metadata": {
        "id": "e89YRzVsUHHA",
        "colab_type": "code",
        "colab": {
          "base_uri": "https://localhost:8080/",
          "height": 34
        },
        "outputId": "918b8ddc-c161-496c-a20b-babd38a873ff"
      },
      "source": [
        "m = np.array([(4.2, 1.7, 5.9), (3.9, 1.3, 9.0)])\n",
        "\n",
        "m_record = np.core.records.fromarrays(m.T, names='col1, col2, col3', formats = 'S8, f8, i8')\n",
        "\n",
        "print(m_record)"
      ],
      "execution_count": 42,
      "outputs": [
        {
          "output_type": "stream",
          "text": [
            "[(b'4.2', 1.7, 5) (b'3.9', 1.3, 9)]\n"
          ],
          "name": "stdout"
        }
      ]
    },
    {
      "cell_type": "code",
      "metadata": {
        "id": "c2duu4J8_NSH",
        "colab_type": "code",
        "colab": {}
      },
      "source": [
        ""
      ],
      "execution_count": null,
      "outputs": []
    }
  ]
}