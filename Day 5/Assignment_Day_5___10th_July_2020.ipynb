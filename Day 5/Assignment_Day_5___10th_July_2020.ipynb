{
  "nbformat": 4,
  "nbformat_minor": 0,
  "metadata": {
    "colab": {
      "name": "Assignment Day 5 | 10th July 2020.ipynb",
      "provenance": [],
      "collapsed_sections": []
    },
    "kernelspec": {
      "name": "python3",
      "display_name": "Python 3"
    }
  },
  "cells": [
    {
      "cell_type": "markdown",
      "metadata": {
        "id": "PkxNrr4vWh3G",
        "colab_type": "text"
      },
      "source": [
        "Question 1 :\n",
        "Write a Python program to find the first 20 non-even prime natural numbers.\n"
      ]
    },
    {
      "cell_type": "code",
      "metadata": {
        "id": "XGFORqd_WPEM",
        "colab_type": "code",
        "colab": {
          "base_uri": "https://localhost:8080/",
          "height": 357
        },
        "outputId": "12a1fe00-8c47-4fa0-894c-ffdaeb5f2d25"
      },
      "source": [
        "num = 2\n",
        "counter = 0\n",
        "\n",
        "while counter < 20:\n",
        "  if num >= 4:\n",
        "    for i in range (2,num):\n",
        "      if num % i==0:\n",
        "        break\n",
        "    else:\n",
        "      if num % 2 != 0:\n",
        "        print (num)\n",
        "        counter +=1\n",
        "    num += 1\n",
        "  else:\n",
        "    if num % 2 != 0:\n",
        "      print (num)\n",
        "      counter += 1\n",
        "    num += 1\n"
      ],
      "execution_count": 15,
      "outputs": [
        {
          "output_type": "stream",
          "text": [
            "3\n",
            "5\n",
            "7\n",
            "11\n",
            "13\n",
            "17\n",
            "19\n",
            "23\n",
            "29\n",
            "31\n",
            "37\n",
            "41\n",
            "43\n",
            "47\n",
            "53\n",
            "59\n",
            "61\n",
            "67\n",
            "71\n",
            "73\n"
          ],
          "name": "stdout"
        }
      ]
    },
    {
      "cell_type": "markdown",
      "metadata": {
        "id": "7j0Q5DUxgr-9",
        "colab_type": "text"
      },
      "source": [
        "Question 2 :\n",
        "Write a Python program to implement 15 functions of string."
      ]
    },
    {
      "cell_type": "code",
      "metadata": {
        "id": "CDq05XYob71q",
        "colab_type": "code",
        "colab": {
          "base_uri": "https://localhost:8080/",
          "height": 51
        },
        "outputId": "c8e6c6da-9c58-4dec-917e-05065043b0c4"
      },
      "source": [
        "g ='jeffry'\n",
        "print (g.capitalize())\n",
        "print (g.casefold())"
      ],
      "execution_count": 9,
      "outputs": [
        {
          "output_type": "stream",
          "text": [
            "Jeffry\n",
            "jeffry\n"
          ],
          "name": "stdout"
        }
      ]
    },
    {
      "cell_type": "markdown",
      "metadata": {
        "id": "J9O1RWnPxQEQ",
        "colab_type": "text"
      },
      "source": [
        "Question 3:\n",
        "Write a Python program to check if the given string is a Palindrome or Anagram or None of them.\n",
        "Display the message accordingly to the user"
      ]
    },
    {
      "cell_type": "markdown",
      "metadata": {
        "id": "y8IWAxw3r5bx",
        "colab_type": "text"
      },
      "source": [
        "Question 4:\n",
        "Write a Python's user defined function that removes all the additional characters from the string\n",
        "and converts it finally to lower case using built-in lower(). eg: If the string is \"Dr. Darshan Ingle\n",
        "@AI-ML Trainer\", then the output be \"drdarshaningleaimltrainer\"."
      ]
    },
    {
      "cell_type": "code",
      "metadata": {
        "id": "ELhQsmnch4ew",
        "colab_type": "code",
        "colab": {
          "base_uri": "https://localhost:8080/",
          "height": 34
        },
        "outputId": "6513f939-f802-4bcc-a2f7-6edbe2ab4997"
      },
      "source": [
        "def remove_lower(sentence):\n",
        "  combined = ''.join(e for e in sentence if e.isalnum())\n",
        "  lower_case = combined.lower()\n",
        "  return lower_case\n",
        "\n",
        "statement = \"Dr. Darshan Ingle @AI-ML Trainer\"\n",
        "print (remove_lower(sent))\n"
      ],
      "execution_count": 21,
      "outputs": [
        {
          "output_type": "stream",
          "text": [
            "drdarshaningleaimltrainer\n"
          ],
          "name": "stdout"
        }
      ]
    }
  ]
}