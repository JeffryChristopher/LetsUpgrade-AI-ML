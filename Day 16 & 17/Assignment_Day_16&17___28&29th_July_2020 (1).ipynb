{
  "nbformat": 4,
  "nbformat_minor": 0,
  "metadata": {
    "kernelspec": {
      "display_name": "Python 3",
      "language": "python",
      "name": "python3"
    },
    "language_info": {
      "codemirror_mode": {
        "name": "ipython",
        "version": 3
      },
      "file_extension": ".py",
      "mimetype": "text/x-python",
      "name": "python",
      "nbconvert_exporter": "python",
      "pygments_lexer": "ipython3",
      "version": "3.7.4"
    },
    "colab": {
      "name": "Assignment Day 16&17 | 28&29th July 2020.ipynb",
      "provenance": [],
      "collapsed_sections": []
    }
  },
  "cells": [
    {
      "cell_type": "code",
      "metadata": {
        "id": "eW3KrxRsM0Yi",
        "colab_type": "code",
        "colab": {}
      },
      "source": [
        "%matplotlib inline\n",
        "import pandas as pd"
      ],
      "execution_count": 60,
      "outputs": []
    },
    {
      "cell_type": "code",
      "metadata": {
        "id": "Eax3_d2tM0Yw",
        "colab_type": "code",
        "colab": {}
      },
      "source": [
        "# from IPython.core.display import HTML\n",
        "# css = open('style-table.css').read() + open('style-notebook.css').read()\n",
        "# HTML('<style>{}</style>'.format(css))"
      ],
      "execution_count": 3,
      "outputs": []
    },
    {
      "cell_type": "code",
      "metadata": {
        "id": "EHFxwb2hQalm",
        "colab_type": "code",
        "colab": {
          "resources": {
            "http://localhost:8080/nbextensions/google.colab/files.js": {
              "data": "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",
              "ok": true,
              "headers": [
                [
                  "content-type",
                  "application/javascript"
                ]
              ],
              "status": 200,
              "status_text": ""
            }
          },
          "base_uri": "https://localhost:8080/",
          "height": 72
        },
        "outputId": "9c608a27-a284-49fa-deaf-45558d0a0332"
      },
      "source": [
        "from google.colab import files\n",
        "uploaded = files.upload()"
      ],
      "execution_count": 61,
      "outputs": [
        {
          "output_type": "display_data",
          "data": {
            "text/html": [
              "\n",
              "     <input type=\"file\" id=\"files-6b1b6dd6-8000-4c9a-ae4b-8d5435d84b52\" name=\"files[]\" multiple disabled\n",
              "        style=\"border:none\" />\n",
              "     <output id=\"result-6b1b6dd6-8000-4c9a-ae4b-8d5435d84b52\">\n",
              "      Upload widget is only available when the cell has been executed in the\n",
              "      current browser session. Please rerun this cell to enable.\n",
              "      </output>\n",
              "      <script src=\"/nbextensions/google.colab/files.js\"></script> "
            ],
            "text/plain": [
              "<IPython.core.display.HTML object>"
            ]
          },
          "metadata": {
            "tags": []
          }
        },
        {
          "output_type": "stream",
          "text": [
            "Saving titles.csv to titles.csv\n"
          ],
          "name": "stdout"
        }
      ]
    },
    {
      "cell_type": "code",
      "metadata": {
        "id": "c8wFA1YkM0Y-",
        "colab_type": "code",
        "colab": {
          "base_uri": "https://localhost:8080/",
          "height": 204
        },
        "outputId": "1faa6c34-ce0a-4483-ae50-9c8c2110f62b"
      },
      "source": [
        "import io\n",
        "titles = pd.read_csv(io.BytesIO(uploaded['titles.csv']))\n",
        "\n",
        "titles.head()"
      ],
      "execution_count": 64,
      "outputs": [
        {
          "output_type": "execute_result",
          "data": {
            "text/html": [
              "<div>\n",
              "<style scoped>\n",
              "    .dataframe tbody tr th:only-of-type {\n",
              "        vertical-align: middle;\n",
              "    }\n",
              "\n",
              "    .dataframe tbody tr th {\n",
              "        vertical-align: top;\n",
              "    }\n",
              "\n",
              "    .dataframe thead th {\n",
              "        text-align: right;\n",
              "    }\n",
              "</style>\n",
              "<table border=\"1\" class=\"dataframe\">\n",
              "  <thead>\n",
              "    <tr style=\"text-align: right;\">\n",
              "      <th></th>\n",
              "      <th>title</th>\n",
              "      <th>year</th>\n",
              "    </tr>\n",
              "  </thead>\n",
              "  <tbody>\n",
              "    <tr>\n",
              "      <th>0</th>\n",
              "      <td>Tasveer Mere Sanam</td>\n",
              "      <td>1996</td>\n",
              "    </tr>\n",
              "    <tr>\n",
              "      <th>1</th>\n",
              "      <td>Only You</td>\n",
              "      <td>1994</td>\n",
              "    </tr>\n",
              "    <tr>\n",
              "      <th>2</th>\n",
              "      <td>El pueblo del terror</td>\n",
              "      <td>1970</td>\n",
              "    </tr>\n",
              "    <tr>\n",
              "      <th>3</th>\n",
              "      <td>Machine</td>\n",
              "      <td>2007</td>\n",
              "    </tr>\n",
              "    <tr>\n",
              "      <th>4</th>\n",
              "      <td>MARy</td>\n",
              "      <td>2008</td>\n",
              "    </tr>\n",
              "  </tbody>\n",
              "</table>\n",
              "</div>"
            ],
            "text/plain": [
              "                  title  year\n",
              "0    Tasveer Mere Sanam  1996\n",
              "1              Only You  1994\n",
              "2  El pueblo del terror  1970\n",
              "3               Machine  2007\n",
              "4                  MARy  2008"
            ]
          },
          "metadata": {
            "tags": []
          },
          "execution_count": 64
        }
      ]
    },
    {
      "cell_type": "markdown",
      "metadata": {
        "collapsed": true,
        "id": "vyxCxfI0M0ZU",
        "colab_type": "text"
      },
      "source": [
        "### How many movies are listed in the titles dataframe?"
      ]
    },
    {
      "cell_type": "code",
      "metadata": {
        "id": "pqq1ELpSM0ZX",
        "colab_type": "code",
        "colab": {
          "base_uri": "https://localhost:8080/",
          "height": 34
        },
        "outputId": "c8a94fd0-80b0-4ac5-bd65-a5aa705dd8a4"
      },
      "source": [
        "len(titles)"
      ],
      "execution_count": 65,
      "outputs": [
        {
          "output_type": "execute_result",
          "data": {
            "text/plain": [
              "244914"
            ]
          },
          "metadata": {
            "tags": []
          },
          "execution_count": 65
        }
      ]
    },
    {
      "cell_type": "markdown",
      "metadata": {
        "id": "Gj0jrMqnRk3p",
        "colab_type": "text"
      },
      "source": [
        "244914 movies are listed in the titles dataframe"
      ]
    },
    {
      "cell_type": "markdown",
      "metadata": {
        "collapsed": true,
        "id": "mWXnz077M0Zv",
        "colab_type": "text"
      },
      "source": [
        "### What are the earliest two films listed in the titles dataframe?"
      ]
    },
    {
      "cell_type": "code",
      "metadata": {
        "id": "acEkpbdfM0Zx",
        "colab_type": "code",
        "colab": {
          "base_uri": "https://localhost:8080/",
          "height": 111
        },
        "outputId": "30c0b8f7-0a6b-42c3-9639-767a78c3d6df"
      },
      "source": [
        "titles.sort_values(by=['year']).head(2)\n"
      ],
      "execution_count": 66,
      "outputs": [
        {
          "output_type": "execute_result",
          "data": {
            "text/html": [
              "<div>\n",
              "<style scoped>\n",
              "    .dataframe tbody tr th:only-of-type {\n",
              "        vertical-align: middle;\n",
              "    }\n",
              "\n",
              "    .dataframe tbody tr th {\n",
              "        vertical-align: top;\n",
              "    }\n",
              "\n",
              "    .dataframe thead th {\n",
              "        text-align: right;\n",
              "    }\n",
              "</style>\n",
              "<table border=\"1\" class=\"dataframe\">\n",
              "  <thead>\n",
              "    <tr style=\"text-align: right;\">\n",
              "      <th></th>\n",
              "      <th>title</th>\n",
              "      <th>year</th>\n",
              "    </tr>\n",
              "  </thead>\n",
              "  <tbody>\n",
              "    <tr>\n",
              "      <th>193222</th>\n",
              "      <td>Miss Jerry</td>\n",
              "      <td>1894</td>\n",
              "    </tr>\n",
              "    <tr>\n",
              "      <th>51388</th>\n",
              "      <td>The Startled Lover</td>\n",
              "      <td>1898</td>\n",
              "    </tr>\n",
              "  </tbody>\n",
              "</table>\n",
              "</div>"
            ],
            "text/plain": [
              "                     title  year\n",
              "193222          Miss Jerry  1894\n",
              "51388   The Startled Lover  1898"
            ]
          },
          "metadata": {
            "tags": []
          },
          "execution_count": 66
        }
      ]
    },
    {
      "cell_type": "markdown",
      "metadata": {
        "id": "Pe4mPuyLSkz5",
        "colab_type": "text"
      },
      "source": [
        "Miss Jerry and The Startled Lover are the two earliest films. "
      ]
    },
    {
      "cell_type": "markdown",
      "metadata": {
        "collapsed": true,
        "id": "Ggv68e7MM0aG",
        "colab_type": "text"
      },
      "source": [
        "### How many movies have the title \"Hamlet\"?"
      ]
    },
    {
      "cell_type": "code",
      "metadata": {
        "id": "seaSXX4bM0aJ",
        "colab_type": "code",
        "colab": {
          "base_uri": "https://localhost:8080/",
          "height": 34
        },
        "outputId": "d7da9057-37db-4d33-88fc-80656cbd4488"
      },
      "source": [
        "Hamlet = titles[titles['title']=='Hamlet']\n",
        "len(Hamlet)\n"
      ],
      "execution_count": 67,
      "outputs": [
        {
          "output_type": "execute_result",
          "data": {
            "text/plain": [
              "20"
            ]
          },
          "metadata": {
            "tags": []
          },
          "execution_count": 67
        }
      ]
    },
    {
      "cell_type": "markdown",
      "metadata": {
        "id": "dD66eipdTAwk",
        "colab_type": "text"
      },
      "source": [
        "20 movies with the title 'Hamlet'"
      ]
    },
    {
      "cell_type": "markdown",
      "metadata": {
        "collapsed": true,
        "id": "GSw6kFRSM0aj",
        "colab_type": "text"
      },
      "source": [
        "### How many movies are titled \"North by Northwest\"?"
      ]
    },
    {
      "cell_type": "code",
      "metadata": {
        "id": "897nc0QVM0al",
        "colab_type": "code",
        "colab": {
          "base_uri": "https://localhost:8080/",
          "height": 34
        },
        "outputId": "d420f662-b06f-40cb-d8a5-12e8b0702d42"
      },
      "source": [
        "NbN = titles[titles['title']=='North by Northwest']\n",
        "len(NbN)\n"
      ],
      "execution_count": 68,
      "outputs": [
        {
          "output_type": "execute_result",
          "data": {
            "text/plain": [
              "1"
            ]
          },
          "metadata": {
            "tags": []
          },
          "execution_count": 68
        }
      ]
    },
    {
      "cell_type": "markdown",
      "metadata": {
        "id": "KYp3f3aWTSwA",
        "colab_type": "text"
      },
      "source": [
        "1 movie with the title 'North by Northwest'"
      ]
    },
    {
      "cell_type": "markdown",
      "metadata": {
        "collapsed": true,
        "id": "4llBEeCYM0a8",
        "colab_type": "text"
      },
      "source": [
        "### When was the first movie titled \"Hamlet\" made?"
      ]
    },
    {
      "cell_type": "code",
      "metadata": {
        "id": "GR9PrH9cM0a9",
        "colab_type": "code",
        "colab": {
          "base_uri": "https://localhost:8080/",
          "height": 80
        },
        "outputId": "f2fa0e85-3a3d-48f4-8995-0a9f4f8cc3a6"
      },
      "source": [
        "Hamlet.sort_values(by=['year']).head(1)"
      ],
      "execution_count": 69,
      "outputs": [
        {
          "output_type": "execute_result",
          "data": {
            "text/html": [
              "<div>\n",
              "<style scoped>\n",
              "    .dataframe tbody tr th:only-of-type {\n",
              "        vertical-align: middle;\n",
              "    }\n",
              "\n",
              "    .dataframe tbody tr th {\n",
              "        vertical-align: top;\n",
              "    }\n",
              "\n",
              "    .dataframe thead th {\n",
              "        text-align: right;\n",
              "    }\n",
              "</style>\n",
              "<table border=\"1\" class=\"dataframe\">\n",
              "  <thead>\n",
              "    <tr style=\"text-align: right;\">\n",
              "      <th></th>\n",
              "      <th>title</th>\n",
              "      <th>year</th>\n",
              "    </tr>\n",
              "  </thead>\n",
              "  <tbody>\n",
              "    <tr>\n",
              "      <th>52521</th>\n",
              "      <td>Hamlet</td>\n",
              "      <td>1910</td>\n",
              "    </tr>\n",
              "  </tbody>\n",
              "</table>\n",
              "</div>"
            ],
            "text/plain": [
              "        title  year\n",
              "52521  Hamlet  1910"
            ]
          },
          "metadata": {
            "tags": []
          },
          "execution_count": 69
        }
      ]
    },
    {
      "cell_type": "markdown",
      "metadata": {
        "id": "rOHiuFI4Tkk1",
        "colab_type": "text"
      },
      "source": [
        "First movie titled \"Hamlet\" was made in 1910"
      ]
    },
    {
      "cell_type": "markdown",
      "metadata": {
        "collapsed": true,
        "id": "s-HeaqstM0bG",
        "colab_type": "text"
      },
      "source": [
        "### List all of the \"Treasure Island\" movies from earliest to most recent."
      ]
    },
    {
      "cell_type": "code",
      "metadata": {
        "id": "0g1QUcgmM0bI",
        "colab_type": "code",
        "colab": {
          "base_uri": "https://localhost:8080/",
          "height": 297
        },
        "outputId": "c04c7191-4783-4cf1-aec1-a380bc531a73"
      },
      "source": [
        "TI = titles[titles['title']=='Treasure Island'].sort_values(by=['year'])\n",
        "TI"
      ],
      "execution_count": 72,
      "outputs": [
        {
          "output_type": "execute_result",
          "data": {
            "text/html": [
              "<div>\n",
              "<style scoped>\n",
              "    .dataframe tbody tr th:only-of-type {\n",
              "        vertical-align: middle;\n",
              "    }\n",
              "\n",
              "    .dataframe tbody tr th {\n",
              "        vertical-align: top;\n",
              "    }\n",
              "\n",
              "    .dataframe thead th {\n",
              "        text-align: right;\n",
              "    }\n",
              "</style>\n",
              "<table border=\"1\" class=\"dataframe\">\n",
              "  <thead>\n",
              "    <tr style=\"text-align: right;\">\n",
              "      <th></th>\n",
              "      <th>title</th>\n",
              "      <th>year</th>\n",
              "    </tr>\n",
              "  </thead>\n",
              "  <tbody>\n",
              "    <tr>\n",
              "      <th>55686</th>\n",
              "      <td>Treasure Island</td>\n",
              "      <td>1918</td>\n",
              "    </tr>\n",
              "    <tr>\n",
              "      <th>196514</th>\n",
              "      <td>Treasure Island</td>\n",
              "      <td>1920</td>\n",
              "    </tr>\n",
              "    <tr>\n",
              "      <th>141822</th>\n",
              "      <td>Treasure Island</td>\n",
              "      <td>1934</td>\n",
              "    </tr>\n",
              "    <tr>\n",
              "      <th>77354</th>\n",
              "      <td>Treasure Island</td>\n",
              "      <td>1950</td>\n",
              "    </tr>\n",
              "    <tr>\n",
              "      <th>65051</th>\n",
              "      <td>Treasure Island</td>\n",
              "      <td>1972</td>\n",
              "    </tr>\n",
              "    <tr>\n",
              "      <th>37238</th>\n",
              "      <td>Treasure Island</td>\n",
              "      <td>1973</td>\n",
              "    </tr>\n",
              "    <tr>\n",
              "      <th>173051</th>\n",
              "      <td>Treasure Island</td>\n",
              "      <td>1985</td>\n",
              "    </tr>\n",
              "    <tr>\n",
              "      <th>27076</th>\n",
              "      <td>Treasure Island</td>\n",
              "      <td>1999</td>\n",
              "    </tr>\n",
              "  </tbody>\n",
              "</table>\n",
              "</div>"
            ],
            "text/plain": [
              "                  title  year\n",
              "55686   Treasure Island  1918\n",
              "196514  Treasure Island  1920\n",
              "141822  Treasure Island  1934\n",
              "77354   Treasure Island  1950\n",
              "65051   Treasure Island  1972\n",
              "37238   Treasure Island  1973\n",
              "173051  Treasure Island  1985\n",
              "27076   Treasure Island  1999"
            ]
          },
          "metadata": {
            "tags": []
          },
          "execution_count": 72
        }
      ]
    },
    {
      "cell_type": "markdown",
      "metadata": {
        "collapsed": true,
        "id": "esbnzSDqM0bU",
        "colab_type": "text"
      },
      "source": [
        "### How many movies were made in the year 1950?"
      ]
    },
    {
      "cell_type": "code",
      "metadata": {
        "id": "2FYVeUapM0bV",
        "colab_type": "code",
        "colab": {
          "base_uri": "https://localhost:8080/",
          "height": 34
        },
        "outputId": "a3131e8b-ae49-4489-c473-d83625d98d3d"
      },
      "source": [
        "movies_1950 = titles[titles['year']==1950]\n",
        "len(movies_1950)"
      ],
      "execution_count": 73,
      "outputs": [
        {
          "output_type": "execute_result",
          "data": {
            "text/plain": [
              "1113"
            ]
          },
          "metadata": {
            "tags": []
          },
          "execution_count": 73
        }
      ]
    },
    {
      "cell_type": "markdown",
      "metadata": {
        "id": "VJDBAc4yUMDX",
        "colab_type": "text"
      },
      "source": [
        "1113 movies were made in 1950"
      ]
    },
    {
      "cell_type": "markdown",
      "metadata": {
        "collapsed": true,
        "id": "UiBmAQMXM0bg",
        "colab_type": "text"
      },
      "source": [
        "### How many movies were made in the year 1960?"
      ]
    },
    {
      "cell_type": "code",
      "metadata": {
        "id": "6gWwl4X-M0bh",
        "colab_type": "code",
        "colab": {
          "base_uri": "https://localhost:8080/",
          "height": 34
        },
        "outputId": "216de725-2406-411c-f52f-e33de8dbbb23"
      },
      "source": [
        "movies_1960 = titles[titles['year']==1960]\n",
        "len(movies_1960)"
      ],
      "execution_count": 74,
      "outputs": [
        {
          "output_type": "execute_result",
          "data": {
            "text/plain": [
              "1549"
            ]
          },
          "metadata": {
            "tags": []
          },
          "execution_count": 74
        }
      ]
    },
    {
      "cell_type": "markdown",
      "metadata": {
        "id": "gSSbBombUUzJ",
        "colab_type": "text"
      },
      "source": [
        "1549 movies were made in 1960"
      ]
    },
    {
      "cell_type": "markdown",
      "metadata": {
        "collapsed": true,
        "id": "N8ncNwJoM0bu",
        "colab_type": "text"
      },
      "source": [
        "### How many movies were made from 1950 through 1959?"
      ]
    },
    {
      "cell_type": "code",
      "metadata": {
        "id": "reREhPezM0by",
        "colab_type": "code",
        "colab": {
          "base_uri": "https://localhost:8080/",
          "height": 34
        },
        "outputId": "517ee0a8-2a58-4719-e9d7-bcf667cfe8ee"
      },
      "source": [
        "movies_1950_59 = titles[(titles['year']>=1950) & (titles['year']<1960) ] \n",
        "len(movies_1950_59)"
      ],
      "execution_count": 75,
      "outputs": [
        {
          "output_type": "execute_result",
          "data": {
            "text/plain": [
              "12934"
            ]
          },
          "metadata": {
            "tags": []
          },
          "execution_count": 75
        }
      ]
    },
    {
      "cell_type": "markdown",
      "metadata": {
        "id": "NPDUjcQ3M0bw",
        "colab_type": "text"
      },
      "source": [
        "12934 movies were made from 1950 to 1959"
      ]
    },
    {
      "cell_type": "markdown",
      "metadata": {
        "collapsed": true,
        "id": "nD92SJKUM0b8",
        "colab_type": "text"
      },
      "source": [
        "### In what years has a movie titled \"Batman\" been released?"
      ]
    },
    {
      "cell_type": "code",
      "metadata": {
        "id": "Q13asFa2M0b9",
        "colab_type": "code",
        "colab": {
          "base_uri": "https://localhost:8080/",
          "height": 111
        },
        "outputId": "af4ae03d-f376-47fc-d36f-ba20eafb344c"
      },
      "source": [
        "Batman = titles[titles['title']=='Batman']\n",
        "Batman.sort_values(by=['year'])"
      ],
      "execution_count": 76,
      "outputs": [
        {
          "output_type": "execute_result",
          "data": {
            "text/html": [
              "<div>\n",
              "<style scoped>\n",
              "    .dataframe tbody tr th:only-of-type {\n",
              "        vertical-align: middle;\n",
              "    }\n",
              "\n",
              "    .dataframe tbody tr th {\n",
              "        vertical-align: top;\n",
              "    }\n",
              "\n",
              "    .dataframe thead th {\n",
              "        text-align: right;\n",
              "    }\n",
              "</style>\n",
              "<table border=\"1\" class=\"dataframe\">\n",
              "  <thead>\n",
              "    <tr style=\"text-align: right;\">\n",
              "      <th></th>\n",
              "      <th>title</th>\n",
              "      <th>year</th>\n",
              "    </tr>\n",
              "  </thead>\n",
              "  <tbody>\n",
              "    <tr>\n",
              "      <th>39349</th>\n",
              "      <td>Batman</td>\n",
              "      <td>1943</td>\n",
              "    </tr>\n",
              "    <tr>\n",
              "      <th>240896</th>\n",
              "      <td>Batman</td>\n",
              "      <td>1989</td>\n",
              "    </tr>\n",
              "  </tbody>\n",
              "</table>\n",
              "</div>"
            ],
            "text/plain": [
              "         title  year\n",
              "39349   Batman  1943\n",
              "240896  Batman  1989"
            ]
          },
          "metadata": {
            "tags": []
          },
          "execution_count": 76
        }
      ]
    },
    {
      "cell_type": "markdown",
      "metadata": {
        "id": "p8gQDWaXXa9z",
        "colab_type": "text"
      },
      "source": [
        "Movie titled batman was released in 1943 and 1989"
      ]
    },
    {
      "cell_type": "code",
      "metadata": {
        "id": "DHaxlDKOXxxn",
        "colab_type": "code",
        "colab": {
          "resources": {
            "http://localhost:8080/nbextensions/google.colab/files.js": {
              "data": "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",
              "ok": true,
              "headers": [
                [
                  "content-type",
                  "application/javascript"
                ]
              ],
              "status": 200,
              "status_text": ""
            }
          },
          "base_uri": "https://localhost:8080/",
          "height": 38
        },
        "outputId": "88fe2fd0-aaae-432b-f1ba-595ac305aaa5"
      },
      "source": [
        "from google.colab import files\n",
        "uploaded = files.upload()"
      ],
      "execution_count": 77,
      "outputs": [
        {
          "output_type": "display_data",
          "data": {
            "text/html": [
              "\n",
              "     <input type=\"file\" id=\"files-f0d9676d-2861-407a-93de-63a42cbb93f2\" name=\"files[]\" multiple disabled\n",
              "        style=\"border:none\" />\n",
              "     <output id=\"result-f0d9676d-2861-407a-93de-63a42cbb93f2\">\n",
              "      Upload widget is only available when the cell has been executed in the\n",
              "      current browser session. Please rerun this cell to enable.\n",
              "      </output>\n",
              "      <script src=\"/nbextensions/google.colab/files.js\"></script> "
            ],
            "text/plain": [
              "<IPython.core.display.HTML object>"
            ]
          },
          "metadata": {
            "tags": []
          }
        }
      ]
    },
    {
      "cell_type": "code",
      "metadata": {
        "id": "FtJHMB2WX7BF",
        "colab_type": "code",
        "colab": {
          "base_uri": "https://localhost:8080/",
          "height": 204
        },
        "outputId": "ae2128f3-0603-4291-f001-54dc6fbc8134"
      },
      "source": [
        "import io\n",
        "\n",
        "casts = pd.read_csv(io.BytesIO(uploaded['cast.csv']))\n",
        "\n",
        "casts.head()"
      ],
      "execution_count": 5,
      "outputs": [
        {
          "output_type": "execute_result",
          "data": {
            "text/html": [
              "<div>\n",
              "<style scoped>\n",
              "    .dataframe tbody tr th:only-of-type {\n",
              "        vertical-align: middle;\n",
              "    }\n",
              "\n",
              "    .dataframe tbody tr th {\n",
              "        vertical-align: top;\n",
              "    }\n",
              "\n",
              "    .dataframe thead th {\n",
              "        text-align: right;\n",
              "    }\n",
              "</style>\n",
              "<table border=\"1\" class=\"dataframe\">\n",
              "  <thead>\n",
              "    <tr style=\"text-align: right;\">\n",
              "      <th></th>\n",
              "      <th>title</th>\n",
              "      <th>year</th>\n",
              "      <th>name</th>\n",
              "      <th>type</th>\n",
              "      <th>character</th>\n",
              "      <th>n</th>\n",
              "    </tr>\n",
              "  </thead>\n",
              "  <tbody>\n",
              "    <tr>\n",
              "      <th>0</th>\n",
              "      <td>Closet Monster</td>\n",
              "      <td>2015</td>\n",
              "      <td>Buffy #1</td>\n",
              "      <td>actor</td>\n",
              "      <td>Buffy 4</td>\n",
              "      <td>31.0</td>\n",
              "    </tr>\n",
              "    <tr>\n",
              "      <th>1</th>\n",
              "      <td>Suuri illusioni</td>\n",
              "      <td>1985</td>\n",
              "      <td>Homo $</td>\n",
              "      <td>actor</td>\n",
              "      <td>Guests</td>\n",
              "      <td>22.0</td>\n",
              "    </tr>\n",
              "    <tr>\n",
              "      <th>2</th>\n",
              "      <td>Battle of the Sexes</td>\n",
              "      <td>2017</td>\n",
              "      <td>$hutter</td>\n",
              "      <td>actor</td>\n",
              "      <td>Bobby Riggs Fan</td>\n",
              "      <td>10.0</td>\n",
              "    </tr>\n",
              "    <tr>\n",
              "      <th>3</th>\n",
              "      <td>Secret in Their Eyes</td>\n",
              "      <td>2015</td>\n",
              "      <td>$hutter</td>\n",
              "      <td>actor</td>\n",
              "      <td>2002 Dodger Fan</td>\n",
              "      <td>NaN</td>\n",
              "    </tr>\n",
              "    <tr>\n",
              "      <th>4</th>\n",
              "      <td>Steve Jobs</td>\n",
              "      <td>2015</td>\n",
              "      <td>$hutter</td>\n",
              "      <td>actor</td>\n",
              "      <td>1988 Opera House Patron</td>\n",
              "      <td>NaN</td>\n",
              "    </tr>\n",
              "  </tbody>\n",
              "</table>\n",
              "</div>"
            ],
            "text/plain": [
              "                  title  year      name   type                character     n\n",
              "0        Closet Monster  2015  Buffy #1  actor                  Buffy 4  31.0\n",
              "1       Suuri illusioni  1985    Homo $  actor                   Guests  22.0\n",
              "2   Battle of the Sexes  2017   $hutter  actor          Bobby Riggs Fan  10.0\n",
              "3  Secret in Their Eyes  2015   $hutter  actor          2002 Dodger Fan   NaN\n",
              "4            Steve Jobs  2015   $hutter  actor  1988 Opera House Patron   NaN"
            ]
          },
          "metadata": {
            "tags": []
          },
          "execution_count": 5
        }
      ]
    },
    {
      "cell_type": "markdown",
      "metadata": {
        "collapsed": true,
        "id": "9fQBOCd2M0cG",
        "colab_type": "text"
      },
      "source": [
        "### How many roles were there in the movie \"Inception\"?"
      ]
    },
    {
      "cell_type": "code",
      "metadata": {
        "id": "8xmMZoX2M0cH",
        "colab_type": "code",
        "colab": {
          "base_uri": "https://localhost:8080/",
          "height": 34
        },
        "outputId": "057bafbc-19e5-479b-d746-dda6dd61eb51"
      },
      "source": [
        "Inception = casts[casts['title']=='Inception']\n",
        "len(Inception)"
      ],
      "execution_count": 7,
      "outputs": [
        {
          "output_type": "execute_result",
          "data": {
            "text/plain": [
              "78"
            ]
          },
          "metadata": {
            "tags": []
          },
          "execution_count": 7
        }
      ]
    },
    {
      "cell_type": "markdown",
      "metadata": {
        "id": "V3nXl8avR-0d",
        "colab_type": "text"
      },
      "source": [
        "78 roles in Inception"
      ]
    },
    {
      "cell_type": "markdown",
      "metadata": {
        "collapsed": true,
        "id": "sO_NCQKGM0cZ",
        "colab_type": "text"
      },
      "source": [
        "### How many roles in the movie \"Inception\" are NOT ranked by an \"n\" value?"
      ]
    },
    {
      "cell_type": "code",
      "metadata": {
        "id": "NVKagjVSM0ca",
        "colab_type": "code",
        "colab": {
          "base_uri": "https://localhost:8080/",
          "height": 34
        },
        "outputId": "b62cacee-5d12-4195-9837-6887b5d0b37e"
      },
      "source": [
        "Inception['n'].isna().sum()"
      ],
      "execution_count": 12,
      "outputs": [
        {
          "output_type": "execute_result",
          "data": {
            "text/plain": [
              "27"
            ]
          },
          "metadata": {
            "tags": []
          },
          "execution_count": 12
        }
      ]
    },
    {
      "cell_type": "markdown",
      "metadata": {
        "id": "nDK40ufiSmOx",
        "colab_type": "text"
      },
      "source": [
        "27 roles in the movie \"Inception\" are NOT ranked by an \"n\" value"
      ]
    },
    {
      "cell_type": "markdown",
      "metadata": {
        "collapsed": true,
        "id": "MW1oxRjcM0cz",
        "colab_type": "text"
      },
      "source": [
        "### But how many roles in the movie \"Inception\" did receive an \"n\" value?"
      ]
    },
    {
      "cell_type": "code",
      "metadata": {
        "id": "rVGyqM4DM0c2",
        "colab_type": "code",
        "colab": {
          "base_uri": "https://localhost:8080/",
          "height": 34
        },
        "outputId": "8cea3dd0-a82f-4420-8ad4-ac911a58cff1"
      },
      "source": [
        "len(Inception) - Inception['n'].isna().sum()"
      ],
      "execution_count": 13,
      "outputs": [
        {
          "output_type": "execute_result",
          "data": {
            "text/plain": [
              "51"
            ]
          },
          "metadata": {
            "tags": []
          },
          "execution_count": 13
        }
      ]
    },
    {
      "cell_type": "markdown",
      "metadata": {
        "id": "S7WA_FTWS7t1",
        "colab_type": "text"
      },
      "source": [
        "51 roles in the movie \"Inception\" did receive an \"n\" value"
      ]
    },
    {
      "cell_type": "markdown",
      "metadata": {
        "collapsed": true,
        "id": "N3D7KhluM0dL",
        "colab_type": "text"
      },
      "source": [
        "### Display the cast of \"North by Northwest\" in their correct \"n\"-value order, ignoring roles that did not earn a numeric \"n\" value."
      ]
    },
    {
      "cell_type": "code",
      "metadata": {
        "id": "n2qlqgzgM0dM",
        "colab_type": "code",
        "colab": {
          "base_uri": "https://localhost:8080/",
          "height": 545
        },
        "outputId": "6023ad56-da26-4951-ec12-01fcc5167667"
      },
      "source": [
        "NbN_cast = casts[casts['title']=='North by Northwest']\n",
        "NbN_cast.sort_values(by=['n']).dropna()"
      ],
      "execution_count": 16,
      "outputs": [
        {
          "output_type": "execute_result",
          "data": {
            "text/html": [
              "<div>\n",
              "<style scoped>\n",
              "    .dataframe tbody tr th:only-of-type {\n",
              "        vertical-align: middle;\n",
              "    }\n",
              "\n",
              "    .dataframe tbody tr th {\n",
              "        vertical-align: top;\n",
              "    }\n",
              "\n",
              "    .dataframe thead th {\n",
              "        text-align: right;\n",
              "    }\n",
              "</style>\n",
              "<table border=\"1\" class=\"dataframe\">\n",
              "  <thead>\n",
              "    <tr style=\"text-align: right;\">\n",
              "      <th></th>\n",
              "      <th>title</th>\n",
              "      <th>year</th>\n",
              "      <th>name</th>\n",
              "      <th>type</th>\n",
              "      <th>character</th>\n",
              "      <th>n</th>\n",
              "    </tr>\n",
              "  </thead>\n",
              "  <tbody>\n",
              "    <tr>\n",
              "      <th>871426</th>\n",
              "      <td>North by Northwest</td>\n",
              "      <td>1959</td>\n",
              "      <td>Cary Grant</td>\n",
              "      <td>actor</td>\n",
              "      <td>Roger O. Thornhill</td>\n",
              "      <td>1.0</td>\n",
              "    </tr>\n",
              "    <tr>\n",
              "      <th>3518333</th>\n",
              "      <td>North by Northwest</td>\n",
              "      <td>1959</td>\n",
              "      <td>Eva Marie Saint</td>\n",
              "      <td>actress</td>\n",
              "      <td>Eve Kendall</td>\n",
              "      <td>2.0</td>\n",
              "    </tr>\n",
              "    <tr>\n",
              "      <th>1457165</th>\n",
              "      <td>North by Northwest</td>\n",
              "      <td>1959</td>\n",
              "      <td>James Mason</td>\n",
              "      <td>actor</td>\n",
              "      <td>Phillip Vandamm</td>\n",
              "      <td>3.0</td>\n",
              "    </tr>\n",
              "    <tr>\n",
              "      <th>3157232</th>\n",
              "      <td>North by Northwest</td>\n",
              "      <td>1959</td>\n",
              "      <td>Jessie Royce Landis</td>\n",
              "      <td>actress</td>\n",
              "      <td>Clara Thornhill</td>\n",
              "      <td>4.0</td>\n",
              "    </tr>\n",
              "    <tr>\n",
              "      <th>356707</th>\n",
              "      <td>North by Northwest</td>\n",
              "      <td>1959</td>\n",
              "      <td>Leo G. Carroll</td>\n",
              "      <td>actor</td>\n",
              "      <td>The Professor</td>\n",
              "      <td>5.0</td>\n",
              "    </tr>\n",
              "    <tr>\n",
              "      <th>3048272</th>\n",
              "      <td>North by Northwest</td>\n",
              "      <td>1959</td>\n",
              "      <td>Josephine Hutchinson</td>\n",
              "      <td>actress</td>\n",
              "      <td>Mrs. Townsend</td>\n",
              "      <td>6.0</td>\n",
              "    </tr>\n",
              "    <tr>\n",
              "      <th>1695173</th>\n",
              "      <td>North by Northwest</td>\n",
              "      <td>1959</td>\n",
              "      <td>Philip Ober</td>\n",
              "      <td>actor</td>\n",
              "      <td>Lester Townsend</td>\n",
              "      <td>7.0</td>\n",
              "    </tr>\n",
              "    <tr>\n",
              "      <th>1275337</th>\n",
              "      <td>North by Northwest</td>\n",
              "      <td>1959</td>\n",
              "      <td>Martin Landau</td>\n",
              "      <td>actor</td>\n",
              "      <td>Leonard</td>\n",
              "      <td>8.0</td>\n",
              "    </tr>\n",
              "    <tr>\n",
              "      <th>2447081</th>\n",
              "      <td>North by Northwest</td>\n",
              "      <td>1959</td>\n",
              "      <td>Adam Williams</td>\n",
              "      <td>actor</td>\n",
              "      <td>Valerian</td>\n",
              "      <td>9.0</td>\n",
              "    </tr>\n",
              "    <tr>\n",
              "      <th>1811387</th>\n",
              "      <td>North by Northwest</td>\n",
              "      <td>1959</td>\n",
              "      <td>Edward Platt</td>\n",
              "      <td>actor</td>\n",
              "      <td>Victor Larrabee</td>\n",
              "      <td>10.0</td>\n",
              "    </tr>\n",
              "    <tr>\n",
              "      <th>665768</th>\n",
              "      <td>North by Northwest</td>\n",
              "      <td>1959</td>\n",
              "      <td>Robert Ellenstein</td>\n",
              "      <td>actor</td>\n",
              "      <td>Licht</td>\n",
              "      <td>11.0</td>\n",
              "    </tr>\n",
              "    <tr>\n",
              "      <th>2295714</th>\n",
              "      <td>North by Northwest</td>\n",
              "      <td>1959</td>\n",
              "      <td>Les Tremayne</td>\n",
              "      <td>actor</td>\n",
              "      <td>Auctioneer</td>\n",
              "      <td>12.0</td>\n",
              "    </tr>\n",
              "    <tr>\n",
              "      <th>464736</th>\n",
              "      <td>North by Northwest</td>\n",
              "      <td>1959</td>\n",
              "      <td>Philip Coolidge</td>\n",
              "      <td>actor</td>\n",
              "      <td>Dr. Cross</td>\n",
              "      <td>13.0</td>\n",
              "    </tr>\n",
              "    <tr>\n",
              "      <th>1508344</th>\n",
              "      <td>North by Northwest</td>\n",
              "      <td>1959</td>\n",
              "      <td>Patrick McVey</td>\n",
              "      <td>actor</td>\n",
              "      <td>Sergeant Flamm</td>\n",
              "      <td>14.0</td>\n",
              "    </tr>\n",
              "    <tr>\n",
              "      <th>206471</th>\n",
              "      <td>North by Northwest</td>\n",
              "      <td>1959</td>\n",
              "      <td>Edward Binns</td>\n",
              "      <td>actor</td>\n",
              "      <td>Captain Junket</td>\n",
              "      <td>15.0</td>\n",
              "    </tr>\n",
              "    <tr>\n",
              "      <th>1384780</th>\n",
              "      <td>North by Northwest</td>\n",
              "      <td>1959</td>\n",
              "      <td>Ken Lynch</td>\n",
              "      <td>actor</td>\n",
              "      <td>Charley - Chicago Policeman</td>\n",
              "      <td>16.0</td>\n",
              "    </tr>\n",
              "  </tbody>\n",
              "</table>\n",
              "</div>"
            ],
            "text/plain": [
              "                      title  year  ...                    character     n\n",
              "871426   North by Northwest  1959  ...           Roger O. Thornhill   1.0\n",
              "3518333  North by Northwest  1959  ...                  Eve Kendall   2.0\n",
              "1457165  North by Northwest  1959  ...              Phillip Vandamm   3.0\n",
              "3157232  North by Northwest  1959  ...              Clara Thornhill   4.0\n",
              "356707   North by Northwest  1959  ...                The Professor   5.0\n",
              "3048272  North by Northwest  1959  ...                Mrs. Townsend   6.0\n",
              "1695173  North by Northwest  1959  ...              Lester Townsend   7.0\n",
              "1275337  North by Northwest  1959  ...                      Leonard   8.0\n",
              "2447081  North by Northwest  1959  ...                     Valerian   9.0\n",
              "1811387  North by Northwest  1959  ...              Victor Larrabee  10.0\n",
              "665768   North by Northwest  1959  ...                        Licht  11.0\n",
              "2295714  North by Northwest  1959  ...                   Auctioneer  12.0\n",
              "464736   North by Northwest  1959  ...                    Dr. Cross  13.0\n",
              "1508344  North by Northwest  1959  ...               Sergeant Flamm  14.0\n",
              "206471   North by Northwest  1959  ...               Captain Junket  15.0\n",
              "1384780  North by Northwest  1959  ...  Charley - Chicago Policeman  16.0\n",
              "\n",
              "[16 rows x 6 columns]"
            ]
          },
          "metadata": {
            "tags": []
          },
          "execution_count": 16
        }
      ]
    },
    {
      "cell_type": "markdown",
      "metadata": {
        "collapsed": true,
        "id": "0POXMdDaM0dc",
        "colab_type": "text"
      },
      "source": [
        "### Display the entire cast, in \"n\"-order, of the 1972 film \"Sleuth\"."
      ]
    },
    {
      "cell_type": "code",
      "metadata": {
        "id": "owF-r4S8M0df",
        "colab_type": "code",
        "colab": {
          "base_uri": "https://localhost:8080/",
          "height": 235
        },
        "outputId": "3dfb7446-cfdb-47f0-9a37-24f576842b30"
      },
      "source": [
        "Sleuth = casts[(casts['title']=='Sleuth') & (casts['year']==1972)]\n",
        "Sleuth.sort_values(by=['n'])"
      ],
      "execution_count": 20,
      "outputs": [
        {
          "output_type": "execute_result",
          "data": {
            "text/html": [
              "<div>\n",
              "<style scoped>\n",
              "    .dataframe tbody tr th:only-of-type {\n",
              "        vertical-align: middle;\n",
              "    }\n",
              "\n",
              "    .dataframe tbody tr th {\n",
              "        vertical-align: top;\n",
              "    }\n",
              "\n",
              "    .dataframe thead th {\n",
              "        text-align: right;\n",
              "    }\n",
              "</style>\n",
              "<table border=\"1\" class=\"dataframe\">\n",
              "  <thead>\n",
              "    <tr style=\"text-align: right;\">\n",
              "      <th></th>\n",
              "      <th>title</th>\n",
              "      <th>year</th>\n",
              "      <th>name</th>\n",
              "      <th>type</th>\n",
              "      <th>character</th>\n",
              "      <th>n</th>\n",
              "    </tr>\n",
              "  </thead>\n",
              "  <tbody>\n",
              "    <tr>\n",
              "      <th>1705394</th>\n",
              "      <td>Sleuth</td>\n",
              "      <td>1972</td>\n",
              "      <td>Laurence Olivier</td>\n",
              "      <td>actor</td>\n",
              "      <td>Andrew Wyke</td>\n",
              "      <td>1.0</td>\n",
              "    </tr>\n",
              "    <tr>\n",
              "      <th>326773</th>\n",
              "      <td>Sleuth</td>\n",
              "      <td>1972</td>\n",
              "      <td>Michael Caine</td>\n",
              "      <td>actor</td>\n",
              "      <td>Milo Tindle</td>\n",
              "      <td>2.0</td>\n",
              "    </tr>\n",
              "    <tr>\n",
              "      <th>373876</th>\n",
              "      <td>Sleuth</td>\n",
              "      <td>1972</td>\n",
              "      <td>Alec Cawthorne</td>\n",
              "      <td>actor</td>\n",
              "      <td>Inspector Doppler</td>\n",
              "      <td>3.0</td>\n",
              "    </tr>\n",
              "    <tr>\n",
              "      <th>1465483</th>\n",
              "      <td>Sleuth</td>\n",
              "      <td>1972</td>\n",
              "      <td>John (II) Matthews</td>\n",
              "      <td>actor</td>\n",
              "      <td>Detective Sergeant Tarrant</td>\n",
              "      <td>4.0</td>\n",
              "    </tr>\n",
              "    <tr>\n",
              "      <th>2724553</th>\n",
              "      <td>Sleuth</td>\n",
              "      <td>1972</td>\n",
              "      <td>Eve (III) Channing</td>\n",
              "      <td>actress</td>\n",
              "      <td>Marguerite Wyke</td>\n",
              "      <td>5.0</td>\n",
              "    </tr>\n",
              "    <tr>\n",
              "      <th>1448690</th>\n",
              "      <td>Sleuth</td>\n",
              "      <td>1972</td>\n",
              "      <td>Teddy Martin</td>\n",
              "      <td>actor</td>\n",
              "      <td>Police Constable Higgs</td>\n",
              "      <td>6.0</td>\n",
              "    </tr>\n",
              "  </tbody>\n",
              "</table>\n",
              "</div>"
            ],
            "text/plain": [
              "          title  year  ...                   character    n\n",
              "1705394  Sleuth  1972  ...                 Andrew Wyke  1.0\n",
              "326773   Sleuth  1972  ...                 Milo Tindle  2.0\n",
              "373876   Sleuth  1972  ...           Inspector Doppler  3.0\n",
              "1465483  Sleuth  1972  ...  Detective Sergeant Tarrant  4.0\n",
              "2724553  Sleuth  1972  ...             Marguerite Wyke  5.0\n",
              "1448690  Sleuth  1972  ...      Police Constable Higgs  6.0\n",
              "\n",
              "[6 rows x 6 columns]"
            ]
          },
          "metadata": {
            "tags": []
          },
          "execution_count": 20
        }
      ]
    },
    {
      "cell_type": "markdown",
      "metadata": {
        "collapsed": true,
        "id": "t3XpNGV5M0d0",
        "colab_type": "text"
      },
      "source": [
        "### Now display the entire cast, in \"n\"-order, of the 2007 version of \"Sleuth\"."
      ]
    },
    {
      "cell_type": "code",
      "metadata": {
        "id": "C7dknkJJM0d1",
        "colab_type": "code",
        "colab": {
          "base_uri": "https://localhost:8080/",
          "height": 266
        },
        "outputId": "135ad3f7-78fc-4b35-d92a-343e6659a275"
      },
      "source": [
        "Sleuth = casts[(casts['title']=='Sleuth') & (casts['year']==2007)]\n",
        "Sleuth.sort_values(by=['n'])"
      ],
      "execution_count": 21,
      "outputs": [
        {
          "output_type": "execute_result",
          "data": {
            "text/html": [
              "<div>\n",
              "<style scoped>\n",
              "    .dataframe tbody tr th:only-of-type {\n",
              "        vertical-align: middle;\n",
              "    }\n",
              "\n",
              "    .dataframe tbody tr th {\n",
              "        vertical-align: top;\n",
              "    }\n",
              "\n",
              "    .dataframe thead th {\n",
              "        text-align: right;\n",
              "    }\n",
              "</style>\n",
              "<table border=\"1\" class=\"dataframe\">\n",
              "  <thead>\n",
              "    <tr style=\"text-align: right;\">\n",
              "      <th></th>\n",
              "      <th>title</th>\n",
              "      <th>year</th>\n",
              "      <th>name</th>\n",
              "      <th>type</th>\n",
              "      <th>character</th>\n",
              "      <th>n</th>\n",
              "    </tr>\n",
              "  </thead>\n",
              "  <tbody>\n",
              "    <tr>\n",
              "      <th>326774</th>\n",
              "      <td>Sleuth</td>\n",
              "      <td>2007</td>\n",
              "      <td>Michael Caine</td>\n",
              "      <td>actor</td>\n",
              "      <td>Andrew</td>\n",
              "      <td>1.0</td>\n",
              "    </tr>\n",
              "    <tr>\n",
              "      <th>1293634</th>\n",
              "      <td>Sleuth</td>\n",
              "      <td>2007</td>\n",
              "      <td>Jude Law</td>\n",
              "      <td>actor</td>\n",
              "      <td>Milo</td>\n",
              "      <td>2.0</td>\n",
              "    </tr>\n",
              "    <tr>\n",
              "      <th>1805907</th>\n",
              "      <td>Sleuth</td>\n",
              "      <td>2007</td>\n",
              "      <td>Harold Pinter</td>\n",
              "      <td>actor</td>\n",
              "      <td>Man on T.V.</td>\n",
              "      <td>3.0</td>\n",
              "    </tr>\n",
              "    <tr>\n",
              "      <th>260242</th>\n",
              "      <td>Sleuth</td>\n",
              "      <td>2007</td>\n",
              "      <td>Kenneth Branagh</td>\n",
              "      <td>actor</td>\n",
              "      <td>Other Man on T.V.</td>\n",
              "      <td>NaN</td>\n",
              "    </tr>\n",
              "    <tr>\n",
              "      <th>373877</th>\n",
              "      <td>Sleuth</td>\n",
              "      <td>2007</td>\n",
              "      <td>Alec (II) Cawthorne</td>\n",
              "      <td>actor</td>\n",
              "      <td>Inspector Doppler</td>\n",
              "      <td>NaN</td>\n",
              "    </tr>\n",
              "    <tr>\n",
              "      <th>2724552</th>\n",
              "      <td>Sleuth</td>\n",
              "      <td>2007</td>\n",
              "      <td>Eve (II) Channing</td>\n",
              "      <td>actress</td>\n",
              "      <td>Marguerite Wyke</td>\n",
              "      <td>NaN</td>\n",
              "    </tr>\n",
              "    <tr>\n",
              "      <th>3370424</th>\n",
              "      <td>Sleuth</td>\n",
              "      <td>2007</td>\n",
              "      <td>Carmel O'Sullivan</td>\n",
              "      <td>actress</td>\n",
              "      <td>Maggie</td>\n",
              "      <td>NaN</td>\n",
              "    </tr>\n",
              "  </tbody>\n",
              "</table>\n",
              "</div>"
            ],
            "text/plain": [
              "          title  year                 name     type          character    n\n",
              "326774   Sleuth  2007        Michael Caine    actor             Andrew  1.0\n",
              "1293634  Sleuth  2007             Jude Law    actor               Milo  2.0\n",
              "1805907  Sleuth  2007        Harold Pinter    actor        Man on T.V.  3.0\n",
              "260242   Sleuth  2007      Kenneth Branagh    actor  Other Man on T.V.  NaN\n",
              "373877   Sleuth  2007  Alec (II) Cawthorne    actor  Inspector Doppler  NaN\n",
              "2724552  Sleuth  2007    Eve (II) Channing  actress    Marguerite Wyke  NaN\n",
              "3370424  Sleuth  2007    Carmel O'Sullivan  actress             Maggie  NaN"
            ]
          },
          "metadata": {
            "tags": []
          },
          "execution_count": 21
        }
      ]
    },
    {
      "cell_type": "markdown",
      "metadata": {
        "collapsed": true,
        "id": "aXl2RAs_M0eN",
        "colab_type": "text"
      },
      "source": [
        "### How many roles were credited in the silent 1921 version of Hamlet?"
      ]
    },
    {
      "cell_type": "code",
      "metadata": {
        "id": "FmaEz6B4M0eP",
        "colab_type": "code",
        "colab": {
          "base_uri": "https://localhost:8080/",
          "height": 34
        },
        "outputId": "230f9576-d43d-43a8-cb43-e7e36f34f226"
      },
      "source": [
        "len(casts[(casts['title']=='Hamlet') & (casts['year']==1921)])"
      ],
      "execution_count": 24,
      "outputs": [
        {
          "output_type": "execute_result",
          "data": {
            "text/plain": [
              "9"
            ]
          },
          "metadata": {
            "tags": []
          },
          "execution_count": 24
        }
      ]
    },
    {
      "cell_type": "markdown",
      "metadata": {
        "id": "060Cn1_WVLeq",
        "colab_type": "text"
      },
      "source": [
        "9 roles were credited in the silent 1921 version of Hamlet"
      ]
    },
    {
      "cell_type": "markdown",
      "metadata": {
        "collapsed": true,
        "id": "4gqriLjmM0eg",
        "colab_type": "text"
      },
      "source": [
        "### How many roles were credited in Branagh’s 1996 Hamlet?"
      ]
    },
    {
      "cell_type": "code",
      "metadata": {
        "id": "vvSlYDycM0eh",
        "colab_type": "code",
        "colab": {
          "base_uri": "https://localhost:8080/",
          "height": 34
        },
        "outputId": "ad41ef1a-665a-4106-cb07-05e42f1db694"
      },
      "source": [
        "len(casts[(casts['title']=='Hamlet') & (casts['year']==1996)])"
      ],
      "execution_count": 25,
      "outputs": [
        {
          "output_type": "execute_result",
          "data": {
            "text/plain": [
              "54"
            ]
          },
          "metadata": {
            "tags": []
          },
          "execution_count": 25
        }
      ]
    },
    {
      "cell_type": "markdown",
      "metadata": {
        "id": "1tP-YyR2VUh1",
        "colab_type": "text"
      },
      "source": [
        "54 roles were credited in Branagh’s 1996 Hamlet"
      ]
    },
    {
      "cell_type": "markdown",
      "metadata": {
        "collapsed": true,
        "id": "T-u_agTdM0ez",
        "colab_type": "text"
      },
      "source": [
        "### How many \"Hamlet\" roles have been listed in all film credits through history?"
      ]
    },
    {
      "cell_type": "code",
      "metadata": {
        "id": "R_w5KlehM0e0",
        "colab_type": "code",
        "colab": {
          "base_uri": "https://localhost:8080/",
          "height": 34
        },
        "outputId": "49a91f75-6068-4569-a5c3-797bd37038ad"
      },
      "source": [
        "len(casts[(casts['title']=='Hamlet')])"
      ],
      "execution_count": 26,
      "outputs": [
        {
          "output_type": "execute_result",
          "data": {
            "text/plain": [
              "342"
            ]
          },
          "metadata": {
            "tags": []
          },
          "execution_count": 26
        }
      ]
    },
    {
      "cell_type": "markdown",
      "metadata": {
        "id": "PYhq5eJhViKJ",
        "colab_type": "text"
      },
      "source": [
        "342 \"Hamlet\" roles have been listed in all film credits through history"
      ]
    },
    {
      "cell_type": "markdown",
      "metadata": {
        "collapsed": true,
        "id": "5ZnA4qWgM0fP",
        "colab_type": "text"
      },
      "source": [
        "### How many people have played an \"Ophelia\"?"
      ]
    },
    {
      "cell_type": "code",
      "metadata": {
        "id": "4C3TS3IXM0fR",
        "colab_type": "code",
        "colab": {
          "base_uri": "https://localhost:8080/",
          "height": 34
        },
        "outputId": "5953c2b8-989d-4692-b51f-e276341e997e"
      },
      "source": [
        "len(casts[(casts['character']=='Ophelia')])"
      ],
      "execution_count": 27,
      "outputs": [
        {
          "output_type": "execute_result",
          "data": {
            "text/plain": [
              "117"
            ]
          },
          "metadata": {
            "tags": []
          },
          "execution_count": 27
        }
      ]
    },
    {
      "cell_type": "markdown",
      "metadata": {
        "id": "Y8f-WrfKVtVh",
        "colab_type": "text"
      },
      "source": [
        "117 people have played an \"Ophelia\""
      ]
    },
    {
      "cell_type": "markdown",
      "metadata": {
        "collapsed": true,
        "id": "pDE0crbeM0fq",
        "colab_type": "text"
      },
      "source": [
        "### How many people have played a role called \"The Dude\"?"
      ]
    },
    {
      "cell_type": "code",
      "metadata": {
        "id": "5VxPhkPuM0fs",
        "colab_type": "code",
        "colab": {
          "base_uri": "https://localhost:8080/",
          "height": 34
        },
        "outputId": "b0d71e98-754a-47c2-ce11-5ef3a052b20c"
      },
      "source": [
        "len(casts[(casts['character']=='The Dude')])"
      ],
      "execution_count": 28,
      "outputs": [
        {
          "output_type": "execute_result",
          "data": {
            "text/plain": [
              "19"
            ]
          },
          "metadata": {
            "tags": []
          },
          "execution_count": 28
        }
      ]
    },
    {
      "cell_type": "markdown",
      "metadata": {
        "id": "WYG7zwT4V4ii",
        "colab_type": "text"
      },
      "source": [
        "19 people have played a role called \"The Dude\""
      ]
    },
    {
      "cell_type": "markdown",
      "metadata": {
        "collapsed": true,
        "id": "qnuC3L_lM0gD",
        "colab_type": "text"
      },
      "source": [
        "### How many people have played a role called \"The Stranger\"?"
      ]
    },
    {
      "cell_type": "code",
      "metadata": {
        "id": "yax7pl-yM0gE",
        "colab_type": "code",
        "colab": {
          "base_uri": "https://localhost:8080/",
          "height": 34
        },
        "outputId": "de61de31-e8d1-41af-efab-13ed8093dc19"
      },
      "source": [
        "len(casts[(casts['character']=='The Stranger')])"
      ],
      "execution_count": 29,
      "outputs": [
        {
          "output_type": "execute_result",
          "data": {
            "text/plain": [
              "212"
            ]
          },
          "metadata": {
            "tags": []
          },
          "execution_count": 29
        }
      ]
    },
    {
      "cell_type": "markdown",
      "metadata": {
        "id": "ZLquCf81WBFn",
        "colab_type": "text"
      },
      "source": [
        "212 people have played a role called \"The Stranger\""
      ]
    },
    {
      "cell_type": "markdown",
      "metadata": {
        "collapsed": true,
        "id": "Kd4dLw4gM0gY",
        "colab_type": "text"
      },
      "source": [
        "### How many roles has Sidney Poitier played throughout his career?"
      ]
    },
    {
      "cell_type": "code",
      "metadata": {
        "id": "9ZdgpWYTM0gZ",
        "colab_type": "code",
        "colab": {
          "base_uri": "https://localhost:8080/",
          "height": 34
        },
        "outputId": "67fd1ba6-d80e-47ea-cd78-d41d3c01009b"
      },
      "source": [
        "len(casts[(casts['name']=='Sidney Poitier')])"
      ],
      "execution_count": 30,
      "outputs": [
        {
          "output_type": "execute_result",
          "data": {
            "text/plain": [
              "43"
            ]
          },
          "metadata": {
            "tags": []
          },
          "execution_count": 30
        }
      ]
    },
    {
      "cell_type": "markdown",
      "metadata": {
        "id": "129lnnqXWPdk",
        "colab_type": "text"
      },
      "source": [
        "Sidney Poitier has played 43 roles throughout his career"
      ]
    },
    {
      "cell_type": "markdown",
      "metadata": {
        "collapsed": true,
        "id": "nXa-eKYLM0gq",
        "colab_type": "text"
      },
      "source": [
        "### How many roles has Judi Dench played?"
      ]
    },
    {
      "cell_type": "code",
      "metadata": {
        "id": "ORZaRW8ZM0gs",
        "colab_type": "code",
        "colab": {
          "base_uri": "https://localhost:8080/",
          "height": 34
        },
        "outputId": "626c4e1e-af0d-451e-e643-defb9b15ab04"
      },
      "source": [
        "len(casts[(casts['name']=='Judi Dench')])"
      ],
      "execution_count": 31,
      "outputs": [
        {
          "output_type": "execute_result",
          "data": {
            "text/plain": [
              "55"
            ]
          },
          "metadata": {
            "tags": []
          },
          "execution_count": 31
        }
      ]
    },
    {
      "cell_type": "markdown",
      "metadata": {
        "id": "R3zx6VaIWZAA",
        "colab_type": "text"
      },
      "source": [
        "Judi Dench has played 55 roles throughout his career"
      ]
    },
    {
      "cell_type": "markdown",
      "metadata": {
        "collapsed": true,
        "id": "B3yKMcHkM0hB",
        "colab_type": "text"
      },
      "source": [
        "### List the supporting roles (having n=2) played by Cary Grant in the 1940s, in order by year."
      ]
    },
    {
      "cell_type": "code",
      "metadata": {
        "id": "sUQgm1BdM0hC",
        "colab_type": "code",
        "colab": {
          "base_uri": "https://localhost:8080/",
          "height": 111
        },
        "outputId": "b69c46c6-01b9-4194-fe04-636a6b7665c9"
      },
      "source": [
        "casts[(casts['name']=='Cary Grant') & (casts['year']>=1940) & (casts['year']<1950) & (casts['n']==2)].sort_values(by='year')"
      ],
      "execution_count": 33,
      "outputs": [
        {
          "output_type": "execute_result",
          "data": {
            "text/html": [
              "<div>\n",
              "<style scoped>\n",
              "    .dataframe tbody tr th:only-of-type {\n",
              "        vertical-align: middle;\n",
              "    }\n",
              "\n",
              "    .dataframe tbody tr th {\n",
              "        vertical-align: top;\n",
              "    }\n",
              "\n",
              "    .dataframe thead th {\n",
              "        text-align: right;\n",
              "    }\n",
              "</style>\n",
              "<table border=\"1\" class=\"dataframe\">\n",
              "  <thead>\n",
              "    <tr style=\"text-align: right;\">\n",
              "      <th></th>\n",
              "      <th>title</th>\n",
              "      <th>year</th>\n",
              "      <th>name</th>\n",
              "      <th>type</th>\n",
              "      <th>character</th>\n",
              "      <th>n</th>\n",
              "    </tr>\n",
              "  </thead>\n",
              "  <tbody>\n",
              "    <tr>\n",
              "      <th>871423</th>\n",
              "      <td>My Favorite Wife</td>\n",
              "      <td>1940</td>\n",
              "      <td>Cary Grant</td>\n",
              "      <td>actor</td>\n",
              "      <td>Nick Arden</td>\n",
              "      <td>2.0</td>\n",
              "    </tr>\n",
              "    <tr>\n",
              "      <th>871433</th>\n",
              "      <td>Penny Serenade</td>\n",
              "      <td>1941</td>\n",
              "      <td>Cary Grant</td>\n",
              "      <td>actor</td>\n",
              "      <td>Roger Adams</td>\n",
              "      <td>2.0</td>\n",
              "    </tr>\n",
              "  </tbody>\n",
              "</table>\n",
              "</div>"
            ],
            "text/plain": [
              "                   title  year        name   type    character    n\n",
              "871423  My Favorite Wife  1940  Cary Grant  actor   Nick Arden  2.0\n",
              "871433    Penny Serenade  1941  Cary Grant  actor  Roger Adams  2.0"
            ]
          },
          "metadata": {
            "tags": []
          },
          "execution_count": 33
        }
      ]
    },
    {
      "cell_type": "markdown",
      "metadata": {
        "collapsed": true,
        "id": "ufB5AX_pM0hX",
        "colab_type": "text"
      },
      "source": [
        "### List the leading roles that Cary Grant played in the 1940s in order by year."
      ]
    },
    {
      "cell_type": "code",
      "metadata": {
        "id": "tajpS-O4M0hY",
        "colab_type": "code",
        "colab": {
          "base_uri": "https://localhost:8080/",
          "height": 607
        },
        "outputId": "d224fff7-423e-412a-8ff2-fd6b4fc43a35"
      },
      "source": [
        "casts[(casts['name']=='Cary Grant') & (casts['year']>=1940) & (casts['year']<1950) & (casts['n']==1)].sort_values(by='year')"
      ],
      "execution_count": 34,
      "outputs": [
        {
          "output_type": "execute_result",
          "data": {
            "text/html": [
              "<div>\n",
              "<style scoped>\n",
              "    .dataframe tbody tr th:only-of-type {\n",
              "        vertical-align: middle;\n",
              "    }\n",
              "\n",
              "    .dataframe tbody tr th {\n",
              "        vertical-align: top;\n",
              "    }\n",
              "\n",
              "    .dataframe thead th {\n",
              "        text-align: right;\n",
              "    }\n",
              "</style>\n",
              "<table border=\"1\" class=\"dataframe\">\n",
              "  <thead>\n",
              "    <tr style=\"text-align: right;\">\n",
              "      <th></th>\n",
              "      <th>title</th>\n",
              "      <th>year</th>\n",
              "      <th>name</th>\n",
              "      <th>type</th>\n",
              "      <th>character</th>\n",
              "      <th>n</th>\n",
              "    </tr>\n",
              "  </thead>\n",
              "  <tbody>\n",
              "    <tr>\n",
              "      <th>871448</th>\n",
              "      <td>The Howards of Virginia</td>\n",
              "      <td>1940</td>\n",
              "      <td>Cary Grant</td>\n",
              "      <td>actor</td>\n",
              "      <td>Matt Howard</td>\n",
              "      <td>1.0</td>\n",
              "    </tr>\n",
              "    <tr>\n",
              "      <th>871407</th>\n",
              "      <td>His Girl Friday</td>\n",
              "      <td>1940</td>\n",
              "      <td>Cary Grant</td>\n",
              "      <td>actor</td>\n",
              "      <td>Walter Burns</td>\n",
              "      <td>1.0</td>\n",
              "    </tr>\n",
              "    <tr>\n",
              "      <th>871450</th>\n",
              "      <td>The Philadelphia Story</td>\n",
              "      <td>1940</td>\n",
              "      <td>Cary Grant</td>\n",
              "      <td>actor</td>\n",
              "      <td>C. K. Dexter Haven</td>\n",
              "      <td>1.0</td>\n",
              "    </tr>\n",
              "    <tr>\n",
              "      <th>871438</th>\n",
              "      <td>Suspicion</td>\n",
              "      <td>1941</td>\n",
              "      <td>Cary Grant</td>\n",
              "      <td>actor</td>\n",
              "      <td>Johnnie Aysgarth</td>\n",
              "      <td>1.0</td>\n",
              "    </tr>\n",
              "    <tr>\n",
              "      <th>871452</th>\n",
              "      <td>The Talk of the Town</td>\n",
              "      <td>1942</td>\n",
              "      <td>Cary Grant</td>\n",
              "      <td>actor</td>\n",
              "      <td>Leopold Dilg</td>\n",
              "      <td>1.0</td>\n",
              "    </tr>\n",
              "    <tr>\n",
              "      <th>871429</th>\n",
              "      <td>Once Upon a Honeymoon</td>\n",
              "      <td>1942</td>\n",
              "      <td>Cary Grant</td>\n",
              "      <td>actor</td>\n",
              "      <td>Patrick 'Pat' O'Toole</td>\n",
              "      <td>1.0</td>\n",
              "    </tr>\n",
              "    <tr>\n",
              "      <th>871398</th>\n",
              "      <td>Destination Tokyo</td>\n",
              "      <td>1943</td>\n",
              "      <td>Cary Grant</td>\n",
              "      <td>actor</td>\n",
              "      <td>Capt. Cassidy</td>\n",
              "      <td>1.0</td>\n",
              "    </tr>\n",
              "    <tr>\n",
              "      <th>871422</th>\n",
              "      <td>Mr. Lucky</td>\n",
              "      <td>1943</td>\n",
              "      <td>Cary Grant</td>\n",
              "      <td>actor</td>\n",
              "      <td>Joe Adams -posing as Joe Bascopolous</td>\n",
              "      <td>1.0</td>\n",
              "    </tr>\n",
              "    <tr>\n",
              "      <th>871430</th>\n",
              "      <td>Once Upon a Time</td>\n",
              "      <td>1944</td>\n",
              "      <td>Cary Grant</td>\n",
              "      <td>actor</td>\n",
              "      <td>Jerry Flynn</td>\n",
              "      <td>1.0</td>\n",
              "    </tr>\n",
              "    <tr>\n",
              "      <th>871390</th>\n",
              "      <td>Arsenic and Old Lace</td>\n",
              "      <td>1944</td>\n",
              "      <td>Cary Grant</td>\n",
              "      <td>actor</td>\n",
              "      <td>Mortimer Brewster</td>\n",
              "      <td>1.0</td>\n",
              "    </tr>\n",
              "    <tr>\n",
              "      <th>871425</th>\n",
              "      <td>None But the Lonely Heart</td>\n",
              "      <td>1944</td>\n",
              "      <td>Cary Grant</td>\n",
              "      <td>actor</td>\n",
              "      <td>Ernie Mott</td>\n",
              "      <td>1.0</td>\n",
              "    </tr>\n",
              "    <tr>\n",
              "      <th>871424</th>\n",
              "      <td>Night and Day</td>\n",
              "      <td>1946</td>\n",
              "      <td>Cary Grant</td>\n",
              "      <td>actor</td>\n",
              "      <td>Cole Porter</td>\n",
              "      <td>1.0</td>\n",
              "    </tr>\n",
              "    <tr>\n",
              "      <th>871427</th>\n",
              "      <td>Notorious</td>\n",
              "      <td>1946</td>\n",
              "      <td>Cary Grant</td>\n",
              "      <td>actor</td>\n",
              "      <td>Devlin</td>\n",
              "      <td>1.0</td>\n",
              "    </tr>\n",
              "    <tr>\n",
              "      <th>871444</th>\n",
              "      <td>The Bachelor and the Bobby-Soxer</td>\n",
              "      <td>1947</td>\n",
              "      <td>Cary Grant</td>\n",
              "      <td>actor</td>\n",
              "      <td>Dick Nugent</td>\n",
              "      <td>1.0</td>\n",
              "    </tr>\n",
              "    <tr>\n",
              "      <th>871445</th>\n",
              "      <td>The Bishop's Wife</td>\n",
              "      <td>1947</td>\n",
              "      <td>Cary Grant</td>\n",
              "      <td>actor</td>\n",
              "      <td>Dudley</td>\n",
              "      <td>1.0</td>\n",
              "    </tr>\n",
              "    <tr>\n",
              "      <th>871421</th>\n",
              "      <td>Mr. Blandings Builds His Dream House</td>\n",
              "      <td>1948</td>\n",
              "      <td>Cary Grant</td>\n",
              "      <td>actor</td>\n",
              "      <td>Jim Blandings</td>\n",
              "      <td>1.0</td>\n",
              "    </tr>\n",
              "    <tr>\n",
              "      <th>871402</th>\n",
              "      <td>Every Girl Should Be Married</td>\n",
              "      <td>1948</td>\n",
              "      <td>Cary Grant</td>\n",
              "      <td>actor</td>\n",
              "      <td>Dr. Madison Brown</td>\n",
              "      <td>1.0</td>\n",
              "    </tr>\n",
              "    <tr>\n",
              "      <th>871411</th>\n",
              "      <td>I Was a Male War Bride</td>\n",
              "      <td>1949</td>\n",
              "      <td>Cary Grant</td>\n",
              "      <td>actor</td>\n",
              "      <td>Captain Henri Rochard</td>\n",
              "      <td>1.0</td>\n",
              "    </tr>\n",
              "  </tbody>\n",
              "</table>\n",
              "</div>"
            ],
            "text/plain": [
              "                                       title  ...    n\n",
              "871448               The Howards of Virginia  ...  1.0\n",
              "871407                       His Girl Friday  ...  1.0\n",
              "871450                The Philadelphia Story  ...  1.0\n",
              "871438                             Suspicion  ...  1.0\n",
              "871452                  The Talk of the Town  ...  1.0\n",
              "871429                 Once Upon a Honeymoon  ...  1.0\n",
              "871398                     Destination Tokyo  ...  1.0\n",
              "871422                             Mr. Lucky  ...  1.0\n",
              "871430                      Once Upon a Time  ...  1.0\n",
              "871390                  Arsenic and Old Lace  ...  1.0\n",
              "871425             None But the Lonely Heart  ...  1.0\n",
              "871424                         Night and Day  ...  1.0\n",
              "871427                             Notorious  ...  1.0\n",
              "871444      The Bachelor and the Bobby-Soxer  ...  1.0\n",
              "871445                     The Bishop's Wife  ...  1.0\n",
              "871421  Mr. Blandings Builds His Dream House  ...  1.0\n",
              "871402          Every Girl Should Be Married  ...  1.0\n",
              "871411                I Was a Male War Bride  ...  1.0\n",
              "\n",
              "[18 rows x 6 columns]"
            ]
          },
          "metadata": {
            "tags": []
          },
          "execution_count": 34
        }
      ]
    },
    {
      "cell_type": "markdown",
      "metadata": {
        "collapsed": true,
        "id": "4QZaB7HDM0ho",
        "colab_type": "text"
      },
      "source": [
        "### How many roles were available for actors in the 1950s?"
      ]
    },
    {
      "cell_type": "code",
      "metadata": {
        "id": "C68pl_bxM0hp",
        "colab_type": "code",
        "colab": {}
      },
      "source": [
        "actor1950s = casts[(casts['year']>=1940) & (casts['year']<1950) & (casts['type']=='actor')]"
      ],
      "execution_count": 51,
      "outputs": []
    },
    {
      "cell_type": "code",
      "metadata": {
        "id": "tPWJp7M6M0hy",
        "colab_type": "code",
        "colab": {
          "base_uri": "https://localhost:8080/",
          "height": 34
        },
        "outputId": "cec71eed-0312-405c-cde3-6237c26422ef"
      },
      "source": [
        "len(actor1950s.n.dropna().unique())"
      ],
      "execution_count": 52,
      "outputs": [
        {
          "output_type": "execute_result",
          "data": {
            "text/plain": [
              "82"
            ]
          },
          "metadata": {
            "tags": []
          },
          "execution_count": 52
        }
      ]
    },
    {
      "cell_type": "markdown",
      "metadata": {
        "id": "WQsLIa_-anvt",
        "colab_type": "text"
      },
      "source": [
        "82 roles were available for actors in the 1950s"
      ]
    },
    {
      "cell_type": "markdown",
      "metadata": {
        "collapsed": true,
        "id": "cMAOT2-SM0h6",
        "colab_type": "text"
      },
      "source": [
        "### How many roles were available for actresses in the 1950s?"
      ]
    },
    {
      "cell_type": "code",
      "metadata": {
        "id": "LmwcI5CnM0h7",
        "colab_type": "code",
        "colab": {}
      },
      "source": [
        "actress1950s = casts[(casts['year']>=1940) & (casts['year']<1950) & (casts['type']=='actress')]"
      ],
      "execution_count": 53,
      "outputs": []
    },
    {
      "cell_type": "code",
      "metadata": {
        "id": "MR0flEwjM0iC",
        "colab_type": "code",
        "colab": {
          "base_uri": "https://localhost:8080/",
          "height": 34
        },
        "outputId": "546fad05-545c-4e99-cc1c-a0b7f83ec0e8"
      },
      "source": [
        "len(actress1950s.n.dropna().unique())"
      ],
      "execution_count": 54,
      "outputs": [
        {
          "output_type": "execute_result",
          "data": {
            "text/plain": [
              "76"
            ]
          },
          "metadata": {
            "tags": []
          },
          "execution_count": 54
        }
      ]
    },
    {
      "cell_type": "markdown",
      "metadata": {
        "id": "vO2I8NPKbPSo",
        "colab_type": "text"
      },
      "source": [
        "76 roles were available for actresses in the 1950s"
      ]
    },
    {
      "cell_type": "markdown",
      "metadata": {
        "collapsed": true,
        "id": "_qFfIsY2M0iR",
        "colab_type": "text"
      },
      "source": [
        "### How many leading roles (n=1) were available from the beginning of film history through 1980?"
      ]
    },
    {
      "cell_type": "code",
      "metadata": {
        "id": "2bDUm3d7M0iT",
        "colab_type": "code",
        "colab": {
          "base_uri": "https://localhost:8080/",
          "height": 34
        },
        "outputId": "02c6dff4-1f6a-4212-bffb-0c646a938c3e"
      },
      "source": [
        "len(casts[(casts['n']==1) & (casts['year']<1980)])"
      ],
      "execution_count": 56,
      "outputs": [
        {
          "output_type": "execute_result",
          "data": {
            "text/plain": [
              "63957"
            ]
          },
          "metadata": {
            "tags": []
          },
          "execution_count": 56
        }
      ]
    },
    {
      "cell_type": "markdown",
      "metadata": {
        "id": "Aii88mpbb9T6",
        "colab_type": "text"
      },
      "source": [
        "63957 leading roles (n=1) were available from the beginning of film history through 1980"
      ]
    },
    {
      "cell_type": "markdown",
      "metadata": {
        "collapsed": true,
        "id": "8UWNV7frM0if",
        "colab_type": "text"
      },
      "source": [
        "### How many non-leading roles were available through from the beginning of film history through 1980?"
      ]
    },
    {
      "cell_type": "code",
      "metadata": {
        "id": "zstFy8kWM0ih",
        "colab_type": "code",
        "colab": {
          "base_uri": "https://localhost:8080/",
          "height": 34
        },
        "outputId": "20457d54-ba67-45a4-acc9-6289789812ab"
      },
      "source": [
        "len(casts[(casts['n']!=1) & (casts['year']<1980)])"
      ],
      "execution_count": 57,
      "outputs": [
        {
          "output_type": "execute_result",
          "data": {
            "text/plain": [
              "1095378"
            ]
          },
          "metadata": {
            "tags": []
          },
          "execution_count": 57
        }
      ]
    },
    {
      "cell_type": "markdown",
      "metadata": {
        "id": "mOYWXjQZcIEl",
        "colab_type": "text"
      },
      "source": [
        "1095378 non-leading roles were available through from the beginning of film history through 1980?"
      ]
    },
    {
      "cell_type": "markdown",
      "metadata": {
        "collapsed": true,
        "id": "7KYXpUlTM0is",
        "colab_type": "text"
      },
      "source": [
        "### How many roles through 1980 were minor enough that they did not warrant a numeric \"n\" rank?"
      ]
    },
    {
      "cell_type": "code",
      "metadata": {
        "id": "WIgWwKg2M0it",
        "colab_type": "code",
        "colab": {}
      },
      "source": [
        "df1 = casts[(casts['year']<1980)]"
      ],
      "execution_count": 58,
      "outputs": []
    },
    {
      "cell_type": "code",
      "metadata": {
        "id": "huvhRYF1M0i1",
        "colab_type": "code",
        "colab": {
          "base_uri": "https://localhost:8080/",
          "height": 34
        },
        "outputId": "122208d4-2ea9-4ef0-d66b-1fe5e2552657"
      },
      "source": [
        "df1['n'].isna().sum()"
      ],
      "execution_count": 59,
      "outputs": [
        {
          "output_type": "execute_result",
          "data": {
            "text/plain": [
              "443881"
            ]
          },
          "metadata": {
            "tags": []
          },
          "execution_count": 59
        }
      ]
    },
    {
      "cell_type": "markdown",
      "metadata": {
        "id": "oZt9IFsbc5ZL",
        "colab_type": "text"
      },
      "source": [
        "443881 roles through 1980 were minor enough that they did not warrant a numeric \"n\" rank"
      ]
    }
  ]
}