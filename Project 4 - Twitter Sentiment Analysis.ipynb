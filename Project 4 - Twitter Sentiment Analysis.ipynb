{
 "cells": [
  {
   "cell_type": "markdown",
   "metadata": {},
   "source": [
    "# Twitter Sentiment Analysis"
   ]
  },
  {
   "cell_type": "markdown",
   "metadata": {},
   "source": [
    "# Project Background"
   ]
  },
  {
   "cell_type": "markdown",
   "metadata": {},
   "source": [
    "We will collect text data of Tweets on certain topics using Twitter API (Tweepy library) and analyse their polarity and subjectivity using Textblob library."
   ]
  },
  {
   "cell_type": "code",
   "execution_count": 1,
   "metadata": {},
   "outputs": [],
   "source": [
    "import numpy as np\n",
    "import pandas as pd\n",
    "import tweepy\n",
    "import json\n",
    "from tweepy import OAuthHandler"
   ]
  },
  {
   "cell_type": "code",
   "execution_count": 2,
   "metadata": {},
   "outputs": [],
   "source": [
    "consumer_key = \"LzsCOl12ZZ79FObx7BV9a1R3a\"\n",
    "consumer_secret = \"gODxZ1kHJHDGgYfyP12AUN37UTlDd6yn3OsSV9Tl0iwu0K0cRY\"\n",
    "access_token = \"296102538-kYIK8SULCmRK4vgvYD2DhKbwvSXrgTdTkWh0Nvsp\"\n",
    "access_token_secret = \"Ib9obwgcE5tZk4S6tY5rAqI5iXOeJc9FGFg28qHoa4YpP\""
   ]
  },
  {
   "cell_type": "code",
   "execution_count": 3,
   "metadata": {},
   "outputs": [],
   "source": [
    "auth = tweepy.OAuthHandler(consumer_key, consumer_secret)\n",
    "auth.set_access_token(access_token, access_token_secret)\n",
    "api = tweepy.API(auth)"
   ]
  },
  {
   "cell_type": "markdown",
   "metadata": {},
   "source": [
    "## Scraping Tweets"
   ]
  },
  {
   "cell_type": "code",
   "execution_count": 4,
   "metadata": {},
   "outputs": [],
   "source": [
    "df = pd.DataFrame(columns = ['Tweets', 'User', 'User_Statuses_Count', 'User_Followers', 'Location', 'Verified', \n",
    "                             'Fav_Count', 'Rt_Count', 'Tweet_Date'])"
   ]
  },
  {
   "cell_type": "code",
   "execution_count": 5,
   "metadata": {},
   "outputs": [],
   "source": [
    "def stream(data, file_name):\n",
    "    i = 0\n",
    "    for tweet in tweepy.Cursor(api.search, q=data, count=100, lang='en').items():\n",
    "        print(i, end='\\r')\n",
    "        df.loc[i, 'Tweets'] = tweet.text\n",
    "        df.loc[i, 'User'] = tweet.user.name\n",
    "        df.loc[i, 'User_Statuses_Count'] = tweet.user.statuses_count\n",
    "        df.loc[i, 'User_Followers'] = tweet.user.followers_count\n",
    "        df.loc[i, 'Location'] = tweet.user.location\n",
    "        df.loc[i, 'Verified'] = tweet.user.verified\n",
    "        df.loc[i, 'Fav_Count'] = tweet.favorite_count\n",
    "        df.loc[i, 'Rt_Count'] = tweet.retweet_count\n",
    "        df.loc[i, 'Tweet_Date'] = tweet.created_at\n",
    "        df.to_excel('{}.xlsx'.format(file_name))\n",
    "        i+=1\n",
    "        if i == 1000:\n",
    "            break\n",
    "        else:\n",
    "            pass"
   ]
  },
  {
   "cell_type": "code",
   "execution_count": 6,
   "metadata": {},
   "outputs": [
    {
     "name": "stdout",
     "output_type": "stream",
     "text": [
      "999\r"
     ]
    }
   ],
   "source": [
    "stream(data=[\"Donald Trump\"] , file_name='Trump')"
   ]
  },
  {
   "cell_type": "code",
   "execution_count": 7,
   "metadata": {},
   "outputs": [
    {
     "data": {
      "text/html": [
       "<div>\n",
       "<style scoped>\n",
       "    .dataframe tbody tr th:only-of-type {\n",
       "        vertical-align: middle;\n",
       "    }\n",
       "\n",
       "    .dataframe tbody tr th {\n",
       "        vertical-align: top;\n",
       "    }\n",
       "\n",
       "    .dataframe thead th {\n",
       "        text-align: right;\n",
       "    }\n",
       "</style>\n",
       "<table border=\"1\" class=\"dataframe\">\n",
       "  <thead>\n",
       "    <tr style=\"text-align: right;\">\n",
       "      <th></th>\n",
       "      <th>Tweets</th>\n",
       "      <th>User</th>\n",
       "      <th>User_Statuses_Count</th>\n",
       "      <th>User_Followers</th>\n",
       "      <th>Location</th>\n",
       "      <th>Verified</th>\n",
       "      <th>Fav_Count</th>\n",
       "      <th>Rt_Count</th>\n",
       "      <th>Tweet_Date</th>\n",
       "    </tr>\n",
       "  </thead>\n",
       "  <tbody>\n",
       "    <tr>\n",
       "      <th>0</th>\n",
       "      <td>RT @BBC_Culture: It has become a definitive wo...</td>\n",
       "      <td>Ernst Ekdahl</td>\n",
       "      <td>4019</td>\n",
       "      <td>12</td>\n",
       "      <td></td>\n",
       "      <td>False</td>\n",
       "      <td>0</td>\n",
       "      <td>2</td>\n",
       "      <td>2020-10-30 06:52:20</td>\n",
       "    </tr>\n",
       "    <tr>\n",
       "      <th>1</th>\n",
       "      <td>RT @JoeBiden: GDP rose last quarter, but visit...</td>\n",
       "      <td>Coach Mo</td>\n",
       "      <td>14546</td>\n",
       "      <td>122</td>\n",
       "      <td></td>\n",
       "      <td>False</td>\n",
       "      <td>0</td>\n",
       "      <td>10807</td>\n",
       "      <td>2020-10-30 06:52:20</td>\n",
       "    </tr>\n",
       "    <tr>\n",
       "      <th>2</th>\n",
       "      <td>RT @PalmerReport: It's 2:30am and Donald Trump...</td>\n",
       "      <td>Rob P. #LiberateAmericavoteBidenvoteDem</td>\n",
       "      <td>405344</td>\n",
       "      <td>3532</td>\n",
       "      <td>California</td>\n",
       "      <td>False</td>\n",
       "      <td>0</td>\n",
       "      <td>20</td>\n",
       "      <td>2020-10-30 06:52:20</td>\n",
       "    </tr>\n",
       "    <tr>\n",
       "      <th>3</th>\n",
       "      <td>@LilTunechi @realDonaldTrump @POTUS &amp;amp; WILL...</td>\n",
       "      <td>Michelle Renee Semak</td>\n",
       "      <td>11352</td>\n",
       "      <td>328</td>\n",
       "      <td>Elkhart, Indiana</td>\n",
       "      <td>False</td>\n",
       "      <td>0</td>\n",
       "      <td>0</td>\n",
       "      <td>2020-10-30 06:52:19</td>\n",
       "    </tr>\n",
       "    <tr>\n",
       "      <th>4</th>\n",
       "      <td>RT @MeidasTouch: We need 3,000 retweets on thi...</td>\n",
       "      <td>Sean Bernardi</td>\n",
       "      <td>1434</td>\n",
       "      <td>27</td>\n",
       "      <td>New York City</td>\n",
       "      <td>False</td>\n",
       "      <td>0</td>\n",
       "      <td>5249</td>\n",
       "      <td>2020-10-30 06:52:19</td>\n",
       "    </tr>\n",
       "  </tbody>\n",
       "</table>\n",
       "</div>"
      ],
      "text/plain": [
       "                                              Tweets  \\\n",
       "0  RT @BBC_Culture: It has become a definitive wo...   \n",
       "1  RT @JoeBiden: GDP rose last quarter, but visit...   \n",
       "2  RT @PalmerReport: It's 2:30am and Donald Trump...   \n",
       "3  @LilTunechi @realDonaldTrump @POTUS &amp; WILL...   \n",
       "4  RT @MeidasTouch: We need 3,000 retweets on thi...   \n",
       "\n",
       "                                      User User_Statuses_Count User_Followers  \\\n",
       "0                             Ernst Ekdahl                4019             12   \n",
       "1                                 Coach Mo               14546            122   \n",
       "2  Rob P. #LiberateAmericavoteBidenvoteDem              405344           3532   \n",
       "3                     Michelle Renee Semak               11352            328   \n",
       "4                            Sean Bernardi                1434             27   \n",
       "\n",
       "           Location Verified Fav_Count Rt_Count           Tweet_Date  \n",
       "0                      False         0        2  2020-10-30 06:52:20  \n",
       "1                      False         0    10807  2020-10-30 06:52:20  \n",
       "2        California    False         0       20  2020-10-30 06:52:20  \n",
       "3  Elkhart, Indiana    False         0        0  2020-10-30 06:52:19  \n",
       "4     New York City    False         0     5249  2020-10-30 06:52:19  "
      ]
     },
     "execution_count": 7,
     "metadata": {},
     "output_type": "execute_result"
    }
   ],
   "source": [
    "df.head()"
   ]
  },
  {
   "cell_type": "markdown",
   "metadata": {},
   "source": [
    "## Analysing Tweets"
   ]
  },
  {
   "cell_type": "markdown",
   "metadata": {},
   "source": [
    "### To clean the tweets from extra characters"
   ]
  },
  {
   "cell_type": "code",
   "execution_count": 8,
   "metadata": {},
   "outputs": [],
   "source": [
    "import re\n",
    "def clean_tweet(tweet):\n",
    "    return ' '.join(re.sub('(RT)|(@[A-Za-z0-9]+)|([^0-9A-Za-z \\t])|(\\w+:\\/\\/\\S+)', ' ', tweet).split())\n",
    "\n",
    "df['Clean_Tweet'] = df['Tweets'].apply(lambda x : clean_tweet(x))"
   ]
  },
  {
   "cell_type": "markdown",
   "metadata": {},
   "source": [
    "### To extract the sentiment of each tweet"
   ]
  },
  {
   "cell_type": "code",
   "execution_count": 9,
   "metadata": {},
   "outputs": [],
   "source": [
    "from textblob import TextBlob\n",
    "def analyze_sentiment(tweet):\n",
    "    analysis = TextBlob(tweet)\n",
    "    if analysis.sentiment.polarity > 0:\n",
    "        return 'Positive'\n",
    "    elif analysis.sentiment.polarity == 0:\n",
    "        return 'Neutral'\n",
    "    else:\n",
    "        return 'Negative'\n",
    "    \n",
    "df['Sentiment'] = df['Clean_Tweet'].apply(lambda x: analyze_sentiment(x))"
   ]
  },
  {
   "cell_type": "code",
   "execution_count": 10,
   "metadata": {},
   "outputs": [
    {
     "name": "stdout",
     "output_type": "stream",
     "text": [
      "Original tweet:\n",
      " RT @JoeBiden: GDP rose last quarter, but visits to food banks haven’t slowed, and poverty has grown. We’re on track for the worst economic… \n",
      "\n",
      "Clean tweet:\n",
      " GDP rose last quarter but visits to food banks haven t slowed and poverty has grown We re on track for the worst economic \n",
      "\n",
      "Sentiment of the tweet:\n",
      " Negative\n"
     ]
    }
   ],
   "source": [
    "n = 1\n",
    "print(\"Original tweet:\\n\",df['Tweets'][n],'\\n')\n",
    "print(\"Clean tweet:\\n\",df['Clean_Tweet'][n],'\\n')\n",
    "print(\"Sentiment of the tweet:\\n\",df['Sentiment'][n])"
   ]
  },
  {
   "cell_type": "code",
   "execution_count": 11,
   "metadata": {},
   "outputs": [
    {
     "name": "stdout",
     "output_type": "stream",
     "text": [
      "Original tweet:\n",
      " RT @SaraGideon: Senator Collins was asked *three times* last night if she supports Donald Trump's reelection, and she refused to answer eac… \n",
      "\n",
      "Clean tweet:\n",
      " Senator Collins was asked three times last night if she supports Donald Trump s reelection and she refused to answer eac \n",
      "\n",
      "Sentiment of the tweet:\n",
      " Neutral\n"
     ]
    }
   ],
   "source": [
    "n = 20\n",
    "print(\"Original tweet:\\n\",df['Tweets'][n],'\\n')\n",
    "print(\"Clean tweet:\\n\",df['Clean_Tweet'][n],'\\n')\n",
    "print(\"Sentiment of the tweet:\\n\",df['Sentiment'][n])"
   ]
  },
  {
   "cell_type": "code",
   "execution_count": 12,
   "metadata": {},
   "outputs": [
    {
     "name": "stdout",
     "output_type": "stream",
     "text": [
      "Original tweet:\n",
      " RT @realDonaldTrump: Pollak: 11 Shining Successes of President Donald Trump‘s First Term https://t.co/VW5w4YtBQ5 via @BreitbartNews \n",
      "\n",
      "Clean tweet:\n",
      " Pollak 11 Shining Successes of President Donald Trump s First Term via \n",
      "\n",
      "Sentiment of the tweet:\n",
      " Positive\n"
     ]
    }
   ],
   "source": [
    "n = 12\n",
    "print(\"Original tweet:\\n\",df['Tweets'][n],'\\n')\n",
    "print(\"Clean tweet:\\n\",df['Clean_Tweet'][n],'\\n')\n",
    "print(\"Sentiment of the tweet:\\n\",df['Sentiment'][n])"
   ]
  },
  {
   "cell_type": "code",
   "execution_count": 13,
   "metadata": {},
   "outputs": [
    {
     "data": {
      "text/plain": [
       "321"
      ]
     },
     "execution_count": 13,
     "metadata": {},
     "output_type": "execute_result"
    }
   ],
   "source": [
    "df[df.Sentiment == 'Positive'].shape[0]"
   ]
  },
  {
   "cell_type": "code",
   "execution_count": 14,
   "metadata": {},
   "outputs": [
    {
     "data": {
      "text/plain": [
       "367"
      ]
     },
     "execution_count": 14,
     "metadata": {},
     "output_type": "execute_result"
    }
   ],
   "source": [
    "df[df.Sentiment == 'Neutral'].shape[0]"
   ]
  },
  {
   "cell_type": "code",
   "execution_count": 15,
   "metadata": {},
   "outputs": [
    {
     "data": {
      "text/plain": [
       "312"
      ]
     },
     "execution_count": 15,
     "metadata": {},
     "output_type": "execute_result"
    }
   ],
   "source": [
    "df[df.Sentiment == 'Negative'].shape[0]"
   ]
  },
  {
   "cell_type": "code",
   "execution_count": null,
   "metadata": {},
   "outputs": [],
   "source": []
  }
 ],
 "metadata": {
  "kernelspec": {
   "display_name": "Python 3",
   "language": "python",
   "name": "python3"
  },
  "language_info": {
   "codemirror_mode": {
    "name": "ipython",
    "version": 3
   },
   "file_extension": ".py",
   "mimetype": "text/x-python",
   "name": "python",
   "nbconvert_exporter": "python",
   "pygments_lexer": "ipython3",
   "version": "3.8.3"
  }
 },
 "nbformat": 4,
 "nbformat_minor": 4
}
