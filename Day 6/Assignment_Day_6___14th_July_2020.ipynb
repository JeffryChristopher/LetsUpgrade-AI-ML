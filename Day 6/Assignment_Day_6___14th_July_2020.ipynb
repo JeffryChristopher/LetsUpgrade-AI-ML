{
  "nbformat": 4,
  "nbformat_minor": 0,
  "metadata": {
    "colab": {
      "name": "Assignment Day 6 | 14th July 2020.ipynb",
      "provenance": [],
      "collapsed_sections": []
    },
    "kernelspec": {
      "name": "python3",
      "display_name": "Python 3"
    }
  },
  "cells": [
    {
      "cell_type": "markdown",
      "metadata": {
        "id": "cwIef6xgH6BR",
        "colab_type": "text"
      },
      "source": [
        "### Question 1\n",
        "Assuming that we have some email addresses in the \"username@companyname.com\" format, please write program\n",
        "to print the company name of a given email address. Both user names and company names are composed of letters\n",
        "only.\n"
      ]
    },
    {
      "cell_type": "code",
      "metadata": {
        "id": "Zicn4q5dGKB-",
        "colab_type": "code",
        "colab": {
          "base_uri": "https://localhost:8080/",
          "height": 34
        },
        "outputId": "6c7cdb56-1c09-4c28-f189-cadcc3dad7c0"
      },
      "source": [
        "email = 'john@google.com'\n",
        "print (email.split('@')[1].split('.')[0]) \n",
        "\n",
        "\"\"\"First we split at the '@' and then, \n",
        "using the 2nd element, we split again at the '.'. \n",
        "The company's name will be in the 1st element after the split. "
      ],
      "execution_count": null,
      "outputs": [
        {
          "output_type": "stream",
          "text": [
            "google\n"
          ],
          "name": "stdout"
        }
      ]
    },
    {
      "cell_type": "markdown",
      "metadata": {
        "id": "wvd2hCDKIf5R",
        "colab_type": "text"
      },
      "source": [
        "### Question 2 \n",
        "\n",
        "Write a program that accepts a comma-separated sequence of words as input and prints the words in a comma\n",
        "separated sequence after sorting them alphabetically"
      ]
    },
    {
      "cell_type": "code",
      "metadata": {
        "id": "3DKgQEb9HTKQ",
        "colab_type": "code",
        "colab": {
          "base_uri": "https://localhost:8080/",
          "height": 34
        },
        "outputId": "29dfc6b1-59c8-4a57-8c7b-669efd984e4c"
      },
      "source": [
        "inputs = 'without,hello,bag,world'\n",
        "splited = inputs.split(',')\n",
        "sort =  (sorted(splited))\n",
        "print(','.join(sort))"
      ],
      "execution_count": null,
      "outputs": [
        {
          "output_type": "stream",
          "text": [
            "bag,hello,without,world\n"
          ],
          "name": "stdout"
        }
      ]
    },
    {
      "cell_type": "markdown",
      "metadata": {
        "id": "-QeLXMEsKWQn",
        "colab_type": "text"
      },
      "source": [
        "### Question 3:\n",
        "Create your own Jupyter Notebook for Sets"
      ]
    },
    {
      "cell_type": "markdown",
      "metadata": {
        "id": "mqdc29cE1yQx",
        "colab_type": "text"
      },
      "source": [
        "A set is an unordered collection of unique and immutable items. \n",
        "We can add or remove items from it, thus a set is mutable. "
      ]
    },
    {
      "cell_type": "markdown",
      "metadata": {
        "id": "6uzI3ihn2ldL",
        "colab_type": "text"
      },
      "source": [
        "You can initialize a set by placing the items inside curly braces or by using the built-in set() function."
      ]
    },
    {
      "cell_type": "code",
      "metadata": {
        "id": "VTtLkuya1xL5",
        "colab_type": "code",
        "colab": {
          "base_uri": "https://localhost:8080/",
          "height": 51
        },
        "outputId": "9643ab7e-19cd-494f-f58f-ce8565a3ee60"
      },
      "source": [
        "a = {1,2,3,4,5}\n",
        "print(type(a)) #execute to see the type of data\n",
        "\n",
        "b = set()\n",
        "print (type(b))"
      ],
      "execution_count": 46,
      "outputs": [
        {
          "output_type": "stream",
          "text": [
            "<class 'set'>\n",
            "<class 'set'>\n"
          ],
          "name": "stdout"
        }
      ]
    },
    {
      "cell_type": "markdown",
      "metadata": {
        "id": "LBpMtg7D3IPR",
        "colab_type": "text"
      },
      "source": [
        "As stated in the beginning, the elements of a set cannot be a mutable object. Thus, it cannot be a list, sets or dictionaries. \n",
        "\n",
        "Integers, floats, strings and tuple are allowed."
      ]
    },
    {
      "cell_type": "code",
      "metadata": {
        "id": "Nvx1GT-p3gtQ",
        "colab_type": "code",
        "colab": {}
      },
      "source": [
        "set_allowed = {1, 3.45, 'Jeff', ('This','is','a','tuple')}\n",
        "\n",
        "set_not_allowed = {['This','is','list'],{'This','is','sets'},{1:'This',2:'is',3:'distionary'}} \n",
        "\n",
        "#execute and see that an error will be thrown for set_not_allowed"
      ],
      "execution_count": 25,
      "outputs": []
    },
    {
      "cell_type": "markdown",
      "metadata": {
        "id": "fwOb39Q34n8o",
        "colab_type": "text"
      },
      "source": [
        "Sets are mutable. \n",
        "But, they are unordered and so, indexing has no meaning. Thus, let's forget about accessing an element in sets using bracket index or slicing.\n",
        "\n",
        "To add a single element into a set, use add() method.\n",
        "To do the same for multiple elements, use update() method.\n",
        "\n",
        "Note that duplicate elements will be avoided in a sets."
      ]
    },
    {
      "cell_type": "code",
      "metadata": {
        "id": "rTaIy_mV5S0W",
        "colab_type": "code",
        "colab": {
          "base_uri": "https://localhost:8080/",
          "height": 85
        },
        "outputId": "55de9868-6e52-43ff-a286-81ee376da355"
      },
      "source": [
        "set_a = {1, 4}\n",
        "print(set_a)\n",
        "\n",
        "set_a.add(2)\n",
        "print(set_a)\n",
        "\n",
        "set_a.update([2, 3, 6])\n",
        "print(set_a)\n",
        "\n",
        "set_a.update([4, 7], {1, 6, 10})\n",
        "print(set_a)"
      ],
      "execution_count": 34,
      "outputs": [
        {
          "output_type": "stream",
          "text": [
            "{1, 4}\n",
            "{1, 2, 4}\n",
            "{1, 2, 3, 4, 6}\n",
            "{1, 2, 3, 4, 6, 7, 10}\n"
          ],
          "name": "stdout"
        }
      ]
    },
    {
      "cell_type": "markdown",
      "metadata": {
        "id": "kR10v4136lhz",
        "colab_type": "text"
      },
      "source": [
        "To remove an element form the sets, use discard() or remove() method. "
      ]
    },
    {
      "cell_type": "code",
      "metadata": {
        "id": "sNtcZlRl6uhU",
        "colab_type": "code",
        "colab": {
          "base_uri": "https://localhost:8080/",
          "height": 68
        },
        "outputId": "c54753b3-b350-4a22-8686-c1979ad6e51c"
      },
      "source": [
        "print (set_a)\n",
        "\n",
        "set_a.discard(7)\n",
        "print (set_a)\n",
        "\n",
        "set_a.remove(2)\n",
        "print(set_a)\n"
      ],
      "execution_count": 35,
      "outputs": [
        {
          "output_type": "stream",
          "text": [
            "{1, 2, 3, 4, 6, 7, 10}\n",
            "{1, 2, 3, 4, 6, 10}\n",
            "{1, 3, 4, 6, 10}\n"
          ],
          "name": "stdout"
        }
      ]
    },
    {
      "cell_type": "markdown",
      "metadata": {
        "id": "KlX6RT9I7El0",
        "colab_type": "text"
      },
      "source": [
        "To remove all items in a set, use clear() method."
      ]
    },
    {
      "cell_type": "code",
      "metadata": {
        "id": "zV43Shqb7Jqm",
        "colab_type": "code",
        "colab": {
          "base_uri": "https://localhost:8080/",
          "height": 34
        },
        "outputId": "680c59a4-4b28-488c-a5dd-f1f77bebfa60"
      },
      "source": [
        "set_a.clear()\n",
        "print(set_a)"
      ],
      "execution_count": 36,
      "outputs": [
        {
          "output_type": "stream",
          "text": [
            "set()\n"
          ],
          "name": "stdout"
        }
      ]
    },
    {
      "cell_type": "markdown",
      "metadata": {
        "id": "qeLVYe1xKk0h",
        "colab_type": "text"
      },
      "source": [
        "### Question 4:\n",
        "Given a list of n-1 numbers ranging from 1 to n, your task is to find the missing number. There are no duplicates."
      ]
    },
    {
      "cell_type": "code",
      "metadata": {
        "id": "RA1MfAdmIqt0",
        "colab_type": "code",
        "colab": {
          "base_uri": "https://localhost:8080/",
          "height": 34
        },
        "outputId": "52b5a61d-980e-4e37-d6e1-399c6a37f4d0"
      },
      "source": [
        "input = '1 2 4 6 3 7 8'\n",
        "splitted = input.split(' ')\n",
        "numbers = map(int,splitted)\n",
        "numbers_list = (sorted(list(numbers)))\n",
        "\n",
        "for num in numbers_list:\n",
        "  if (num+1) not in numbers_list:\n",
        "    print (num+1)\n",
        "    break"
      ],
      "execution_count": 11,
      "outputs": [
        {
          "output_type": "stream",
          "text": [
            "5\n"
          ],
          "name": "stdout"
        }
      ]
    },
    {
      "cell_type": "markdown",
      "metadata": {
        "id": "33G2yhM1q0VS",
        "colab_type": "text"
      },
      "source": [
        "### Question 5\n",
        "With a given list L, write a program to print this list L after removing all duplicate values with original order reserved."
      ]
    },
    {
      "cell_type": "code",
      "metadata": {
        "id": "l40CFXQ_K_fx",
        "colab_type": "code",
        "colab": {
          "base_uri": "https://localhost:8080/",
          "height": 34
        },
        "outputId": "a0d783fe-cf3a-441e-e71c-0722bd44025d"
      },
      "source": [
        "input = '12 24 35 24 88 120 155 88 120 155'\n",
        "splitted = input.split(' ')\n",
        "numbers = list(map(int,splitted))\n",
        "\n",
        "numbers = list(dict.fromkeys(numbers))\n",
        "splitted = list(map(str,numbers))\n",
        "\n",
        "input = ' '.join(splitted)\n",
        "print(input)\n"
      ],
      "execution_count": 43,
      "outputs": [
        {
          "output_type": "stream",
          "text": [
            "12 24 35 88 120 155\n"
          ],
          "name": "stdout"
        }
      ]
    }
  ]
}