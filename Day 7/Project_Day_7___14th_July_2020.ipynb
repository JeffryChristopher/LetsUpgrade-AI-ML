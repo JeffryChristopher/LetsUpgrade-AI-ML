{
  "nbformat": 4,
  "nbformat_minor": 0,
  "metadata": {
    "colab": {
      "name": "Project Day 7 | 14th July 2020.ipynb",
      "provenance": [],
      "collapsed_sections": []
    },
    "kernelspec": {
      "name": "python3",
      "display_name": "Python 3"
    }
  },
  "cells": [
    {
      "cell_type": "markdown",
      "metadata": {
        "id": "FgTulI4XV6ev",
        "colab_type": "text"
      },
      "source": [
        "### **Question 1:**\n",
        "Attach the dataset and mentioned problem statement below,\n",
        "\n",
        "● A sizable department has to be maintained, for the purposes of recruiting new talent\n",
        "\n",
        "● More often than not, the new employees have to be trained for the job and/or given time to\n",
        "acclimatize themselves to the company\n",
        "\n",
        "● Hence, the management has contracted an HR analytics firm to understand what factors they\n",
        "should focus on, in order to curb attrition.\n",
        "\n",
        "● In other words, they want to know what changes they should make to their workplace, in order to\n",
        "get most of their employees to stay.\n",
        "\n",
        "● Also, they want to know which of these variables is most important and needs to be addressed\n",
        "right away.\n"
      ]
    },
    {
      "cell_type": "code",
      "metadata": {
        "id": "LKchza-yUFqf",
        "colab_type": "code",
        "colab": {
          "base_uri": "https://localhost:8080/",
          "height": 51
        },
        "outputId": "abd47a04-0f68-4476-f42c-d054e33709a2"
      },
      "source": [
        "import pandas as pd\n",
        "import numpy as np\n",
        "import matplotlib.pyplot as plt\n",
        "import seaborn as sns"
      ],
      "execution_count": 1,
      "outputs": [
        {
          "output_type": "stream",
          "text": [
            "/usr/local/lib/python3.6/dist-packages/statsmodels/tools/_testing.py:19: FutureWarning: pandas.util.testing is deprecated. Use the functions in the public API at pandas.testing instead.\n",
            "  import pandas.util.testing as tm\n"
          ],
          "name": "stderr"
        }
      ]
    },
    {
      "cell_type": "code",
      "metadata": {
        "id": "c_2guPP_TxAd",
        "colab_type": "code",
        "colab": {
          "resources": {
            "http://localhost:8080/nbextensions/google.colab/files.js": {
              "data": "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",
              "ok": true,
              "headers": [
                [
                  "content-type",
                  "application/javascript"
                ]
              ],
              "status": 200,
              "status_text": ""
            }
          },
          "base_uri": "https://localhost:8080/",
          "height": 72
        },
        "outputId": "1dbabdc8-f5b5-4114-9634-7d40222760d1"
      },
      "source": [
        "from google.colab import files\n",
        "data_to_load = files.upload()"
      ],
      "execution_count": 2,
      "outputs": [
        {
          "output_type": "display_data",
          "data": {
            "text/html": [
              "\n",
              "     <input type=\"file\" id=\"files-59d4d306-85e7-44f9-97af-d3b472d4169a\" name=\"files[]\" multiple disabled\n",
              "        style=\"border:none\" />\n",
              "     <output id=\"result-59d4d306-85e7-44f9-97af-d3b472d4169a\">\n",
              "      Upload widget is only available when the cell has been executed in the\n",
              "      current browser session. Please rerun this cell to enable.\n",
              "      </output>\n",
              "      <script src=\"/nbextensions/google.colab/files.js\"></script> "
            ],
            "text/plain": [
              "<IPython.core.display.HTML object>"
            ]
          },
          "metadata": {
            "tags": []
          }
        },
        {
          "output_type": "stream",
          "text": [
            "Saving general_data.csv to general_data.csv\n"
          ],
          "name": "stdout"
        }
      ]
    },
    {
      "cell_type": "code",
      "metadata": {
        "id": "C1OEOdGxT6Qw",
        "colab_type": "code",
        "colab": {}
      },
      "source": [
        "import io\n",
        "df = pd.read_csv(io.BytesIO(data_to_load['general_data.csv']))"
      ],
      "execution_count": 3,
      "outputs": []
    },
    {
      "cell_type": "code",
      "metadata": {
        "id": "ZFOSyTr_ULSw",
        "colab_type": "code",
        "colab": {
          "base_uri": "https://localhost:8080/",
          "height": 309
        },
        "outputId": "24366c58-66c0-4457-97fc-9feea272e6e6"
      },
      "source": [
        "df.head()"
      ],
      "execution_count": 4,
      "outputs": [
        {
          "output_type": "execute_result",
          "data": {
            "text/html": [
              "<div>\n",
              "<style scoped>\n",
              "    .dataframe tbody tr th:only-of-type {\n",
              "        vertical-align: middle;\n",
              "    }\n",
              "\n",
              "    .dataframe tbody tr th {\n",
              "        vertical-align: top;\n",
              "    }\n",
              "\n",
              "    .dataframe thead th {\n",
              "        text-align: right;\n",
              "    }\n",
              "</style>\n",
              "<table border=\"1\" class=\"dataframe\">\n",
              "  <thead>\n",
              "    <tr style=\"text-align: right;\">\n",
              "      <th></th>\n",
              "      <th>Age</th>\n",
              "      <th>Attrition</th>\n",
              "      <th>BusinessTravel</th>\n",
              "      <th>Department</th>\n",
              "      <th>DistanceFromHome</th>\n",
              "      <th>Education</th>\n",
              "      <th>EducationField</th>\n",
              "      <th>EmployeeCount</th>\n",
              "      <th>EmployeeID</th>\n",
              "      <th>Gender</th>\n",
              "      <th>JobLevel</th>\n",
              "      <th>JobRole</th>\n",
              "      <th>MaritalStatus</th>\n",
              "      <th>MonthlyIncome</th>\n",
              "      <th>NumCompaniesWorked</th>\n",
              "      <th>Over18</th>\n",
              "      <th>PercentSalaryHike</th>\n",
              "      <th>StandardHours</th>\n",
              "      <th>StockOptionLevel</th>\n",
              "      <th>TotalWorkingYears</th>\n",
              "      <th>TrainingTimesLastYear</th>\n",
              "      <th>YearsAtCompany</th>\n",
              "      <th>YearsSinceLastPromotion</th>\n",
              "      <th>YearsWithCurrManager</th>\n",
              "    </tr>\n",
              "  </thead>\n",
              "  <tbody>\n",
              "    <tr>\n",
              "      <th>0</th>\n",
              "      <td>51</td>\n",
              "      <td>No</td>\n",
              "      <td>Travel_Rarely</td>\n",
              "      <td>Sales</td>\n",
              "      <td>6</td>\n",
              "      <td>2</td>\n",
              "      <td>Life Sciences</td>\n",
              "      <td>1</td>\n",
              "      <td>1</td>\n",
              "      <td>Female</td>\n",
              "      <td>1</td>\n",
              "      <td>Healthcare Representative</td>\n",
              "      <td>Married</td>\n",
              "      <td>131160</td>\n",
              "      <td>1.0</td>\n",
              "      <td>Y</td>\n",
              "      <td>11</td>\n",
              "      <td>8</td>\n",
              "      <td>0</td>\n",
              "      <td>1.0</td>\n",
              "      <td>6</td>\n",
              "      <td>1</td>\n",
              "      <td>0</td>\n",
              "      <td>0</td>\n",
              "    </tr>\n",
              "    <tr>\n",
              "      <th>1</th>\n",
              "      <td>31</td>\n",
              "      <td>Yes</td>\n",
              "      <td>Travel_Frequently</td>\n",
              "      <td>Research &amp; Development</td>\n",
              "      <td>10</td>\n",
              "      <td>1</td>\n",
              "      <td>Life Sciences</td>\n",
              "      <td>1</td>\n",
              "      <td>2</td>\n",
              "      <td>Female</td>\n",
              "      <td>1</td>\n",
              "      <td>Research Scientist</td>\n",
              "      <td>Single</td>\n",
              "      <td>41890</td>\n",
              "      <td>0.0</td>\n",
              "      <td>Y</td>\n",
              "      <td>23</td>\n",
              "      <td>8</td>\n",
              "      <td>1</td>\n",
              "      <td>6.0</td>\n",
              "      <td>3</td>\n",
              "      <td>5</td>\n",
              "      <td>1</td>\n",
              "      <td>4</td>\n",
              "    </tr>\n",
              "    <tr>\n",
              "      <th>2</th>\n",
              "      <td>32</td>\n",
              "      <td>No</td>\n",
              "      <td>Travel_Frequently</td>\n",
              "      <td>Research &amp; Development</td>\n",
              "      <td>17</td>\n",
              "      <td>4</td>\n",
              "      <td>Other</td>\n",
              "      <td>1</td>\n",
              "      <td>3</td>\n",
              "      <td>Male</td>\n",
              "      <td>4</td>\n",
              "      <td>Sales Executive</td>\n",
              "      <td>Married</td>\n",
              "      <td>193280</td>\n",
              "      <td>1.0</td>\n",
              "      <td>Y</td>\n",
              "      <td>15</td>\n",
              "      <td>8</td>\n",
              "      <td>3</td>\n",
              "      <td>5.0</td>\n",
              "      <td>2</td>\n",
              "      <td>5</td>\n",
              "      <td>0</td>\n",
              "      <td>3</td>\n",
              "    </tr>\n",
              "    <tr>\n",
              "      <th>3</th>\n",
              "      <td>38</td>\n",
              "      <td>No</td>\n",
              "      <td>Non-Travel</td>\n",
              "      <td>Research &amp; Development</td>\n",
              "      <td>2</td>\n",
              "      <td>5</td>\n",
              "      <td>Life Sciences</td>\n",
              "      <td>1</td>\n",
              "      <td>4</td>\n",
              "      <td>Male</td>\n",
              "      <td>3</td>\n",
              "      <td>Human Resources</td>\n",
              "      <td>Married</td>\n",
              "      <td>83210</td>\n",
              "      <td>3.0</td>\n",
              "      <td>Y</td>\n",
              "      <td>11</td>\n",
              "      <td>8</td>\n",
              "      <td>3</td>\n",
              "      <td>13.0</td>\n",
              "      <td>5</td>\n",
              "      <td>8</td>\n",
              "      <td>7</td>\n",
              "      <td>5</td>\n",
              "    </tr>\n",
              "    <tr>\n",
              "      <th>4</th>\n",
              "      <td>32</td>\n",
              "      <td>No</td>\n",
              "      <td>Travel_Rarely</td>\n",
              "      <td>Research &amp; Development</td>\n",
              "      <td>10</td>\n",
              "      <td>1</td>\n",
              "      <td>Medical</td>\n",
              "      <td>1</td>\n",
              "      <td>5</td>\n",
              "      <td>Male</td>\n",
              "      <td>1</td>\n",
              "      <td>Sales Executive</td>\n",
              "      <td>Single</td>\n",
              "      <td>23420</td>\n",
              "      <td>4.0</td>\n",
              "      <td>Y</td>\n",
              "      <td>12</td>\n",
              "      <td>8</td>\n",
              "      <td>2</td>\n",
              "      <td>9.0</td>\n",
              "      <td>2</td>\n",
              "      <td>6</td>\n",
              "      <td>0</td>\n",
              "      <td>4</td>\n",
              "    </tr>\n",
              "  </tbody>\n",
              "</table>\n",
              "</div>"
            ],
            "text/plain": [
              "   Age Attrition  ... YearsSinceLastPromotion YearsWithCurrManager\n",
              "0   51        No  ...                       0                    0\n",
              "1   31       Yes  ...                       1                    4\n",
              "2   32        No  ...                       0                    3\n",
              "3   38        No  ...                       7                    5\n",
              "4   32        No  ...                       0                    4\n",
              "\n",
              "[5 rows x 24 columns]"
            ]
          },
          "metadata": {
            "tags": []
          },
          "execution_count": 4
        }
      ]
    },
    {
      "cell_type": "code",
      "metadata": {
        "id": "I24KTL-kWUv1",
        "colab_type": "code",
        "colab": {
          "base_uri": "https://localhost:8080/",
          "height": 136
        },
        "outputId": "a0e3eaf8-f950-444e-9679-301438a2b3fc"
      },
      "source": [
        "df.columns"
      ],
      "execution_count": 5,
      "outputs": [
        {
          "output_type": "execute_result",
          "data": {
            "text/plain": [
              "Index(['Age', 'Attrition', 'BusinessTravel', 'Department', 'DistanceFromHome',\n",
              "       'Education', 'EducationField', 'EmployeeCount', 'EmployeeID', 'Gender',\n",
              "       'JobLevel', 'JobRole', 'MaritalStatus', 'MonthlyIncome',\n",
              "       'NumCompaniesWorked', 'Over18', 'PercentSalaryHike', 'StandardHours',\n",
              "       'StockOptionLevel', 'TotalWorkingYears', 'TrainingTimesLastYear',\n",
              "       'YearsAtCompany', 'YearsSinceLastPromotion', 'YearsWithCurrManager'],\n",
              "      dtype='object')"
            ]
          },
          "metadata": {
            "tags": []
          },
          "execution_count": 5
        }
      ]
    },
    {
      "cell_type": "markdown",
      "metadata": {
        "id": "FCrJiP-VWc6k",
        "colab_type": "text"
      },
      "source": [
        "### **Data Exploration**"
      ]
    },
    {
      "cell_type": "code",
      "metadata": {
        "id": "TJ23jUQFX3Vc",
        "colab_type": "code",
        "colab": {
          "base_uri": "https://localhost:8080/",
          "height": 544
        },
        "outputId": "bf80d799-13ef-48e2-e41b-68b708d99b53"
      },
      "source": [
        "df.info()"
      ],
      "execution_count": 6,
      "outputs": [
        {
          "output_type": "stream",
          "text": [
            "<class 'pandas.core.frame.DataFrame'>\n",
            "RangeIndex: 4410 entries, 0 to 4409\n",
            "Data columns (total 24 columns):\n",
            " #   Column                   Non-Null Count  Dtype  \n",
            "---  ------                   --------------  -----  \n",
            " 0   Age                      4410 non-null   int64  \n",
            " 1   Attrition                4410 non-null   object \n",
            " 2   BusinessTravel           4410 non-null   object \n",
            " 3   Department               4410 non-null   object \n",
            " 4   DistanceFromHome         4410 non-null   int64  \n",
            " 5   Education                4410 non-null   int64  \n",
            " 6   EducationField           4410 non-null   object \n",
            " 7   EmployeeCount            4410 non-null   int64  \n",
            " 8   EmployeeID               4410 non-null   int64  \n",
            " 9   Gender                   4410 non-null   object \n",
            " 10  JobLevel                 4410 non-null   int64  \n",
            " 11  JobRole                  4410 non-null   object \n",
            " 12  MaritalStatus            4410 non-null   object \n",
            " 13  MonthlyIncome            4410 non-null   int64  \n",
            " 14  NumCompaniesWorked       4391 non-null   float64\n",
            " 15  Over18                   4410 non-null   object \n",
            " 16  PercentSalaryHike        4410 non-null   int64  \n",
            " 17  StandardHours            4410 non-null   int64  \n",
            " 18  StockOptionLevel         4410 non-null   int64  \n",
            " 19  TotalWorkingYears        4401 non-null   float64\n",
            " 20  TrainingTimesLastYear    4410 non-null   int64  \n",
            " 21  YearsAtCompany           4410 non-null   int64  \n",
            " 22  YearsSinceLastPromotion  4410 non-null   int64  \n",
            " 23  YearsWithCurrManager     4410 non-null   int64  \n",
            "dtypes: float64(2), int64(14), object(8)\n",
            "memory usage: 827.0+ KB\n"
          ],
          "name": "stdout"
        }
      ]
    },
    {
      "cell_type": "code",
      "metadata": {
        "id": "hJyweG-FWX4H",
        "colab_type": "code",
        "colab": {
          "base_uri": "https://localhost:8080/",
          "height": 442
        },
        "outputId": "8d1c6994-4e14-4ace-e23a-03438846ec08"
      },
      "source": [
        "df.isnull().sum()"
      ],
      "execution_count": 7,
      "outputs": [
        {
          "output_type": "execute_result",
          "data": {
            "text/plain": [
              "Age                         0\n",
              "Attrition                   0\n",
              "BusinessTravel              0\n",
              "Department                  0\n",
              "DistanceFromHome            0\n",
              "Education                   0\n",
              "EducationField              0\n",
              "EmployeeCount               0\n",
              "EmployeeID                  0\n",
              "Gender                      0\n",
              "JobLevel                    0\n",
              "JobRole                     0\n",
              "MaritalStatus               0\n",
              "MonthlyIncome               0\n",
              "NumCompaniesWorked         19\n",
              "Over18                      0\n",
              "PercentSalaryHike           0\n",
              "StandardHours               0\n",
              "StockOptionLevel            0\n",
              "TotalWorkingYears           9\n",
              "TrainingTimesLastYear       0\n",
              "YearsAtCompany              0\n",
              "YearsSinceLastPromotion     0\n",
              "YearsWithCurrManager        0\n",
              "dtype: int64"
            ]
          },
          "metadata": {
            "tags": []
          },
          "execution_count": 7
        }
      ]
    },
    {
      "cell_type": "markdown",
      "metadata": {
        "id": "-a-C0K-rWrts",
        "colab_type": "text"
      },
      "source": [
        "NumCompaniesWorked had 19 empty cells and Total Working Years had 9 empty cells"
      ]
    },
    {
      "cell_type": "code",
      "metadata": {
        "id": "UHJMBhEtWkRb",
        "colab_type": "code",
        "colab": {
          "base_uri": "https://localhost:8080/",
          "height": 34
        },
        "outputId": "9eda5c45-51c2-4e99-c9e2-d6a235f548e1"
      },
      "source": [
        "df.duplicated().sum()"
      ],
      "execution_count": 8,
      "outputs": [
        {
          "output_type": "execute_result",
          "data": {
            "text/plain": [
              "0"
            ]
          },
          "metadata": {
            "tags": []
          },
          "execution_count": 8
        }
      ]
    },
    {
      "cell_type": "markdown",
      "metadata": {
        "id": "HVt1kk09XFp1",
        "colab_type": "text"
      },
      "source": [
        "No duplicated rows."
      ]
    },
    {
      "cell_type": "code",
      "metadata": {
        "id": "kgrZ7-3q8haZ",
        "colab_type": "code",
        "colab": {}
      },
      "source": [
        "# To drop null values\n",
        "\n",
        "df = df.dropna (axis=0)"
      ],
      "execution_count": 63,
      "outputs": []
    },
    {
      "cell_type": "markdown",
      "metadata": {
        "id": "hQcSU4qbXtxZ",
        "colab_type": "text"
      },
      "source": [
        "### **Univariate Analysis**"
      ]
    },
    {
      "cell_type": "code",
      "metadata": {
        "id": "m1liJhheXwtX",
        "colab_type": "code",
        "colab": {}
      },
      "source": [
        "df_sub = df[['Age','DistanceFromHome','MonthlyIncome','TotalWorkingYears', 'YearsAtCompany','YearsSinceLastPromotion', 'YearsWithCurrManager']]"
      ],
      "execution_count": 65,
      "outputs": []
    },
    {
      "cell_type": "code",
      "metadata": {
        "id": "4wJn9mNNYQ6s",
        "colab_type": "code",
        "colab": {
          "base_uri": "https://localhost:8080/",
          "height": 297
        },
        "outputId": "3ea70ab1-0fba-49ef-fc41-f0b26234152b"
      },
      "source": [
        "df_sub.describe()"
      ],
      "execution_count": 66,
      "outputs": [
        {
          "output_type": "execute_result",
          "data": {
            "text/html": [
              "<div>\n",
              "<style scoped>\n",
              "    .dataframe tbody tr th:only-of-type {\n",
              "        vertical-align: middle;\n",
              "    }\n",
              "\n",
              "    .dataframe tbody tr th {\n",
              "        vertical-align: top;\n",
              "    }\n",
              "\n",
              "    .dataframe thead th {\n",
              "        text-align: right;\n",
              "    }\n",
              "</style>\n",
              "<table border=\"1\" class=\"dataframe\">\n",
              "  <thead>\n",
              "    <tr style=\"text-align: right;\">\n",
              "      <th></th>\n",
              "      <th>Age</th>\n",
              "      <th>DistanceFromHome</th>\n",
              "      <th>MonthlyIncome</th>\n",
              "      <th>TotalWorkingYears</th>\n",
              "      <th>YearsAtCompany</th>\n",
              "      <th>YearsSinceLastPromotion</th>\n",
              "      <th>YearsWithCurrManager</th>\n",
              "    </tr>\n",
              "  </thead>\n",
              "  <tbody>\n",
              "    <tr>\n",
              "      <th>count</th>\n",
              "      <td>4382.000000</td>\n",
              "      <td>4382.000000</td>\n",
              "      <td>4382.000000</td>\n",
              "      <td>4382.000000</td>\n",
              "      <td>4382.000000</td>\n",
              "      <td>4382.000000</td>\n",
              "      <td>4382.000000</td>\n",
              "    </tr>\n",
              "    <tr>\n",
              "      <th>mean</th>\n",
              "      <td>36.933364</td>\n",
              "      <td>9.198996</td>\n",
              "      <td>65061.702419</td>\n",
              "      <td>11.290278</td>\n",
              "      <td>7.010497</td>\n",
              "      <td>2.191693</td>\n",
              "      <td>4.126198</td>\n",
              "    </tr>\n",
              "    <tr>\n",
              "      <th>std</th>\n",
              "      <td>9.137272</td>\n",
              "      <td>8.105396</td>\n",
              "      <td>47142.310175</td>\n",
              "      <td>7.785717</td>\n",
              "      <td>6.129351</td>\n",
              "      <td>3.224994</td>\n",
              "      <td>3.569674</td>\n",
              "    </tr>\n",
              "    <tr>\n",
              "      <th>min</th>\n",
              "      <td>18.000000</td>\n",
              "      <td>1.000000</td>\n",
              "      <td>10090.000000</td>\n",
              "      <td>0.000000</td>\n",
              "      <td>0.000000</td>\n",
              "      <td>0.000000</td>\n",
              "      <td>0.000000</td>\n",
              "    </tr>\n",
              "    <tr>\n",
              "      <th>25%</th>\n",
              "      <td>30.000000</td>\n",
              "      <td>2.000000</td>\n",
              "      <td>29110.000000</td>\n",
              "      <td>6.000000</td>\n",
              "      <td>3.000000</td>\n",
              "      <td>0.000000</td>\n",
              "      <td>2.000000</td>\n",
              "    </tr>\n",
              "    <tr>\n",
              "      <th>50%</th>\n",
              "      <td>36.000000</td>\n",
              "      <td>7.000000</td>\n",
              "      <td>49190.000000</td>\n",
              "      <td>10.000000</td>\n",
              "      <td>5.000000</td>\n",
              "      <td>1.000000</td>\n",
              "      <td>3.000000</td>\n",
              "    </tr>\n",
              "    <tr>\n",
              "      <th>75%</th>\n",
              "      <td>43.000000</td>\n",
              "      <td>14.000000</td>\n",
              "      <td>83790.000000</td>\n",
              "      <td>15.000000</td>\n",
              "      <td>9.000000</td>\n",
              "      <td>3.000000</td>\n",
              "      <td>7.000000</td>\n",
              "    </tr>\n",
              "    <tr>\n",
              "      <th>max</th>\n",
              "      <td>60.000000</td>\n",
              "      <td>29.000000</td>\n",
              "      <td>199990.000000</td>\n",
              "      <td>40.000000</td>\n",
              "      <td>40.000000</td>\n",
              "      <td>15.000000</td>\n",
              "      <td>17.000000</td>\n",
              "    </tr>\n",
              "  </tbody>\n",
              "</table>\n",
              "</div>"
            ],
            "text/plain": [
              "               Age  ...  YearsWithCurrManager\n",
              "count  4382.000000  ...           4382.000000\n",
              "mean     36.933364  ...              4.126198\n",
              "std       9.137272  ...              3.569674\n",
              "min      18.000000  ...              0.000000\n",
              "25%      30.000000  ...              2.000000\n",
              "50%      36.000000  ...              3.000000\n",
              "75%      43.000000  ...              7.000000\n",
              "max      60.000000  ...             17.000000\n",
              "\n",
              "[8 rows x 7 columns]"
            ]
          },
          "metadata": {
            "tags": []
          },
          "execution_count": 66
        }
      ]
    },
    {
      "cell_type": "code",
      "metadata": {
        "id": "P0_Pr8RJxqzd",
        "colab_type": "code",
        "colab": {}
      },
      "source": [
        "a = df_sub.mean()"
      ],
      "execution_count": 67,
      "outputs": []
    },
    {
      "cell_type": "code",
      "metadata": {
        "id": "XfdHnolvYTaV",
        "colab_type": "code",
        "colab": {}
      },
      "source": [
        "b = df_sub.median()"
      ],
      "execution_count": 68,
      "outputs": []
    },
    {
      "cell_type": "code",
      "metadata": {
        "id": "H72wNWRVY1bq",
        "colab_type": "code",
        "colab": {
          "base_uri": "https://localhost:8080/",
          "height": 80
        },
        "outputId": "ebfe4d34-f988-43a8-ff00-164d6fe89fe6"
      },
      "source": [
        "c = df_sub.mode()\n",
        "c"
      ],
      "execution_count": 69,
      "outputs": [
        {
          "output_type": "execute_result",
          "data": {
            "text/html": [
              "<div>\n",
              "<style scoped>\n",
              "    .dataframe tbody tr th:only-of-type {\n",
              "        vertical-align: middle;\n",
              "    }\n",
              "\n",
              "    .dataframe tbody tr th {\n",
              "        vertical-align: top;\n",
              "    }\n",
              "\n",
              "    .dataframe thead th {\n",
              "        text-align: right;\n",
              "    }\n",
              "</style>\n",
              "<table border=\"1\" class=\"dataframe\">\n",
              "  <thead>\n",
              "    <tr style=\"text-align: right;\">\n",
              "      <th></th>\n",
              "      <th>Age</th>\n",
              "      <th>DistanceFromHome</th>\n",
              "      <th>MonthlyIncome</th>\n",
              "      <th>TotalWorkingYears</th>\n",
              "      <th>YearsAtCompany</th>\n",
              "      <th>YearsSinceLastPromotion</th>\n",
              "      <th>YearsWithCurrManager</th>\n",
              "    </tr>\n",
              "  </thead>\n",
              "  <tbody>\n",
              "    <tr>\n",
              "      <th>0</th>\n",
              "      <td>35</td>\n",
              "      <td>2</td>\n",
              "      <td>23420</td>\n",
              "      <td>10.0</td>\n",
              "      <td>5</td>\n",
              "      <td>0</td>\n",
              "      <td>2</td>\n",
              "    </tr>\n",
              "  </tbody>\n",
              "</table>\n",
              "</div>"
            ],
            "text/plain": [
              "   Age  DistanceFromHome  ...  YearsSinceLastPromotion  YearsWithCurrManager\n",
              "0   35                 2  ...                        0                     2\n",
              "\n",
              "[1 rows x 7 columns]"
            ]
          },
          "metadata": {
            "tags": []
          },
          "execution_count": 69
        }
      ]
    },
    {
      "cell_type": "code",
      "metadata": {
        "id": "m4ql0mC3ZTkz",
        "colab_type": "code",
        "colab": {}
      },
      "source": [
        "d = df_sub.var()"
      ],
      "execution_count": 70,
      "outputs": []
    },
    {
      "cell_type": "code",
      "metadata": {
        "id": "qLKK9g2Hx10L",
        "colab_type": "code",
        "colab": {}
      },
      "source": [
        "e = df_sub.std()"
      ],
      "execution_count": 71,
      "outputs": []
    },
    {
      "cell_type": "code",
      "metadata": {
        "id": "Qb9u8OeVzhVE",
        "colab_type": "code",
        "colab": {}
      },
      "source": [
        "Q1 = df_sub.quantile(0.25)\n",
        "Q3 = df_sub.quantile(0.75)\n",
        "f = Q3 - Q1"
      ],
      "execution_count": 72,
      "outputs": []
    },
    {
      "cell_type": "code",
      "metadata": {
        "id": "9lkt8cXDZb3f",
        "colab_type": "code",
        "colab": {}
      },
      "source": [
        "g = df_sub.skew()"
      ],
      "execution_count": 73,
      "outputs": []
    },
    {
      "cell_type": "code",
      "metadata": {
        "id": "KVaJyimkZkGu",
        "colab_type": "code",
        "colab": {}
      },
      "source": [
        "h = df_sub.kurt()"
      ],
      "execution_count": 74,
      "outputs": []
    },
    {
      "cell_type": "code",
      "metadata": {
        "id": "Dpgpvkhe1Ues",
        "colab_type": "code",
        "colab": {
          "base_uri": "https://localhost:8080/",
          "height": 266
        },
        "outputId": "da3110ad-3fc9-4021-ae70-fd3b9f51ddc7"
      },
      "source": [
        "# To tabulate the descriptive statistic values of continuos data\n",
        "\n",
        "data = {'Mean': a,\n",
        "        'Median': b,\n",
        "        'Variance' : d,\n",
        "        'Standard Deviation' : e,\n",
        "        'IQR' : f,\n",
        "        'Skewness': g,\n",
        "        'Kurtosis' : h}\n",
        "summary = pd.DataFrame.from_dict(data)\n",
        "summary"
      ],
      "execution_count": 112,
      "outputs": [
        {
          "output_type": "execute_result",
          "data": {
            "text/html": [
              "<div>\n",
              "<style scoped>\n",
              "    .dataframe tbody tr th:only-of-type {\n",
              "        vertical-align: middle;\n",
              "    }\n",
              "\n",
              "    .dataframe tbody tr th {\n",
              "        vertical-align: top;\n",
              "    }\n",
              "\n",
              "    .dataframe thead th {\n",
              "        text-align: right;\n",
              "    }\n",
              "</style>\n",
              "<table border=\"1\" class=\"dataframe\">\n",
              "  <thead>\n",
              "    <tr style=\"text-align: right;\">\n",
              "      <th></th>\n",
              "      <th>Mean</th>\n",
              "      <th>Median</th>\n",
              "      <th>Variance</th>\n",
              "      <th>Standard Deviation</th>\n",
              "      <th>IQR</th>\n",
              "      <th>Skewness</th>\n",
              "      <th>Kurtosis</th>\n",
              "    </tr>\n",
              "  </thead>\n",
              "  <tbody>\n",
              "    <tr>\n",
              "      <th>Age</th>\n",
              "      <td>36.933364</td>\n",
              "      <td>36.0</td>\n",
              "      <td>8.348974e+01</td>\n",
              "      <td>9.137272</td>\n",
              "      <td>13.0</td>\n",
              "      <td>0.413048</td>\n",
              "      <td>-0.409517</td>\n",
              "    </tr>\n",
              "    <tr>\n",
              "      <th>DistanceFromHome</th>\n",
              "      <td>9.198996</td>\n",
              "      <td>7.0</td>\n",
              "      <td>6.569744e+01</td>\n",
              "      <td>8.105396</td>\n",
              "      <td>12.0</td>\n",
              "      <td>0.955517</td>\n",
              "      <td>-0.230691</td>\n",
              "    </tr>\n",
              "    <tr>\n",
              "      <th>MonthlyIncome</th>\n",
              "      <td>65061.702419</td>\n",
              "      <td>49190.0</td>\n",
              "      <td>2.222397e+09</td>\n",
              "      <td>47142.310175</td>\n",
              "      <td>54680.0</td>\n",
              "      <td>1.367457</td>\n",
              "      <td>0.990836</td>\n",
              "    </tr>\n",
              "    <tr>\n",
              "      <th>TotalWorkingYears</th>\n",
              "      <td>11.290278</td>\n",
              "      <td>10.0</td>\n",
              "      <td>6.061739e+01</td>\n",
              "      <td>7.785717</td>\n",
              "      <td>9.0</td>\n",
              "      <td>1.115419</td>\n",
              "      <td>0.909316</td>\n",
              "    </tr>\n",
              "    <tr>\n",
              "      <th>YearsAtCompany</th>\n",
              "      <td>7.010497</td>\n",
              "      <td>5.0</td>\n",
              "      <td>3.756894e+01</td>\n",
              "      <td>6.129351</td>\n",
              "      <td>6.0</td>\n",
              "      <td>1.764619</td>\n",
              "      <td>3.930726</td>\n",
              "    </tr>\n",
              "    <tr>\n",
              "      <th>YearsSinceLastPromotion</th>\n",
              "      <td>2.191693</td>\n",
              "      <td>1.0</td>\n",
              "      <td>1.040059e+01</td>\n",
              "      <td>3.224994</td>\n",
              "      <td>3.0</td>\n",
              "      <td>1.980992</td>\n",
              "      <td>3.592162</td>\n",
              "    </tr>\n",
              "    <tr>\n",
              "      <th>YearsWithCurrManager</th>\n",
              "      <td>4.126198</td>\n",
              "      <td>3.0</td>\n",
              "      <td>1.274257e+01</td>\n",
              "      <td>3.569674</td>\n",
              "      <td>5.0</td>\n",
              "      <td>0.834277</td>\n",
              "      <td>0.170703</td>\n",
              "    </tr>\n",
              "  </tbody>\n",
              "</table>\n",
              "</div>"
            ],
            "text/plain": [
              "                                 Mean   Median  ...  Skewness  Kurtosis\n",
              "Age                         36.933364     36.0  ...  0.413048 -0.409517\n",
              "DistanceFromHome             9.198996      7.0  ...  0.955517 -0.230691\n",
              "MonthlyIncome            65061.702419  49190.0  ...  1.367457  0.990836\n",
              "TotalWorkingYears           11.290278     10.0  ...  1.115419  0.909316\n",
              "YearsAtCompany               7.010497      5.0  ...  1.764619  3.930726\n",
              "YearsSinceLastPromotion      2.191693      1.0  ...  1.980992  3.592162\n",
              "YearsWithCurrManager         4.126198      3.0  ...  0.834277  0.170703\n",
              "\n",
              "[7 rows x 7 columns]"
            ]
          },
          "metadata": {
            "tags": []
          },
          "execution_count": 112
        }
      ]
    },
    {
      "cell_type": "markdown",
      "metadata": {
        "id": "DWbrwZ3J4y7p",
        "colab_type": "text"
      },
      "source": [
        "## Inference from the analysis:\n",
        "\n",
        "All the above variables show positive skewness (skewed to the right), which means the mean > median.\n",
        "\n",
        "Age & Distance_From_Home are platykurtic and all other variables are leptokurtic.\n",
        "\n",
        "The Monthly_Income’s IQR is at 54.5k, suggesting that company wide attrition across all income bands"
      ]
    },
    {
      "cell_type": "markdown",
      "metadata": {
        "id": "VWAL-LHWtrbd",
        "colab_type": "text"
      },
      "source": [
        "### **Boxplots**"
      ]
    },
    {
      "cell_type": "code",
      "metadata": {
        "id": "K2-cq_vsZp2u",
        "colab_type": "code",
        "colab": {
          "base_uri": "https://localhost:8080/",
          "height": 265
        },
        "outputId": "dd416af3-d236-491a-e3ff-a9b56ee2e21d"
      },
      "source": [
        "plt.boxplot(df.Age)\n",
        "plt.show()"
      ],
      "execution_count": 76,
      "outputs": [
        {
          "output_type": "display_data",
          "data": {
            "image/png": "[encoded data removed]",
            "text/plain": [
              "<Figure size 432x288 with 1 Axes>"
            ]
          },
          "metadata": {
            "tags": [],
            "needs_background": "light"
          }
        }
      ]
    },
    {
      "cell_type": "markdown",
      "metadata": {
        "id": "CMAmVd3vtieP",
        "colab_type": "text"
      },
      "source": [
        "Age is normally distributed without any outliers."
      ]
    },
    {
      "cell_type": "code",
      "metadata": {
        "id": "QMvHYkFwykkH",
        "colab_type": "code",
        "colab": {
          "base_uri": "https://localhost:8080/",
          "height": 267
        },
        "outputId": "0b438bd3-8465-459e-ef75-d1cc37c39791"
      },
      "source": [
        "plt.boxplot(df.DistanceFromHome)\n",
        "plt.show()"
      ],
      "execution_count": 77,
      "outputs": [
        {
          "output_type": "display_data",
          "data": {
            "image/png": "[encoded data removed]",
            "text/plain": [
              "<Figure size 432x288 with 1 Axes>"
            ]
          },
          "metadata": {
            "tags": [],
            "needs_background": "light"
          }
        }
      ]
    },
    {
      "cell_type": "markdown",
      "metadata": {
        "id": "rf_qOBofy49t",
        "colab_type": "text"
      },
      "source": [
        "Distance from Home is right skewed with no outliers observed"
      ]
    },
    {
      "cell_type": "code",
      "metadata": {
        "id": "XevFkPRochSz",
        "colab_type": "code",
        "colab": {
          "base_uri": "https://localhost:8080/",
          "height": 265
        },
        "outputId": "2ce97ce8-444a-4871-df2c-90253c53da23"
      },
      "source": [
        "plt.boxplot(df.MonthlyIncome)\n",
        "plt.show()"
      ],
      "execution_count": 78,
      "outputs": [
        {
          "output_type": "display_data",
          "data": {
            "image/png": "[encoded data removed]",
            "text/plain": [
              "<Figure size 432x288 with 1 Axes>"
            ]
          },
          "metadata": {
            "tags": [],
            "needs_background": "light"
          }
        }
      ]
    },
    {
      "cell_type": "markdown",
      "metadata": {
        "id": "j1tZlPLpt3lC",
        "colab_type": "text"
      },
      "source": [
        "Monthly Income is right skewed with several outliers"
      ]
    },
    {
      "cell_type": "code",
      "metadata": {
        "id": "NaxcPZMhzEOH",
        "colab_type": "code",
        "colab": {
          "base_uri": "https://localhost:8080/",
          "height": 265
        },
        "outputId": "87a06434-f04e-4ad9-f3ab-50b463b98774"
      },
      "source": [
        "plt.boxplot(df.YearsSinceLastPromotion)\n",
        "plt.show()"
      ],
      "execution_count": 79,
      "outputs": [
        {
          "output_type": "display_data",
          "data": {
            "image/png": "[encoded data removed]",
            "text/plain": [
              "<Figure size 432x288 with 1 Axes>"
            ]
          },
          "metadata": {
            "tags": [],
            "needs_background": "light"
          }
        }
      ]
    },
    {
      "cell_type": "markdown",
      "metadata": {
        "id": "6x_mFX7KzdDu",
        "colab_type": "text"
      },
      "source": [
        "Years since Last Promotion is right skewed with several outliers"
      ]
    },
    {
      "cell_type": "code",
      "metadata": {
        "id": "3AnR4v20csQi",
        "colab_type": "code",
        "colab": {
          "base_uri": "https://localhost:8080/",
          "height": 265
        },
        "outputId": "199d4f64-5d92-4535-9040-51a73c317f0b"
      },
      "source": [
        "plt.boxplot(df.YearsAtCompany)\n",
        "plt.show()"
      ],
      "execution_count": 80,
      "outputs": [
        {
          "output_type": "display_data",
          "data": {
            "image/png": "[encoded data removed]",
            "text/plain": [
              "<Figure size 432x288 with 1 Axes>"
            ]
          },
          "metadata": {
            "tags": [],
            "needs_background": "light"
          }
        }
      ]
    },
    {
      "cell_type": "markdown",
      "metadata": {
        "id": "k7E-CWbByUzi",
        "colab_type": "text"
      },
      "source": [
        "Years at Company is also right skewed with several outliers"
      ]
    },
    {
      "cell_type": "code",
      "metadata": {
        "id": "FyTTgxaFznhY",
        "colab_type": "code",
        "colab": {
          "base_uri": "https://localhost:8080/",
          "height": 265
        },
        "outputId": "272c8a1d-78ab-4fe8-c4f0-3129206fa12c"
      },
      "source": [
        "plt.boxplot(df.YearsWithCurrManager)\n",
        "plt.show()"
      ],
      "execution_count": 81,
      "outputs": [
        {
          "output_type": "display_data",
          "data": {
            "image/png": "[encoded data removed]",
            "text/plain": [
              "<Figure size 432x288 with 1 Axes>"
            ]
          },
          "metadata": {
            "tags": [],
            "needs_background": "light"
          }
        }
      ]
    },
    {
      "cell_type": "markdown",
      "metadata": {
        "id": "iDsnrbBRzxYz",
        "colab_type": "text"
      },
      "source": [
        "Years with Current Manager is also right skewed with several outliers"
      ]
    },
    {
      "cell_type": "markdown",
      "metadata": {
        "id": "bSkSVsZhz1fr",
        "colab_type": "text"
      },
      "source": [
        "### **Corelation**"
      ]
    },
    {
      "cell_type": "code",
      "metadata": {
        "id": "HiWqXKcX0hpR",
        "colab_type": "code",
        "colab": {}
      },
      "source": [
        "# To change the Attrition column to numerical values\n",
        "\n",
        "Attrition = {'No': 0,\n",
        "             'Yes' : 1}\n",
        "\n",
        "df.replace (Attrition, inplace=True)"
      ],
      "execution_count": 82,
      "outputs": []
    },
    {
      "cell_type": "markdown",
      "metadata": {
        "id": "6PLxk4D539Iu",
        "colab_type": "text"
      },
      "source": [
        "**Relationship between Attrition and Age**"
      ]
    },
    {
      "cell_type": "code",
      "metadata": {
        "id": "LJ5m5kO43yoV",
        "colab_type": "code",
        "colab": {
          "base_uri": "https://localhost:8080/",
          "height": 153
        },
        "outputId": "afd5489f-b094-4f08-eb45-1d830bc5c409"
      },
      "source": [
        "from scipy.stats import pearsonr\n",
        "\n",
        "stats, p = pearsonr(df.Attrition, df.Age)\n",
        "\n",
        "print (stats,p)\n",
        "\n",
        "print ('\\nNull hypothesis = There is no correlation between Attrition and Distance from Home \\n')\n",
        "print ('Alternative hypothesis = There is correlation between Attrition and Distance from Home\\n')\n",
        "if p > 0.05: \n",
        "  print ('p-value is > 0.05. Null hypothesis is accepted. There is no correlation') \n",
        "  Age = 'No correlation'\n",
        "else: \n",
        "  print ('p-value is < 0.05. Null hypothesis is rejected. There is correlation')\n",
        "  if stats > 0 :\n",
        "    print ('It\\'s a positive correlation')\n",
        "    Age = '+ve correlation'\n",
        "  else:\n",
        "    print ('It\\'s a negative correlation')\n",
        "    Age = '-ve correlation'"
      ],
      "execution_count": 99,
      "outputs": [
        {
          "output_type": "stream",
          "text": [
            "-0.1583986795409671 5.1265982193780794e-26\n",
            "\n",
            "Null hypothesis = There is no correlation between Attrition and Distance from Home \n",
            "\n",
            "Alternative hypothesis = There is correlation between Attrition and Distance from Home\n",
            "\n",
            "p-value is < 0.05. Null hypothesis is rejected. There is correlation\n",
            "It's a negative correlation\n"
          ],
          "name": "stdout"
        }
      ]
    },
    {
      "cell_type": "markdown",
      "metadata": {
        "id": "xP1lalSd1EPa",
        "colab_type": "text"
      },
      "source": [
        "**Relationship between Attrition and Distance from Home**"
      ]
    },
    {
      "cell_type": "code",
      "metadata": {
        "id": "8d_k2i551Ls_",
        "colab_type": "code",
        "colab": {
          "base_uri": "https://localhost:8080/",
          "height": 136
        },
        "outputId": "47c9f876-1e24-424c-c0ab-cccbf1a157a1"
      },
      "source": [
        "stats, p = pearsonr(df.Attrition, df.DistanceFromHome)\n",
        "\n",
        "print (stats,p)\n",
        "\n",
        "print ('\\nNull hypothesis = There is no correlation between Attrition and Distance from Home \\n')\n",
        "print ('Alternative hypothesis = There is correlation between Attrition and Distance from Home\\n')\n",
        "if p > 0.05: \n",
        "  print ('p-value is > 0.05. Null hypothesis is accepted. There is no correlation') \n",
        "  Distance = 'No correlation'\n",
        "else: \n",
        "  print ('p-value is < 0.05. Null hypothesis is rejected. There is correlation')\n",
        "  if stats > 0 :\n",
        "    print ('It\\'s a positive correlation')\n",
        "    Distance = '+ve correlation'\n",
        "  else:\n",
        "    print ('It\\'s a negative correlation')\n",
        "    Distance = '-ve correlation'"
      ],
      "execution_count": 100,
      "outputs": [
        {
          "output_type": "stream",
          "text": [
            "-0.009448638515156291 0.5317715668018396\n",
            "\n",
            "Null hypothesis = There is no correlation between Attrition and Distance from Home \n",
            "\n",
            "Alternative hypothesis = There is correlation between Attrition and Distance from Home\n",
            "\n",
            "p-value is > 0.05. Null hypothesis is accepted. There is no correlation\n"
          ],
          "name": "stdout"
        }
      ]
    },
    {
      "cell_type": "markdown",
      "metadata": {
        "id": "Qst8HXUU2yyK",
        "colab_type": "text"
      },
      "source": [
        "**Relationship between Attrition and Monthly Income**"
      ]
    },
    {
      "cell_type": "code",
      "metadata": {
        "id": "mdBCTJoY1M-p",
        "colab_type": "code",
        "colab": {
          "base_uri": "https://localhost:8080/",
          "height": 153
        },
        "outputId": "0a8af941-02a2-4718-a506-65ea57acb3d2"
      },
      "source": [
        "stats, p = pearsonr(df.Attrition, df.MonthlyIncome)\n",
        "\n",
        "print (stats,p)\n",
        "\n",
        "print ('\\nNull hypothesis = There is no correlation between Attrition and Monthly Income \\n')\n",
        "print ('Alternative hypothesis = There is correlation between Attrition and Monthly Income\\n')\n",
        "\n",
        "if p > 0.05: \n",
        "  print ('p-value is > 0.05. Null hypothesis is accepted. There is no correlation') \n",
        "  Income = 'no correlation'\n",
        "else: \n",
        "  print ('p-value is < 0.05. Null hypothesis is rejected. There is correlation')\n",
        "  if stats > 0 :\n",
        "    print ('It\\'s a positive correlation')\n",
        "    Income = '+ve correlation'\n",
        "  else:\n",
        "    print ('It\\'s a negative correlation')\n",
        "    Income = '-ve correlation'"
      ],
      "execution_count": 101,
      "outputs": [
        {
          "output_type": "stream",
          "text": [
            "-0.030160293808460668 0.045890862744719166\n",
            "\n",
            "Null hypothesis = There is no correlation between Attrition and Monthly Income \n",
            "\n",
            "Alternative hypothesis = There is correlation between Attrition and Monthly Income\n",
            "\n",
            "p-value is < 0.05. Null hypothesis is rejected. There is correlation\n",
            "It's a negative correlation\n"
          ],
          "name": "stdout"
        }
      ]
    },
    {
      "cell_type": "markdown",
      "metadata": {
        "id": "BlQj5V4Q-xPt",
        "colab_type": "text"
      },
      "source": [
        "**Relationship between Attrition and Total Working Years**"
      ]
    },
    {
      "cell_type": "code",
      "metadata": {
        "id": "QQhd6qwr-2fX",
        "colab_type": "code",
        "colab": {
          "base_uri": "https://localhost:8080/",
          "height": 153
        },
        "outputId": "3d26e8c8-6689-4fca-f6f9-7cc0b8f12422"
      },
      "source": [
        "stats, p = pearsonr(df.Attrition, df.TotalWorkingYears)\n",
        "\n",
        "print (stats,p)\n",
        "\n",
        "print ('\\nNull hypothesis = There is no correlation between Attrition and Total Working Years \\n')\n",
        "print ('Alternative hypothesis = There is correlation between Attrition and Total Working Years\\n')\n",
        "\n",
        "if p > 0.05: \n",
        "  print ('p-value is > 0.05. Null hypothesis is accepted. There is no correlation') \n",
        "  WorkYears = 'No corelation'\n",
        "else: \n",
        "  print ('p-value is < 0.05. Null hypothesis is rejected. There is correlation')\n",
        "  if stats > 0 :\n",
        "    print ('It\\'s a positive correlation')\n",
        "    WorkYears = '+ve corelation'\n",
        "  else:\n",
        "    print ('It\\'s a negative correlation')\n",
        "    WorkYears = '-ve corelation'"
      ],
      "execution_count": 102,
      "outputs": [
        {
          "output_type": "stream",
          "text": [
            "-0.16966991684723912 1.1645434967091854e-29\n",
            "\n",
            "Null hypothesis = There is no correlation between Attrition and Total Working Years \n",
            "\n",
            "Alternative hypothesis = There is correlation between Attrition and Total Working Years\n",
            "\n",
            "p-value is < 0.05. Null hypothesis is rejected. There is correlation\n",
            "It's a negative correlation\n"
          ],
          "name": "stdout"
        }
      ]
    },
    {
      "cell_type": "markdown",
      "metadata": {
        "id": "slczTtw8_UXy",
        "colab_type": "text"
      },
      "source": [
        "**Relationship between Attrition and Year at Company**"
      ]
    },
    {
      "cell_type": "code",
      "metadata": {
        "id": "nF0vYHea_YFF",
        "colab_type": "code",
        "colab": {
          "base_uri": "https://localhost:8080/",
          "height": 153
        },
        "outputId": "c8764b2f-7316-4051-e472-01c4da5357a4"
      },
      "source": [
        "stats, p = pearsonr(df.Attrition, df.TotalWorkingYears)\n",
        "\n",
        "print (stats,p)\n",
        "\n",
        "print ('\\nNull hypothesis = There is no correlation between Attrition and Years at Company \\n')\n",
        "print ('Alternative hypothesis = There is correlation between Attrition and Years at Company\\n')\n",
        "\n",
        "if p > 0.05: \n",
        "  print ('p-value is > 0.05. Null hypothesis is accepted. There is no correlation') \n",
        "  CompYears = 'No corelation'\n",
        "else: \n",
        "  print ('p-value is < 0.05. Null hypothesis is rejected. There is correlation')\n",
        "  if stats > 0 :\n",
        "    print ('It\\'s a positive correlation')\n",
        "    CompYears = '+ve corelation'\n",
        "  else:\n",
        "    print ('It\\'s a negative correlation')\n",
        "    CompYears = '-ve corelation'"
      ],
      "execution_count": 104,
      "outputs": [
        {
          "output_type": "stream",
          "text": [
            "-0.16966991684723912 1.1645434967091854e-29\n",
            "\n",
            "Null hypothesis = There is no correlation between Attrition and Years at Company \n",
            "\n",
            "Alternative hypothesis = There is correlation between Attrition and Years at Company\n",
            "\n",
            "p-value is < 0.05. Null hypothesis is rejected. There is correlation\n",
            "It's a negative correlation\n"
          ],
          "name": "stdout"
        }
      ]
    },
    {
      "cell_type": "markdown",
      "metadata": {
        "id": "Vx0z6HLe3Nf9",
        "colab_type": "text"
      },
      "source": [
        "**Relationship between Attrition and Percentage of Salary Hike**"
      ]
    },
    {
      "cell_type": "code",
      "metadata": {
        "id": "JAtxBTkp3Ekr",
        "colab_type": "code",
        "colab": {
          "base_uri": "https://localhost:8080/",
          "height": 153
        },
        "outputId": "30eafc66-56b0-4662-e698-e26c6c72e5cf"
      },
      "source": [
        "stats, p = pearsonr(df.Attrition, df.PercentSalaryHike)\n",
        "\n",
        "print (stats,p)\n",
        "\n",
        "print ('\\nNull hypothesis = There is no correlation between Attrition and Percentage of Salary Hike \\n')\n",
        "print ('Alternative hypothesis = There is correlation between Attrition and Percentage of Salary Hike\\n')\n",
        "\n",
        "if p > 0.05: \n",
        "  print ('p-value is > 0.05. Null hypothesis is accepted. There is no correlation') \n",
        "  Hike = 'No corelation'\n",
        "else: \n",
        "  print ('p-value is < 0.05. Null hypothesis is rejected. There is correlation')\n",
        "  if stats > 0 :\n",
        "    print ('It\\'s a positive correlation')\n",
        "    Hike = '+ve corelation'\n",
        "  else:\n",
        "    print ('It\\'s a negative correlation')\n",
        "    Hike = '-ve corelation'"
      ],
      "execution_count": 105,
      "outputs": [
        {
          "output_type": "stream",
          "text": [
            "0.033153037135466544 0.028192446935112747\n",
            "\n",
            "Null hypothesis = There is no correlation between Attrition and Percentage of Salary Hike \n",
            "\n",
            "Alternative hypothesis = There is correlation between Attrition and Percentage of Salary Hike\n",
            "\n",
            "p-value is < 0.05. Null hypothesis is rejected. There is correlation\n",
            "It's a positive correlation\n"
          ],
          "name": "stdout"
        }
      ]
    },
    {
      "cell_type": "markdown",
      "metadata": {
        "id": "WEYsYe7p4Y9_",
        "colab_type": "text"
      },
      "source": [
        "**Relationship between Attrition and Years Since Last Promotion**"
      ]
    },
    {
      "cell_type": "code",
      "metadata": {
        "id": "SHkhdPH33YJu",
        "colab_type": "code",
        "colab": {
          "base_uri": "https://localhost:8080/",
          "height": 153
        },
        "outputId": "eee31cbf-cd75-44e4-fd03-42eb50bb1a87"
      },
      "source": [
        "stats, p = pearsonr(df.Attrition, df.YearsSinceLastPromotion)\n",
        "\n",
        "print (stats,p)\n",
        "\n",
        "print ('\\nNull hypothesis = There is no correlation between Attrition and Years Since Last Promotion \\n')\n",
        "print ('Alternative hypothesis = There is correlation between Attrition and Years Since Last Promotion\\n')\n",
        "\n",
        "if p > 0.05: \n",
        "  print ('p-value is > 0.05. Null hypothesis is accepted. There is no correlation')\n",
        "  PromYear = 'No corelation' \n",
        "else: \n",
        "  print ('p-value is < 0.05. Null hypothesis is rejected. There is correlation')\n",
        "  if stats > 0 :\n",
        "    print ('It\\'s a positive correlation')\n",
        "    PromYear = '+ve corelation'\n",
        "  else:\n",
        "    print ('It\\'s a negative correlation')\n",
        "    PromYear = '-ve corelation'"
      ],
      "execution_count": 106,
      "outputs": [
        {
          "output_type": "stream",
          "text": [
            "-0.03142315056330998 0.03752293607394324\n",
            "\n",
            "Null hypothesis = There is no correlation between Attrition and Years Since Last Promotion \n",
            "\n",
            "Alternative hypothesis = There is correlation between Attrition and Years Since Last Promotion\n",
            "\n",
            "p-value is < 0.05. Null hypothesis is rejected. There is correlation\n",
            "It's a negative correlation\n"
          ],
          "name": "stdout"
        }
      ]
    },
    {
      "cell_type": "markdown",
      "metadata": {
        "id": "abyYH4tE4lZe",
        "colab_type": "text"
      },
      "source": [
        "**Relationship between Attrition and Years with Current Manager**\n",
        "\n"
      ]
    },
    {
      "cell_type": "code",
      "metadata": {
        "id": "UOHjBWMY4iqY",
        "colab_type": "code",
        "colab": {
          "base_uri": "https://localhost:8080/",
          "height": 153
        },
        "outputId": "7e2e771b-7b78-4d54-cdde-2065958a625e"
      },
      "source": [
        "stats, p = pearsonr(df.Attrition, df.YearsWithCurrManager)\n",
        "\n",
        "print (stats,p)\n",
        "\n",
        "print ('\\nNull hypothesis = There is no correlation between Attrition and Years with Current Manager \\n')\n",
        "print ('Alternative hypothesis = There is correlation between Attrition and Years with Current Manager\\n')\n",
        "\n",
        "if p > 0.05: \n",
        "  print ('p-value is > 0.05. Null hypothesis is accepted. There is no correlation') \n",
        "  ManYear = 'No corelation'\n",
        "else: \n",
        "  print ('p-value is < 0.05. Null hypothesis is rejected. There is correlation')\n",
        "  if stats > 0 :\n",
        "    print ('It\\'s a positive correlation')\n",
        "    ManYear = '+ve corelation'\n",
        "  else:\n",
        "    print ('It\\'s a negative correlation')\n",
        "    ManYear = '-ve corelation'"
      ],
      "execution_count": 108,
      "outputs": [
        {
          "output_type": "stream",
          "text": [
            "-0.15469153690287285 7.105369646772844e-25\n",
            "\n",
            "Null hypothesis = There is no correlation between Attrition and Years with Current Manager \n",
            "\n",
            "Alternative hypothesis = There is correlation between Attrition and Years with Current Manager\n",
            "\n",
            "p-value is < 0.05. Null hypothesis is rejected. There is correlation\n",
            "It's a negative correlation\n"
          ],
          "name": "stdout"
        }
      ]
    },
    {
      "cell_type": "code",
      "metadata": {
        "id": "SssOqX4kBaS3",
        "colab_type": "code",
        "colab": {
          "base_uri": "https://localhost:8080/",
          "height": 297
        },
        "outputId": "143879c5-0a2d-4eb2-ab03-6c4f66490b26"
      },
      "source": [
        "# To tabulate the existance of corelation with Attrition\n",
        "\n",
        "corr_data = {'Age': Age,\n",
        "        'Distance From Home': [Distance],\n",
        "        'Monthly Income' : [Income],\n",
        "        'Total Working Years' : [WorkYears],\n",
        "        'Years at Company' : [CompYears],\n",
        "        'Percentage of Salary Hike' : [Hike],\n",
        "        'Years Since Last Promotion': [PromYear],\n",
        "        'Years with Current Manager' : [ManYear]}\n",
        "corr_summary = pd.DataFrame.from_dict(corr_data, orient='index')\n",
        "corr_summary = corr_summary.rename (columns={0 : 'Attrition'})\n",
        "corr_summary"
      ],
      "execution_count": 120,
      "outputs": [
        {
          "output_type": "execute_result",
          "data": {
            "text/html": [
              "<div>\n",
              "<style scoped>\n",
              "    .dataframe tbody tr th:only-of-type {\n",
              "        vertical-align: middle;\n",
              "    }\n",
              "\n",
              "    .dataframe tbody tr th {\n",
              "        vertical-align: top;\n",
              "    }\n",
              "\n",
              "    .dataframe thead th {\n",
              "        text-align: right;\n",
              "    }\n",
              "</style>\n",
              "<table border=\"1\" class=\"dataframe\">\n",
              "  <thead>\n",
              "    <tr style=\"text-align: right;\">\n",
              "      <th></th>\n",
              "      <th>Attrition</th>\n",
              "    </tr>\n",
              "  </thead>\n",
              "  <tbody>\n",
              "    <tr>\n",
              "      <th>Age</th>\n",
              "      <td>-ve correlation</td>\n",
              "    </tr>\n",
              "    <tr>\n",
              "      <th>Distance From Home</th>\n",
              "      <td>[No correlation]</td>\n",
              "    </tr>\n",
              "    <tr>\n",
              "      <th>Monthly Income</th>\n",
              "      <td>[-ve correlation]</td>\n",
              "    </tr>\n",
              "    <tr>\n",
              "      <th>Total Working Years</th>\n",
              "      <td>[-ve corelation]</td>\n",
              "    </tr>\n",
              "    <tr>\n",
              "      <th>Years at Company</th>\n",
              "      <td>[-ve corelation]</td>\n",
              "    </tr>\n",
              "    <tr>\n",
              "      <th>Percentage of Salary Hike</th>\n",
              "      <td>[+ve corelation]</td>\n",
              "    </tr>\n",
              "    <tr>\n",
              "      <th>Years Since Last Promotion</th>\n",
              "      <td>[-ve corelation]</td>\n",
              "    </tr>\n",
              "    <tr>\n",
              "      <th>Years with Current Manager</th>\n",
              "      <td>[-ve corelation]</td>\n",
              "    </tr>\n",
              "  </tbody>\n",
              "</table>\n",
              "</div>"
            ],
            "text/plain": [
              "                                    Attrition\n",
              "Age                           -ve correlation\n",
              "Distance From Home           [No correlation]\n",
              "Monthly Income              [-ve correlation]\n",
              "Total Working Years          [-ve corelation]\n",
              "Years at Company             [-ve corelation]\n",
              "Percentage of Salary Hike    [+ve corelation]\n",
              "Years Since Last Promotion   [-ve corelation]\n",
              "Years with Current Manager   [-ve corelation]"
            ]
          },
          "metadata": {
            "tags": []
          },
          "execution_count": 120
        }
      ]
    },
    {
      "cell_type": "markdown",
      "metadata": {
        "id": "tnv8Amoi4zpb",
        "colab_type": "text"
      },
      "source": [
        "### **Statistical Tests**"
      ]
    },
    {
      "cell_type": "code",
      "metadata": {
        "id": "t2HTZfkz4svC",
        "colab_type": "code",
        "colab": {}
      },
      "source": [
        "# To separate the dataset into subsets of those who left the company (df1) and those who are still working (df0)\n",
        "\n",
        "df1= df[df['Attrition']==1]\n",
        "df0= df[df['Attrition']==0]"
      ],
      "execution_count": 121,
      "outputs": []
    },
    {
      "cell_type": "markdown",
      "metadata": {
        "id": "_LwUcF3J6vWV",
        "colab_type": "text"
      },
      "source": [
        "### **Mann Whitney Test**"
      ]
    },
    {
      "cell_type": "markdown",
      "metadata": {
        "id": "NJlLaWeU6cKK",
        "colab_type": "text"
      },
      "source": [
        "**Attrition and Distance from Home**"
      ]
    },
    {
      "cell_type": "code",
      "metadata": {
        "id": "jRpcqyQ35p8H",
        "colab_type": "code",
        "colab": {
          "base_uri": "https://localhost:8080/",
          "height": 34
        },
        "outputId": "6a99242d-c741-4cd9-ebe4-aab1b35ee84e"
      },
      "source": [
        "from scipy.stats import mannwhitneyu\n",
        "\n",
        "stats, p = mannwhitneyu(df1.DistanceFromHome, df0.DistanceFromHome)\n",
        "\n",
        "print (stats,p)\n"
      ],
      "execution_count": 122,
      "outputs": [
        {
          "output_type": "stream",
          "text": [
            "1295261.0 0.488538986087403\n"
          ],
          "name": "stdout"
        }
      ]
    },
    {
      "cell_type": "markdown",
      "metadata": {
        "id": "q_iN4M7l6qNc",
        "colab_type": "text"
      },
      "source": [
        "H0: There is no significant differences in the Distance From Home between those who left and those who stayed in the company.\n",
        "\n",
        "Ha: There is significant differences in the Distance From Home between those who left and those who stayed in the company.\n",
        "\n",
        "Since p > 0.05, null hypothesis is accepted."
      ]
    },
    {
      "cell_type": "markdown",
      "metadata": {
        "id": "U98HDd5r68cf",
        "colab_type": "text"
      },
      "source": [
        "**Attrition and Monthly Income**"
      ]
    },
    {
      "cell_type": "code",
      "metadata": {
        "id": "AHPpOkxK6lWM",
        "colab_type": "code",
        "colab": {
          "base_uri": "https://localhost:8080/",
          "height": 34
        },
        "outputId": "b168dd35-0bf9-4654-a791-43426bc9d359"
      },
      "source": [
        "stats, p = mannwhitneyu(df1.MonthlyIncome, df0.MonthlyIncome)\n",
        "\n",
        "print (stats,p)"
      ],
      "execution_count": 123,
      "outputs": [
        {
          "output_type": "stream",
          "text": [
            "1249573.5 0.06508807631576838\n"
          ],
          "name": "stdout"
        }
      ]
    },
    {
      "cell_type": "markdown",
      "metadata": {
        "id": "7_MtVo0j7JCo",
        "colab_type": "text"
      },
      "source": [
        "H0: There is no significant differences in the Monthly Income between those who left and those who stayed in the company.\n",
        "\n",
        "Ha: There is significant differences in the Monthly Income between those who left and those who stayed in the company.\n",
        "\n",
        "Since p > 0.05, null hypothesis is accepted."
      ]
    },
    {
      "cell_type": "markdown",
      "metadata": {
        "id": "4rrfK8urFinz",
        "colab_type": "text"
      },
      "source": [
        "**Attrition and Total Working Years**"
      ]
    },
    {
      "cell_type": "code",
      "metadata": {
        "id": "9_E_571WFolh",
        "colab_type": "code",
        "colab": {
          "base_uri": "https://localhost:8080/",
          "height": 34
        },
        "outputId": "8829aab2-abd9-4639-e548-253d8ff70248"
      },
      "source": [
        "stats, p = mannwhitneyu(df1.TotalWorkingYears, df0.TotalWorkingYears)\n",
        "\n",
        "print (stats,p)"
      ],
      "execution_count": 125,
      "outputs": [
        {
          "output_type": "stream",
          "text": [
            "895173.5 2.741211827689903e-39\n"
          ],
          "name": "stdout"
        }
      ]
    },
    {
      "cell_type": "markdown",
      "metadata": {
        "id": "7R9-f-WGFyKo",
        "colab_type": "text"
      },
      "source": [
        "H0: There is no significant differences in the Total Working Years between those who left and those who stayed in the company.\n",
        "\n",
        "Ha: There is significant differences in the Total Working Years between those who left and those who stayed in the company.\n",
        "\n",
        "Since p < 0.05, alternative hypothesis is accepted."
      ]
    },
    {
      "cell_type": "markdown",
      "metadata": {
        "id": "_4kWHGCuGI3b",
        "colab_type": "text"
      },
      "source": [
        "**Attrition and Years At Company**"
      ]
    },
    {
      "cell_type": "code",
      "metadata": {
        "id": "Etc0iyeJGOwe",
        "colab_type": "code",
        "colab": {
          "base_uri": "https://localhost:8080/",
          "height": 34
        },
        "outputId": "c47c865b-f63e-41e8-a88f-94653c3708a7"
      },
      "source": [
        "stats, p = mannwhitneyu(df1.YearsAtCompany, df0.YearsAtCompany)\n",
        "\n",
        "print (stats,p)"
      ],
      "execution_count": 126,
      "outputs": [
        {
          "output_type": "stream",
          "text": [
            "912579.0 3.3433144809752036e-36\n"
          ],
          "name": "stdout"
        }
      ]
    },
    {
      "cell_type": "markdown",
      "metadata": {
        "id": "XbERxePCGXCQ",
        "colab_type": "text"
      },
      "source": [
        "H0: There is no significant differences in the Years at Company between those who left and those who stayed in the company.\n",
        "\n",
        "Ha: There is significant differences in the Years at Company between those who left and those who stayed in the company.\n",
        "\n",
        "Since p < 0.05, alternative hypothesis is accepted."
      ]
    },
    {
      "cell_type": "markdown",
      "metadata": {
        "id": "OntZceuu7crT",
        "colab_type": "text"
      },
      "source": [
        "**Attrition and Percentage of Salary Hike**"
      ]
    },
    {
      "cell_type": "code",
      "metadata": {
        "id": "R4jVHObq7EKh",
        "colab_type": "code",
        "colab": {
          "base_uri": "https://localhost:8080/",
          "height": 34
        },
        "outputId": "eaebf90f-6286-47df-f0ef-9c02ad1eef47"
      },
      "source": [
        "stats, p = mannwhitneyu(df1.PercentSalaryHike, df0.PercentSalaryHike)\n",
        "\n",
        "print (stats,p)"
      ],
      "execution_count": 124,
      "outputs": [
        {
          "output_type": "stream",
          "text": [
            "1231873.5 0.017810794960084964\n"
          ],
          "name": "stdout"
        }
      ]
    },
    {
      "cell_type": "markdown",
      "metadata": {
        "id": "s1fZx9Ur8MmE",
        "colab_type": "text"
      },
      "source": [
        "H0: There is no significant differences in the percentage of salary hike between those who left and those who stayed in the company.\n",
        "\n",
        "Ha: There is significant differences in the percentage of salary hike between those who left and those who stayed in the company.\n",
        "\n",
        "Since p < 0.05, alternative hypothesis is accepted."
      ]
    },
    {
      "cell_type": "markdown",
      "metadata": {
        "id": "r4CYq3yLGh2L",
        "colab_type": "text"
      },
      "source": [
        "**Attrition and Years Since Last Promotion**"
      ]
    },
    {
      "cell_type": "code",
      "metadata": {
        "id": "8dQinX1l8Jdp",
        "colab_type": "code",
        "colab": {
          "base_uri": "https://localhost:8080/",
          "height": 34
        },
        "outputId": "983aee35-7adf-4eb5-a6f9-d7639b33e748"
      },
      "source": [
        "stats, p = mannwhitneyu(df1.YearsSinceLastPromotion, df0.YearsSinceLastPromotion)\n",
        "\n",
        "print (stats,p)"
      ],
      "execution_count": 127,
      "outputs": [
        {
          "output_type": "stream",
          "text": [
            "1196606.0 0.00037904698157957496\n"
          ],
          "name": "stdout"
        }
      ]
    },
    {
      "cell_type": "markdown",
      "metadata": {
        "id": "CHIj-0bSGsES",
        "colab_type": "text"
      },
      "source": [
        "H0: There is no significant differences in the years since last promotion between those who left and those who stayed in the company.\n",
        "\n",
        "Ha: There is significant differences in the years since last promotion  between those who left and those who stayed in the company.\n",
        "\n",
        "Since p < 0.05, alternative hypothesis is accepted."
      ]
    },
    {
      "cell_type": "markdown",
      "metadata": {
        "id": "qPkfY-1DGzc3",
        "colab_type": "text"
      },
      "source": [
        "**Attrition and Years with Current Manager**"
      ]
    },
    {
      "cell_type": "code",
      "metadata": {
        "id": "CT0sPMnqGp8F",
        "colab_type": "code",
        "colab": {
          "base_uri": "https://localhost:8080/",
          "height": 34
        },
        "outputId": "5448d966-748f-4fb0-bbb1-7467ace71884"
      },
      "source": [
        "stats, p = mannwhitneyu(df1.YearsWithCurrManager, df0.YearsWithCurrManager)\n",
        "\n",
        "print (stats,p)"
      ],
      "execution_count": 128,
      "outputs": [
        {
          "output_type": "stream",
          "text": [
            "945958.5 5.420302388722274e-31\n"
          ],
          "name": "stdout"
        }
      ]
    },
    {
      "cell_type": "markdown",
      "metadata": {
        "id": "9ROgvLjyG-AS",
        "colab_type": "text"
      },
      "source": [
        "H0: There is no significant differences in the years with current manager between those who left and those who stayed in the company.\n",
        "\n",
        "Ha: There is significant differences in the years with current manager between those who left and those who stayed in the company.\n",
        "\n",
        "Since p < 0.05, alternative hypothesis is accepted.\n",
        "\n"
      ]
    },
    {
      "cell_type": "markdown",
      "metadata": {
        "id": "NUC56hIYHoP8",
        "colab_type": "text"
      },
      "source": [
        "### **Two sample Independent t-test**"
      ]
    },
    {
      "cell_type": "code",
      "metadata": {
        "id": "nMIaK_g3G77U",
        "colab_type": "code",
        "colab": {
          "base_uri": "https://localhost:8080/",
          "height": 34
        },
        "outputId": "38377bc7-94db-42a8-c0ef-57cacc0e3b45"
      },
      "source": [
        "from scipy.stats import ttest_ind\n",
        "\n",
        "stats, p = ttest_ind(df1.Age, df0.Age)\n",
        "\n",
        "print (stats,p)"
      ],
      "execution_count": 138,
      "outputs": [
        {
          "output_type": "stream",
          "text": [
            "-10.617111568458819 5.126598219406314e-26\n"
          ],
          "name": "stdout"
        }
      ]
    },
    {
      "cell_type": "markdown",
      "metadata": {
        "id": "VziG6cRDIJ0P",
        "colab_type": "text"
      },
      "source": [
        "H0: There is no significant differences in the age of those who left and those who stayed in the company.\n",
        "\n",
        "Ha: There is significant differences in the age of those who left and those who stayed in the company.\n",
        "\n",
        "Since p < 0.05, alternative hypothesis is accepted."
      ]
    },
    {
      "cell_type": "markdown",
      "metadata": {
        "id": "Ha_2_l2sOOsU",
        "colab_type": "text"
      },
      "source": [
        "### **Chi Square Test**"
      ]
    },
    {
      "cell_type": "code",
      "metadata": {
        "id": "go0zo6vaJYix",
        "colab_type": "code",
        "colab": {}
      },
      "source": [
        "df_categorical = df[['Attrition', 'BusinessTravel', 'Department','Education', 'EducationField','Gender',\n",
        "       'JobLevel', 'JobRole', 'MaritalStatus','StockOptionLevel']]\n",
        "\n",
        "from sklearn.preprocessing import LabelEncoder\n",
        "df_coded = df_categorical.apply(LabelEncoder().fit_transform)"
      ],
      "execution_count": 167,
      "outputs": []
    },
    {
      "cell_type": "markdown",
      "metadata": {
        "id": "mXTiHHBqPH9P",
        "colab_type": "text"
      },
      "source": [
        "**Attrition and Marital Status**"
      ]
    },
    {
      "cell_type": "code",
      "metadata": {
        "id": "Ur9D48I0OJt6",
        "colab_type": "code",
        "colab": {
          "base_uri": "https://localhost:8080/",
          "height": 119
        },
        "outputId": "00354447-f847-4d8a-ce50-5273ab919d73"
      },
      "source": [
        "from scipy.stats import chi2_contingency\n",
        "\n",
        "# Divorded = 0, Married = 1, Single = 2\n",
        "\n",
        "chitable = pd.crosstab (df_coded.Attrition, df_coded.MaritalStatus)\n",
        "print (chitable,'\\n')\n",
        "\n",
        "stats, p, dof, expeted = chi2_contingency (chitable)\n",
        "print (stats, p)"
      ],
      "execution_count": 149,
      "outputs": [
        {
          "output_type": "stream",
          "text": [
            "MaritalStatus    0     1     2\n",
            "Attrition                     \n",
            "0              872  1756  1049\n",
            "1               98   251   356 \n",
            "\n",
            "133.85785802925156 8.573051828219379e-30\n"
          ],
          "name": "stdout"
        }
      ]
    },
    {
      "cell_type": "markdown",
      "metadata": {
        "id": "FwY0Bu9aO3Py",
        "colab_type": "text"
      },
      "source": [
        "H0: There is no dependency between Attrition and Marital Status.\n",
        "\n",
        "Ha: There is dependency between Attrition and Marital Status.\n",
        "\n",
        "Since p < 0.05, alternative hypothesis is accepted."
      ]
    },
    {
      "cell_type": "markdown",
      "metadata": {
        "id": "AsVxK1dPPYZP",
        "colab_type": "text"
      },
      "source": [
        "**Attrition and Business Travel**"
      ]
    },
    {
      "cell_type": "code",
      "metadata": {
        "id": "zfnw0rPqOgp5",
        "colab_type": "code",
        "colab": {
          "base_uri": "https://localhost:8080/",
          "height": 119
        },
        "outputId": "c0e9772b-6d83-4d92-af30-dd0d34e45b82"
      },
      "source": [
        "# Non Travel = 0, Travel Frequently = 1, Travel Rarely = 2\n",
        "\n",
        "chitable = pd.crosstab (df_coded.Attrition, df_coded.BusinessTravel)\n",
        "print (chitable,'\\n')\n",
        "\n",
        "stats, p, dof, expeted = chi2_contingency (chitable)\n",
        "print (stats, p)"
      ],
      "execution_count": 151,
      "outputs": [
        {
          "output_type": "stream",
          "text": [
            "BusinessTravel    0    1     2\n",
            "Attrition                     \n",
            "0               412  621  2644\n",
            "1                36  204   465 \n",
            "\n",
            "70.07594084831366 6.07019702736392e-16\n"
          ],
          "name": "stdout"
        }
      ]
    },
    {
      "cell_type": "markdown",
      "metadata": {
        "id": "0HVUD52FQa4v",
        "colab_type": "text"
      },
      "source": [
        "H0: There is no dependency between Attrition and Business Travel.\n",
        "\n",
        "Ha: There is dependency between Attrition and Business Travel.\n",
        "\n",
        "Since p < 0.05, alternative hypothesis is accepted."
      ]
    },
    {
      "cell_type": "markdown",
      "metadata": {
        "id": "qs7RYW0QQl2S",
        "colab_type": "text"
      },
      "source": [
        "**Attrition and Department**"
      ]
    },
    {
      "cell_type": "code",
      "metadata": {
        "id": "R7020_v3PhRN",
        "colab_type": "code",
        "colab": {
          "base_uri": "https://localhost:8080/",
          "height": 119
        },
        "outputId": "c72075d1-1d3c-4122-8f62-7a13530e8f01"
      },
      "source": [
        "# Human Resources = 0, Research & Development = 1, Sales = 2\n",
        "\n",
        "chitable = pd.crosstab (df_coded.Attrition, df_coded.Department)\n",
        "print (chitable,'\\n')\n",
        "\n",
        "stats, p, dof, expeted = chi2_contingency (chitable)\n",
        "print (stats, p)"
      ],
      "execution_count": 153,
      "outputs": [
        {
          "output_type": "stream",
          "text": [
            "Department    0     1     2\n",
            "Attrition                  \n",
            "0           132  2416  1129\n",
            "1            55   449   201 \n",
            "\n",
            "25.89432541916022 2.382970570769315e-06\n"
          ],
          "name": "stdout"
        }
      ]
    },
    {
      "cell_type": "markdown",
      "metadata": {
        "id": "DO1NLbyrRISR",
        "colab_type": "text"
      },
      "source": [
        "H0: There is no dependency between Attrition and Department.\n",
        "\n",
        "Ha: There is dependency between Attrition and Department.\n",
        "\n",
        "Since p < 0.05, alternative hypothesis is accepted."
      ]
    },
    {
      "cell_type": "markdown",
      "metadata": {
        "id": "Rz3ctnEjRQFu",
        "colab_type": "text"
      },
      "source": [
        "**Attrition and Education**"
      ]
    },
    {
      "cell_type": "code",
      "metadata": {
        "id": "43L7LMyNQzJp",
        "colab_type": "code",
        "colab": {
          "base_uri": "https://localhost:8080/",
          "height": 119
        },
        "outputId": "4db6f2e1-f952-4d93-aa15-67cb8c44c1a0"
      },
      "source": [
        "# Below College = 0, College = 1, Bachelor = 2, Masters = 3, Doctor = 4\n",
        "\n",
        "chitable = pd.crosstab (df_coded.Attrition, df_coded.Education)\n",
        "print (chitable,'\\n')\n",
        "\n",
        "stats, p, dof, expeted = chi2_contingency (chitable)\n",
        "print (stats, p)"
      ],
      "execution_count": 156,
      "outputs": [
        {
          "output_type": "stream",
          "text": [
            "Education    0    1     2     3    4\n",
            "Attrition                           \n",
            "0          430  683  1438  1003  123\n",
            "1           78  159   263   185   20 \n",
            "\n",
            "6.2735361781270615 0.17963050984273224\n"
          ],
          "name": "stdout"
        }
      ]
    },
    {
      "cell_type": "markdown",
      "metadata": {
        "id": "e2l_jYCwSo_9",
        "colab_type": "text"
      },
      "source": [
        "H0: There is no dependency between Attrition and Education.\n",
        "\n",
        "Ha: There is dependency between Attrition and Education.\n",
        "\n",
        "Since p > 0.05, null hypothesis is accepted."
      ]
    },
    {
      "cell_type": "markdown",
      "metadata": {
        "id": "Z9_i-AG6S98g",
        "colab_type": "text"
      },
      "source": [
        "**Attrition and Education Field**"
      ]
    },
    {
      "cell_type": "code",
      "metadata": {
        "id": "9bFa3Zn0RuZD",
        "colab_type": "code",
        "colab": {
          "base_uri": "https://localhost:8080/",
          "height": 119
        },
        "outputId": "ca0b45fd-5c3b-438c-f614-e472511d1f09"
      },
      "source": [
        "chitable = pd.crosstab (df_coded.Attrition, df_coded.EducationField)\n",
        "print (chitable,'\\n')\n",
        "\n",
        "stats, p, dof, expeted = chi2_contingency (chitable)\n",
        "print (stats, p)"
      ],
      "execution_count": 158,
      "outputs": [
        {
          "output_type": "stream",
          "text": [
            "EducationField   0     1    2     3    4    5\n",
            "Attrition                                    \n",
            "0               48  1505  400  1163  214  347\n",
            "1               32   301   75   222   30   45 \n",
            "\n",
            "43.132860148900384 3.472896220587872e-08\n"
          ],
          "name": "stdout"
        }
      ]
    },
    {
      "cell_type": "markdown",
      "metadata": {
        "id": "uhLAeYshTjWx",
        "colab_type": "text"
      },
      "source": [
        "H0: There is no dependency between Attrition and Education Field.\n",
        "\n",
        "Ha: There is dependency between Attrition and Education Field.\n",
        "\n",
        "Since p < 0.05, alternative hypothesis is accepted."
      ]
    },
    {
      "cell_type": "markdown",
      "metadata": {
        "id": "E1G8M_47TtMt",
        "colab_type": "text"
      },
      "source": [
        "**Attrition and Gender**"
      ]
    },
    {
      "cell_type": "code",
      "metadata": {
        "id": "bE_QX_RhTC8s",
        "colab_type": "code",
        "colab": {
          "base_uri": "https://localhost:8080/",
          "height": 119
        },
        "outputId": "c72474e9-e613-4542-e443-5dc8de2ba51f"
      },
      "source": [
        "# Female = 0, Male = 1\n",
        "\n",
        "chitable = pd.crosstab (df_coded.Attrition, df_coded.Gender)\n",
        "print (chitable,'\\n')\n",
        "\n",
        "stats, p, dof, expeted = chi2_contingency (chitable)\n",
        "print (stats, p)"
      ],
      "execution_count": 160,
      "outputs": [
        {
          "output_type": "stream",
          "text": [
            "Gender        0     1\n",
            "Attrition            \n",
            "0          1488  2189\n",
            "1           268   437 \n",
            "\n",
            "1.3825823839528295 0.23966176275638887\n"
          ],
          "name": "stdout"
        }
      ]
    },
    {
      "cell_type": "markdown",
      "metadata": {
        "id": "qkgTR_gvUHw-",
        "colab_type": "text"
      },
      "source": [
        "H0: There is no dependency between Attrition and Gender.\n",
        "\n",
        "Ha: There is dependency between Attrition and Gender.\n",
        "\n",
        "Since p > 0.05, null hypothesis is accepted."
      ]
    },
    {
      "cell_type": "markdown",
      "metadata": {
        "id": "SH1jmVZPUVTt",
        "colab_type": "text"
      },
      "source": [
        "**Attrition and Job Level**"
      ]
    },
    {
      "cell_type": "code",
      "metadata": {
        "id": "SecmqnOfUZYR",
        "colab_type": "code",
        "colab": {
          "base_uri": "https://localhost:8080/",
          "height": 119
        },
        "outputId": "845a518f-942f-449d-ab88-f47625ca9599"
      },
      "source": [
        "chitable = pd.crosstab (df_coded.Attrition, df_coded.JobLevel)\n",
        "print (chitable,'\\n')\n",
        "\n",
        "stats, p, dof, expeted = chi2_contingency (chitable)\n",
        "print (stats, p)"
      ],
      "execution_count": 164,
      "outputs": [
        {
          "output_type": "stream",
          "text": [
            "JobLevel      0     1    2    3    4\n",
            "Attrition                           \n",
            "0          1369  1307  555  267  179\n",
            "1           250   283   96   51   25 \n",
            "\n",
            "7.036480574687178 0.13397290697032432\n"
          ],
          "name": "stdout"
        }
      ]
    },
    {
      "cell_type": "markdown",
      "metadata": {
        "id": "eHGWtr-mUk6-",
        "colab_type": "text"
      },
      "source": [
        "H0: There is no dependency between Attrition and Job Level.\n",
        "\n",
        "Ha: There is dependency between Attrition and Job Level.\n",
        "\n",
        "Since p > 0.05, null hypothesis is accepted."
      ]
    },
    {
      "cell_type": "markdown",
      "metadata": {
        "id": "QxOiPHuoUq9X",
        "colab_type": "text"
      },
      "source": [
        "**Attrition and Job Role**"
      ]
    },
    {
      "cell_type": "code",
      "metadata": {
        "id": "qUfYIBIBUu1B",
        "colab_type": "code",
        "colab": {
          "base_uri": "https://localhost:8080/",
          "height": 119
        },
        "outputId": "cc5fc35b-7a2d-4a6b-9128-473656064220"
      },
      "source": [
        "chitable = pd.crosstab (df_coded.Attrition, df_coded.JobRole)\n",
        "print (chitable,'\\n')\n",
        "\n",
        "stats, p, dof, expeted = chi2_contingency (chitable)\n",
        "print (stats, p)"
      ],
      "execution_count": 165,
      "outputs": [
        {
          "output_type": "stream",
          "text": [
            "JobRole      0    1    2    3    4    5    6    7    8\n",
            "Attrition                                             \n",
            "0          333  135  648  263  381  183  714  810  210\n",
            "1           56   21  125   42   48   54  158  165   36 \n",
            "\n",
            "21.893724958847 0.005116592717526599\n"
          ],
          "name": "stdout"
        }
      ]
    },
    {
      "cell_type": "markdown",
      "metadata": {
        "id": "3vF1H3qPU6Ph",
        "colab_type": "text"
      },
      "source": [
        "H0: There is no dependency between Attrition and Job Role.\n",
        "\n",
        "Ha: There is dependency between Attrition and Job Role.\n",
        "\n",
        "Since p < 0.05, alternative hypothesis is accepted."
      ]
    },
    {
      "cell_type": "markdown",
      "metadata": {
        "id": "6bPmXRw9VG73",
        "colab_type": "text"
      },
      "source": [
        "**Attrition and Stock Option Level**"
      ]
    },
    {
      "cell_type": "code",
      "metadata": {
        "id": "gdzeYhkdVNDX",
        "colab_type": "code",
        "colab": {
          "base_uri": "https://localhost:8080/",
          "height": 119
        },
        "outputId": "ecf778f3-4012-4c4d-d4ff-0a73763c96a5"
      },
      "source": [
        "chitable = pd.crosstab (df_coded.Attrition, df_coded.StockOptionLevel)\n",
        "print (chitable,'\\n')\n",
        "\n",
        "stats, p, dof, expeted = chi2_contingency (chitable)\n",
        "print (stats, p)"
      ],
      "execution_count": 166,
      "outputs": [
        {
          "output_type": "stream",
          "text": [
            "StockOptionLevel     0     1    2    3\n",
            "Attrition                             \n",
            "0                 1564  1509  388  216\n",
            "1                  316   267   84   38 \n",
            "\n",
            "3.444801419724394 0.32799207189761653\n"
          ],
          "name": "stdout"
        }
      ]
    },
    {
      "cell_type": "markdown",
      "metadata": {
        "id": "YkvPf7y5VKkA",
        "colab_type": "text"
      },
      "source": [
        "H0: There is no dependency between Attrition and Stock Option Level.\n",
        "\n",
        "Ha: There is dependency between Attrition and Stock Option Level.\n",
        "\n",
        "Since p > 0.05, null hypothesis is accepted."
      ]
    },
    {
      "cell_type": "markdown",
      "metadata": {
        "id": "fWFZ3IINWQBb",
        "colab_type": "text"
      },
      "source": [
        "### **Preliminary Conclusion**\n",
        "\n",
        "From the analysis above, the probable variables that are important to be addressed includes:\n",
        "\n",
        "1.   Age\n",
        "2.   Total Working Years\n",
        "3.   Years with Current Manager\n",
        "4.   Percentage of Salary Hike\n",
        "5.   Years since Last promotion\n",
        "6.   Marital Status\n",
        "7.   Department\n",
        "8.   Business Travel\n",
        "9.   Education Field\n",
        "10.  Job Role\n",
        "\n",
        "\n"
      ]
    },
    {
      "cell_type": "code",
      "metadata": {
        "id": "urX16eGFXzqW",
        "colab_type": "code",
        "colab": {}
      },
      "source": [
        ""
      ],
      "execution_count": null,
      "outputs": []
    }
  ]
}